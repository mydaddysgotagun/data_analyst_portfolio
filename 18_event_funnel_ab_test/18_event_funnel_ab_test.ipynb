{
 "cells": [
  {
   "cell_type": "markdown",
   "metadata": {},
   "source": [
    "# Проверка результатов А/В-теста рекомендательной системы\n",
    "\n",
    "**Описание исследования**\n",
    "\n",
    "Заказчик планирует внести изменения в рекомендательную систему. Чтобы проверить, что новая система действительно положительно влияет на прохождение воронки продаж, был проведен А/В-тест.\n",
    "\n",
    "Ожидается, что в экспериментальной группе конверсия на каждом этапе воронки вырастет как минимум на 10%.\n",
    "\n",
    "\n",
    "**Цель работы**\n",
    "\n",
    "- Оценить корректность проведения теста и соответствие ТЗ;\n",
    "- Проанализировать результаты теста.\n",
    "\n",
    "**Техническое задание к А/В-тесту**\n",
    "\n",
    "- Название теста: `recommender_system_test`\n",
    "- Группы: \n",
    "    - А — контрольная\n",
    "    - B — новая платёжная воронка\n",
    "- Дата запуска: 2020-12-07\n",
    "- Дата остановки набора новых пользователей: 2020-12-21\n",
    "- Дата остановки: 2021-01-04\n",
    "- Аудитория: в тест должно быть отобрано 15% новых пользователей из региона EU\n",
    "- Назначение теста: тестирование изменений, связанных с внедрением улучшенной рекомендательной системы\n",
    "- Ожидаемое количество участников теста: 6000\n",
    "- Ожидаемый эффект: за 14 дней с момента регистрации пользователи покажут улучшение каждой метрики не менее, чем на 10%\n",
    "    - конверсии в просмотр карточек товаров — событие `product_page`\n",
    "    - просмотры корзины — `product_cart`\n",
    "    - покупки — `purchase`\n",
    "\n",
    "**План работы**\n",
    "\n",
    "1. [Предобработка данных](#cleaning)\n",
    "2. [Проверка корректности проведения теста](#soundcheck)\n",
    "- Соответствие ТЗ\n",
    "- Время проведения\n",
    "- Пересечения с другими тестами\n",
    "- Распределение по группам\n",
    "3. [Исследовательский анализ данных](#eda)\n",
    "- Число событий на пользователя по группам\n",
    "- Число событий по дням\n",
    "- Конверсия на этапах воронки\n",
    "4. [Проверка результатов А/В-теста](#no_use)\n",
    "- Результаты группы В\n",
    "- Статистический тест на равенство долей\n",
    "5. [Общий вывод](#gen_concl)\n",
    "\n",
    "**Данные**\n",
    "\n",
    "- `ab_project_marketing_events.csv` — календарь маркетинговых событий на 2020 год;\n",
    "- `final_ab_new_users.csv` — пользователи, зарегистрировавшиеся с 7 до 21 декабря 2020 года;\n",
    "- `final_ab_events.csv` — действия новых пользователей в период с 7 декабря 2020 по 4 января 2021 года;\n",
    "- `final_ab_participants.csv` — таблица участников тестов."
   ]
  },
  {
   "cell_type": "markdown",
   "metadata": {},
   "source": [
    "## Подготовка данных\n",
    "\n",
    "Загрузим нужные библиотеки и определим функции для предобработки."
   ]
  },
  {
   "cell_type": "code",
   "execution_count": 610,
   "metadata": {},
   "outputs": [],
   "source": [
    "# импорт библиотек\n",
    "\n",
    "# стандартные\n",
    "import datetime as dt\n",
    "from datetime import timedelta\n",
    "import warnings\n",
    "\n",
    "# панды и визуализация\n",
    "import pandas as pd\n",
    "import matplotlib.pyplot as plt\n",
    "import seaborn as sns\n",
    "import plotly.express as px\n",
    "\n",
    "# математика \n",
    "import numpy as np\n",
    "from statsmodels.stats.proportion import proportions_ztest"
   ]
  },
  {
   "cell_type": "code",
   "execution_count": 611,
   "metadata": {},
   "outputs": [],
   "source": [
    "# функции для предобработки\n",
    "\n",
    "def preview(df):\n",
    "    '''Выводит основную информацию о датафрейме, случайные 10 строк и количество полных дубликатов.'''\n",
    "    print(df.info())\n",
    "    display(df.sample(10, random_state=77))\n",
    "    print(f'\\nПолностью дублирующихся строк: {df.duplicated().sum()}')\n",
    "    \n",
    "def na_detector(df):\n",
    "    '''Возвращает число и процент пропусков по столбцам (только те столбцы, в которых есть пропуски).'''\n",
    "    na_cols = pd.DataFrame(\n",
    "        {'Число_пропусков' : df.isna().sum(), \n",
    "         'Процент' : round(df.isna().mean()*100, 1)}\n",
    "        ).query('Число_пропусков > 0')\n",
    "    return na_cols\n",
    "\n",
    "def na_pct_by_col(df, grouping_col='col'):\n",
    "    '''Группирует данные по указанному столбцу и рассчитывает процент пропусков для каждой группы \n",
    "    для всех признаков, где есть пропущенные значения. Использует функцию na_detector.'''\n",
    "    na_cols = na_detector(df)\n",
    "    na_grouped_dict = {}\n",
    "    if grouping_col == 'col':\n",
    "        print('Не указан столбец для группировки.')\n",
    "    else:\n",
    "        for col in na_cols.index:\n",
    "            na_grouped_dict[col] = (\n",
    "                df.groupby(grouping_col).apply(lambda x: round(x[col].isna().mean()*100, 1))\n",
    "            )\n",
    "        na_grouped = pd.DataFrame(na_grouped_dict)\n",
    "        return na_grouped"
   ]
  },
  {
   "cell_type": "markdown",
   "metadata": {},
   "source": [
    "### Загрузка и просмотр исходных данных\n",
    "\n",
    "Загрузим 4 датасета в соответствующие переменные и просмотрим основную информацию о каждом."
   ]
  },
  {
   "cell_type": "code",
   "execution_count": 612,
   "metadata": {},
   "outputs": [],
   "source": [
    "path = 'https://code.s3.yandex.net/datasets/'\n",
    "\n",
    "try:\n",
    "    ab_raw = pd.read_csv(path + 'final_ab_participants.csv')\n",
    "    users_raw = pd.read_csv(path + 'final_ab_new_users.csv')\n",
    "    events_raw = pd.read_csv(path + 'final_ab_events.csv')\n",
    "    marketing_events_raw = pd.read_csv(path + 'ab_project_marketing_events.csv')\n",
    "except:\n",
    "    print('Проверить путь и/или имя файла.')"
   ]
  },
  {
   "cell_type": "markdown",
   "metadata": {},
   "source": [
    "Первый датасет – участники теста."
   ]
  },
  {
   "cell_type": "code",
   "execution_count": 613,
   "metadata": {},
   "outputs": [
    {
     "name": "stdout",
     "output_type": "stream",
     "text": [
      "<class 'pandas.core.frame.DataFrame'>\n",
      "RangeIndex: 18268 entries, 0 to 18267\n",
      "Data columns (total 3 columns):\n",
      " #   Column   Non-Null Count  Dtype \n",
      "---  ------   --------------  ----- \n",
      " 0   user_id  18268 non-null  object\n",
      " 1   group    18268 non-null  object\n",
      " 2   ab_test  18268 non-null  object\n",
      "dtypes: object(3)\n",
      "memory usage: 428.3+ KB\n",
      "None\n"
     ]
    },
    {
     "data": {
      "text/html": [
       "<div>\n",
       "<style scoped>\n",
       "    .dataframe tbody tr th:only-of-type {\n",
       "        vertical-align: middle;\n",
       "    }\n",
       "\n",
       "    .dataframe tbody tr th {\n",
       "        vertical-align: top;\n",
       "    }\n",
       "\n",
       "    .dataframe thead th {\n",
       "        text-align: right;\n",
       "    }\n",
       "</style>\n",
       "<table border=\"1\" class=\"dataframe\">\n",
       "  <thead>\n",
       "    <tr style=\"text-align: right;\">\n",
       "      <th></th>\n",
       "      <th>user_id</th>\n",
       "      <th>group</th>\n",
       "      <th>ab_test</th>\n",
       "    </tr>\n",
       "  </thead>\n",
       "  <tbody>\n",
       "    <tr>\n",
       "      <th>9642</th>\n",
       "      <td>7448A9A617B6A55D</td>\n",
       "      <td>B</td>\n",
       "      <td>interface_eu_test</td>\n",
       "    </tr>\n",
       "    <tr>\n",
       "      <th>1024</th>\n",
       "      <td>B20F60904CDDFA77</td>\n",
       "      <td>A</td>\n",
       "      <td>recommender_system_test</td>\n",
       "    </tr>\n",
       "    <tr>\n",
       "      <th>1681</th>\n",
       "      <td>1675B921AC721DBE</td>\n",
       "      <td>A</td>\n",
       "      <td>recommender_system_test</td>\n",
       "    </tr>\n",
       "    <tr>\n",
       "      <th>2059</th>\n",
       "      <td>AD8FDC549AE56322</td>\n",
       "      <td>B</td>\n",
       "      <td>recommender_system_test</td>\n",
       "    </tr>\n",
       "    <tr>\n",
       "      <th>12507</th>\n",
       "      <td>29712D184A6377C0</td>\n",
       "      <td>A</td>\n",
       "      <td>interface_eu_test</td>\n",
       "    </tr>\n",
       "    <tr>\n",
       "      <th>6541</th>\n",
       "      <td>174AC9628248653E</td>\n",
       "      <td>A</td>\n",
       "      <td>recommender_system_test</td>\n",
       "    </tr>\n",
       "    <tr>\n",
       "      <th>4158</th>\n",
       "      <td>8F982481F1B37414</td>\n",
       "      <td>B</td>\n",
       "      <td>recommender_system_test</td>\n",
       "    </tr>\n",
       "    <tr>\n",
       "      <th>17809</th>\n",
       "      <td>DE288F045E8FBF5C</td>\n",
       "      <td>A</td>\n",
       "      <td>interface_eu_test</td>\n",
       "    </tr>\n",
       "    <tr>\n",
       "      <th>13889</th>\n",
       "      <td>D755F72C453BF6A7</td>\n",
       "      <td>B</td>\n",
       "      <td>interface_eu_test</td>\n",
       "    </tr>\n",
       "    <tr>\n",
       "      <th>16034</th>\n",
       "      <td>5BCF882D90F5BD91</td>\n",
       "      <td>B</td>\n",
       "      <td>interface_eu_test</td>\n",
       "    </tr>\n",
       "  </tbody>\n",
       "</table>\n",
       "</div>"
      ],
      "text/plain": [
       "                user_id group                  ab_test\n",
       "9642   7448A9A617B6A55D     B        interface_eu_test\n",
       "1024   B20F60904CDDFA77     A  recommender_system_test\n",
       "1681   1675B921AC721DBE     A  recommender_system_test\n",
       "2059   AD8FDC549AE56322     B  recommender_system_test\n",
       "12507  29712D184A6377C0     A        interface_eu_test\n",
       "6541   174AC9628248653E     A  recommender_system_test\n",
       "4158   8F982481F1B37414     B  recommender_system_test\n",
       "17809  DE288F045E8FBF5C     A        interface_eu_test\n",
       "13889  D755F72C453BF6A7     B        interface_eu_test\n",
       "16034  5BCF882D90F5BD91     B        interface_eu_test"
      ]
     },
     "metadata": {},
     "output_type": "display_data"
    },
    {
     "name": "stdout",
     "output_type": "stream",
     "text": [
      "\n",
      "Полностью дублирующихся строк: 0\n"
     ]
    }
   ],
   "source": [
    "preview(ab_raw)"
   ]
  },
  {
   "cell_type": "markdown",
   "metadata": {},
   "source": [
    "Имеем 18268 наблюдений, но информация об участниках сразу двух тестов. Нам нужен `recommender_system_test`. На этапе предобработки важно проверить, что каждый пользователь участвовал только в одном тесте.\n",
    "\n",
    "Второй датасет – пользователи, зарегистрировавшиеся за две недели с 7 до 21 декабря 2020 года. Из них выбирались участники А/В-теста."
   ]
  },
  {
   "cell_type": "code",
   "execution_count": 614,
   "metadata": {},
   "outputs": [
    {
     "name": "stdout",
     "output_type": "stream",
     "text": [
      "<class 'pandas.core.frame.DataFrame'>\n",
      "RangeIndex: 61733 entries, 0 to 61732\n",
      "Data columns (total 4 columns):\n",
      " #   Column      Non-Null Count  Dtype \n",
      "---  ------      --------------  ----- \n",
      " 0   user_id     61733 non-null  object\n",
      " 1   first_date  61733 non-null  object\n",
      " 2   region      61733 non-null  object\n",
      " 3   device      61733 non-null  object\n",
      "dtypes: object(4)\n",
      "memory usage: 1.9+ MB\n",
      "None\n"
     ]
    },
    {
     "data": {
      "text/html": [
       "<div>\n",
       "<style scoped>\n",
       "    .dataframe tbody tr th:only-of-type {\n",
       "        vertical-align: middle;\n",
       "    }\n",
       "\n",
       "    .dataframe tbody tr th {\n",
       "        vertical-align: top;\n",
       "    }\n",
       "\n",
       "    .dataframe thead th {\n",
       "        text-align: right;\n",
       "    }\n",
       "</style>\n",
       "<table border=\"1\" class=\"dataframe\">\n",
       "  <thead>\n",
       "    <tr style=\"text-align: right;\">\n",
       "      <th></th>\n",
       "      <th>user_id</th>\n",
       "      <th>first_date</th>\n",
       "      <th>region</th>\n",
       "      <th>device</th>\n",
       "    </tr>\n",
       "  </thead>\n",
       "  <tbody>\n",
       "    <tr>\n",
       "      <th>9634</th>\n",
       "      <td>BE75BA229F839D87</td>\n",
       "      <td>2020-12-14</td>\n",
       "      <td>APAC</td>\n",
       "      <td>iPhone</td>\n",
       "    </tr>\n",
       "    <tr>\n",
       "      <th>22846</th>\n",
       "      <td>BDC1CDF48F4E9E62</td>\n",
       "      <td>2020-12-15</td>\n",
       "      <td>EU</td>\n",
       "      <td>Android</td>\n",
       "    </tr>\n",
       "    <tr>\n",
       "      <th>34783</th>\n",
       "      <td>E323B7C38A99C320</td>\n",
       "      <td>2020-12-10</td>\n",
       "      <td>EU</td>\n",
       "      <td>Android</td>\n",
       "    </tr>\n",
       "    <tr>\n",
       "      <th>57470</th>\n",
       "      <td>34D31B1BC509F5AA</td>\n",
       "      <td>2020-12-20</td>\n",
       "      <td>EU</td>\n",
       "      <td>Android</td>\n",
       "    </tr>\n",
       "    <tr>\n",
       "      <th>58928</th>\n",
       "      <td>55144501EFCDA38E</td>\n",
       "      <td>2020-12-20</td>\n",
       "      <td>EU</td>\n",
       "      <td>Android</td>\n",
       "    </tr>\n",
       "    <tr>\n",
       "      <th>22168</th>\n",
       "      <td>1CCF3D75719B89A1</td>\n",
       "      <td>2020-12-15</td>\n",
       "      <td>APAC</td>\n",
       "      <td>PC</td>\n",
       "    </tr>\n",
       "    <tr>\n",
       "      <th>59748</th>\n",
       "      <td>7C7A1ED64E9EBD13</td>\n",
       "      <td>2020-12-20</td>\n",
       "      <td>CIS</td>\n",
       "      <td>Android</td>\n",
       "    </tr>\n",
       "    <tr>\n",
       "      <th>38353</th>\n",
       "      <td>E6CE0E097E57AD2C</td>\n",
       "      <td>2020-12-17</td>\n",
       "      <td>N.America</td>\n",
       "      <td>Android</td>\n",
       "    </tr>\n",
       "    <tr>\n",
       "      <th>6716</th>\n",
       "      <td>A443BF83E7D75969</td>\n",
       "      <td>2020-12-14</td>\n",
       "      <td>EU</td>\n",
       "      <td>PC</td>\n",
       "    </tr>\n",
       "    <tr>\n",
       "      <th>21545</th>\n",
       "      <td>C6FCCECD4166677B</td>\n",
       "      <td>2020-12-15</td>\n",
       "      <td>EU</td>\n",
       "      <td>Mac</td>\n",
       "    </tr>\n",
       "  </tbody>\n",
       "</table>\n",
       "</div>"
      ],
      "text/plain": [
       "                user_id  first_date     region   device\n",
       "9634   BE75BA229F839D87  2020-12-14       APAC   iPhone\n",
       "22846  BDC1CDF48F4E9E62  2020-12-15         EU  Android\n",
       "34783  E323B7C38A99C320  2020-12-10         EU  Android\n",
       "57470  34D31B1BC509F5AA  2020-12-20         EU  Android\n",
       "58928  55144501EFCDA38E  2020-12-20         EU  Android\n",
       "22168  1CCF3D75719B89A1  2020-12-15       APAC       PC\n",
       "59748  7C7A1ED64E9EBD13  2020-12-20        CIS  Android\n",
       "38353  E6CE0E097E57AD2C  2020-12-17  N.America  Android\n",
       "6716   A443BF83E7D75969  2020-12-14         EU       PC\n",
       "21545  C6FCCECD4166677B  2020-12-15         EU      Mac"
      ]
     },
     "metadata": {},
     "output_type": "display_data"
    },
    {
     "name": "stdout",
     "output_type": "stream",
     "text": [
      "\n",
      "Полностью дублирующихся строк: 0\n"
     ]
    }
   ],
   "source": [
    "preview(users_raw)"
   ]
  },
  {
   "cell_type": "markdown",
   "metadata": {},
   "source": [
    "За две недели привлекли 61733 новых пользователей. В столбце с датой регистрации нужно изменить тип данных.\n",
    "\n",
    "Имеем пользователей из нескольких регионов. Также есть разбивка по устройствам первого входа.\n",
    "\n",
    "Третий датасет – события, которые совершали новые пользователи в период с 7 декабря 2020 по 4 января 2021 года (четыре недели)."
   ]
  },
  {
   "cell_type": "code",
   "execution_count": 615,
   "metadata": {},
   "outputs": [
    {
     "name": "stdout",
     "output_type": "stream",
     "text": [
      "<class 'pandas.core.frame.DataFrame'>\n",
      "RangeIndex: 440317 entries, 0 to 440316\n",
      "Data columns (total 4 columns):\n",
      " #   Column      Non-Null Count   Dtype  \n",
      "---  ------      --------------   -----  \n",
      " 0   user_id     440317 non-null  object \n",
      " 1   event_dt    440317 non-null  object \n",
      " 2   event_name  440317 non-null  object \n",
      " 3   details     62740 non-null   float64\n",
      "dtypes: float64(1), object(3)\n",
      "memory usage: 13.4+ MB\n",
      "None\n"
     ]
    },
    {
     "data": {
      "text/html": [
       "<div>\n",
       "<style scoped>\n",
       "    .dataframe tbody tr th:only-of-type {\n",
       "        vertical-align: middle;\n",
       "    }\n",
       "\n",
       "    .dataframe tbody tr th {\n",
       "        vertical-align: top;\n",
       "    }\n",
       "\n",
       "    .dataframe thead th {\n",
       "        text-align: right;\n",
       "    }\n",
       "</style>\n",
       "<table border=\"1\" class=\"dataframe\">\n",
       "  <thead>\n",
       "    <tr style=\"text-align: right;\">\n",
       "      <th></th>\n",
       "      <th>user_id</th>\n",
       "      <th>event_dt</th>\n",
       "      <th>event_name</th>\n",
       "      <th>details</th>\n",
       "    </tr>\n",
       "  </thead>\n",
       "  <tbody>\n",
       "    <tr>\n",
       "      <th>31338</th>\n",
       "      <td>A04A7C6990938934</td>\n",
       "      <td>2020-12-19 11:10:56</td>\n",
       "      <td>purchase</td>\n",
       "      <td>4.99</td>\n",
       "    </tr>\n",
       "    <tr>\n",
       "      <th>434932</th>\n",
       "      <td>A0B865AD5BA42A57</td>\n",
       "      <td>2020-12-28 01:55:42</td>\n",
       "      <td>login</td>\n",
       "      <td>NaN</td>\n",
       "    </tr>\n",
       "    <tr>\n",
       "      <th>150304</th>\n",
       "      <td>52817580004E4389</td>\n",
       "      <td>2020-12-13 14:44:28</td>\n",
       "      <td>product_page</td>\n",
       "      <td>NaN</td>\n",
       "    </tr>\n",
       "    <tr>\n",
       "      <th>190592</th>\n",
       "      <td>0BAEE1822A552231</td>\n",
       "      <td>2020-12-19 07:16:27</td>\n",
       "      <td>product_page</td>\n",
       "      <td>NaN</td>\n",
       "    </tr>\n",
       "    <tr>\n",
       "      <th>316456</th>\n",
       "      <td>1CF7598BEF22D91D</td>\n",
       "      <td>2020-12-16 02:28:36</td>\n",
       "      <td>login</td>\n",
       "      <td>NaN</td>\n",
       "    </tr>\n",
       "    <tr>\n",
       "      <th>38776</th>\n",
       "      <td>64B5CEB2FDC0ADA6</td>\n",
       "      <td>2020-12-21 23:56:32</td>\n",
       "      <td>purchase</td>\n",
       "      <td>4.99</td>\n",
       "    </tr>\n",
       "    <tr>\n",
       "      <th>40895</th>\n",
       "      <td>F386843B0205EA26</td>\n",
       "      <td>2020-12-21 08:08:54</td>\n",
       "      <td>purchase</td>\n",
       "      <td>9.99</td>\n",
       "    </tr>\n",
       "    <tr>\n",
       "      <th>42152</th>\n",
       "      <td>7C6F25E8F9096A75</td>\n",
       "      <td>2020-12-21 00:55:43</td>\n",
       "      <td>purchase</td>\n",
       "      <td>4.99</td>\n",
       "    </tr>\n",
       "    <tr>\n",
       "      <th>294461</th>\n",
       "      <td>F2501C92AD504A55</td>\n",
       "      <td>2020-12-13 07:47:58</td>\n",
       "      <td>login</td>\n",
       "      <td>NaN</td>\n",
       "    </tr>\n",
       "    <tr>\n",
       "      <th>234266</th>\n",
       "      <td>797FCDC85F693042</td>\n",
       "      <td>2020-12-25 06:20:44</td>\n",
       "      <td>product_page</td>\n",
       "      <td>NaN</td>\n",
       "    </tr>\n",
       "  </tbody>\n",
       "</table>\n",
       "</div>"
      ],
      "text/plain": [
       "                 user_id             event_dt    event_name  details\n",
       "31338   A04A7C6990938934  2020-12-19 11:10:56      purchase     4.99\n",
       "434932  A0B865AD5BA42A57  2020-12-28 01:55:42         login      NaN\n",
       "150304  52817580004E4389  2020-12-13 14:44:28  product_page      NaN\n",
       "190592  0BAEE1822A552231  2020-12-19 07:16:27  product_page      NaN\n",
       "316456  1CF7598BEF22D91D  2020-12-16 02:28:36         login      NaN\n",
       "38776   64B5CEB2FDC0ADA6  2020-12-21 23:56:32      purchase     4.99\n",
       "40895   F386843B0205EA26  2020-12-21 08:08:54      purchase     9.99\n",
       "42152   7C6F25E8F9096A75  2020-12-21 00:55:43      purchase     4.99\n",
       "294461  F2501C92AD504A55  2020-12-13 07:47:58         login      NaN\n",
       "234266  797FCDC85F693042  2020-12-25 06:20:44  product_page      NaN"
      ]
     },
     "metadata": {},
     "output_type": "display_data"
    },
    {
     "name": "stdout",
     "output_type": "stream",
     "text": [
      "\n",
      "Полностью дублирующихся строк: 0\n"
     ]
    }
   ],
   "source": [
    "preview(events_raw)"
   ]
  },
  {
   "cell_type": "markdown",
   "metadata": {},
   "source": [
    "За месяц новые пользователи совершили более 440 тыс. событий. \n",
    "\n",
    "Есть пропущенные значения в столбце `details` – столбец похож на стоимость покупки, которая заполняется только если пользователь дошел до этого этапа воронки. Если все значения для события `purchase` заполнены, то пропуски не представляют проблемы. Проверим на этапе предобработки.\n",
    "\n",
    "В столбце с датой и временем события нужно изменить тип данных.\n",
    "\n",
    "Последний, четвертый датасет – календарь маркетинговых событий на 2020 год. Корректно проведенный тест не должен совпадать по времени с событиями, на протяжении которых поведение пользователей отличается от обычного."
   ]
  },
  {
   "cell_type": "code",
   "execution_count": 616,
   "metadata": {},
   "outputs": [
    {
     "name": "stdout",
     "output_type": "stream",
     "text": [
      "<class 'pandas.core.frame.DataFrame'>\n",
      "RangeIndex: 14 entries, 0 to 13\n",
      "Data columns (total 4 columns):\n",
      " #   Column     Non-Null Count  Dtype \n",
      "---  ------     --------------  ----- \n",
      " 0   name       14 non-null     object\n",
      " 1   regions    14 non-null     object\n",
      " 2   start_dt   14 non-null     object\n",
      " 3   finish_dt  14 non-null     object\n",
      "dtypes: object(4)\n",
      "memory usage: 576.0+ bytes\n",
      "None\n"
     ]
    },
    {
     "data": {
      "text/html": [
       "<div>\n",
       "<style scoped>\n",
       "    .dataframe tbody tr th:only-of-type {\n",
       "        vertical-align: middle;\n",
       "    }\n",
       "\n",
       "    .dataframe tbody tr th {\n",
       "        vertical-align: top;\n",
       "    }\n",
       "\n",
       "    .dataframe thead th {\n",
       "        text-align: right;\n",
       "    }\n",
       "</style>\n",
       "<table border=\"1\" class=\"dataframe\">\n",
       "  <thead>\n",
       "    <tr style=\"text-align: right;\">\n",
       "      <th></th>\n",
       "      <th>name</th>\n",
       "      <th>regions</th>\n",
       "      <th>start_dt</th>\n",
       "      <th>finish_dt</th>\n",
       "    </tr>\n",
       "  </thead>\n",
       "  <tbody>\n",
       "    <tr>\n",
       "      <th>13</th>\n",
       "      <td>Chinese Moon Festival</td>\n",
       "      <td>APAC</td>\n",
       "      <td>2020-10-01</td>\n",
       "      <td>2020-10-07</td>\n",
       "    </tr>\n",
       "    <tr>\n",
       "      <th>6</th>\n",
       "      <td>Chinese New Year Promo</td>\n",
       "      <td>APAC</td>\n",
       "      <td>2020-01-25</td>\n",
       "      <td>2020-02-07</td>\n",
       "    </tr>\n",
       "    <tr>\n",
       "      <th>2</th>\n",
       "      <td>St. Patric's Day Promo</td>\n",
       "      <td>EU, N.America</td>\n",
       "      <td>2020-03-17</td>\n",
       "      <td>2020-03-19</td>\n",
       "    </tr>\n",
       "    <tr>\n",
       "      <th>9</th>\n",
       "      <td>Victory Day CIS (May 9th) Event</td>\n",
       "      <td>CIS</td>\n",
       "      <td>2020-05-09</td>\n",
       "      <td>2020-05-11</td>\n",
       "    </tr>\n",
       "    <tr>\n",
       "      <th>3</th>\n",
       "      <td>Easter Promo</td>\n",
       "      <td>EU, CIS, APAC, N.America</td>\n",
       "      <td>2020-04-12</td>\n",
       "      <td>2020-04-19</td>\n",
       "    </tr>\n",
       "    <tr>\n",
       "      <th>11</th>\n",
       "      <td>Dragon Boat Festival Giveaway</td>\n",
       "      <td>APAC</td>\n",
       "      <td>2020-06-25</td>\n",
       "      <td>2020-07-01</td>\n",
       "    </tr>\n",
       "    <tr>\n",
       "      <th>10</th>\n",
       "      <td>CIS New Year Gift Lottery</td>\n",
       "      <td>CIS</td>\n",
       "      <td>2020-12-30</td>\n",
       "      <td>2021-01-07</td>\n",
       "    </tr>\n",
       "    <tr>\n",
       "      <th>1</th>\n",
       "      <td>St. Valentine's Day Giveaway</td>\n",
       "      <td>EU, CIS, APAC, N.America</td>\n",
       "      <td>2020-02-14</td>\n",
       "      <td>2020-02-16</td>\n",
       "    </tr>\n",
       "    <tr>\n",
       "      <th>0</th>\n",
       "      <td>Christmas&amp;New Year Promo</td>\n",
       "      <td>EU, N.America</td>\n",
       "      <td>2020-12-25</td>\n",
       "      <td>2021-01-03</td>\n",
       "    </tr>\n",
       "    <tr>\n",
       "      <th>8</th>\n",
       "      <td>International Women's Day Promo</td>\n",
       "      <td>EU, CIS, APAC</td>\n",
       "      <td>2020-03-08</td>\n",
       "      <td>2020-03-10</td>\n",
       "    </tr>\n",
       "  </tbody>\n",
       "</table>\n",
       "</div>"
      ],
      "text/plain": [
       "                               name                   regions    start_dt  \\\n",
       "13            Chinese Moon Festival                      APAC  2020-10-01   \n",
       "6            Chinese New Year Promo                      APAC  2020-01-25   \n",
       "2            St. Patric's Day Promo             EU, N.America  2020-03-17   \n",
       "9   Victory Day CIS (May 9th) Event                       CIS  2020-05-09   \n",
       "3                      Easter Promo  EU, CIS, APAC, N.America  2020-04-12   \n",
       "11    Dragon Boat Festival Giveaway                      APAC  2020-06-25   \n",
       "10        CIS New Year Gift Lottery                       CIS  2020-12-30   \n",
       "1      St. Valentine's Day Giveaway  EU, CIS, APAC, N.America  2020-02-14   \n",
       "0          Christmas&New Year Promo             EU, N.America  2020-12-25   \n",
       "8   International Women's Day Promo             EU, CIS, APAC  2020-03-08   \n",
       "\n",
       "     finish_dt  \n",
       "13  2020-10-07  \n",
       "6   2020-02-07  \n",
       "2   2020-03-19  \n",
       "9   2020-05-11  \n",
       "3   2020-04-19  \n",
       "11  2020-07-01  \n",
       "10  2021-01-07  \n",
       "1   2020-02-16  \n",
       "0   2021-01-03  \n",
       "8   2020-03-10  "
      ]
     },
     "metadata": {},
     "output_type": "display_data"
    },
    {
     "name": "stdout",
     "output_type": "stream",
     "text": [
      "\n",
      "Полностью дублирующихся строк: 0\n"
     ]
    }
   ],
   "source": [
    "preview(marketing_events_raw)"
   ]
  },
  {
   "cell_type": "markdown",
   "metadata": {},
   "source": [
    "Всего за 2020 год провели 14 маркетинговых событий. Есть даты начала и конца проведения кампании, эти столбцы тоже нужно привести к подходящему типу данных."
   ]
  },
  {
   "cell_type": "markdown",
   "metadata": {},
   "source": [
    "**Выводы по исходным данным**\n",
    "\n",
    "Качество данных хорошее. \n",
    "\n",
    "На этапе предобработки:\n",
    "- Изменить тип данных в столбцах даты и времени;\n",
    "- Проверить корректность пропущенных значений стоимости покупки (столбец `details` в датасете `events`)."
   ]
  },
  {
   "cell_type": "markdown",
   "metadata": {},
   "source": [
    "<a id='cleaning'></a>\n",
    "### Предобработка данных\n",
    "\n",
    "Предобработку выполним в 4 этапа:\n",
    "- Пропущенные значения;\n",
    "- Неявные дубликаты;\n",
    "- Выбросы;\n",
    "- Корректность заполнения данных."
   ]
  },
  {
   "cell_type": "markdown",
   "metadata": {},
   "source": [
    "#### Пропущенные значения\n",
    "\n",
    "Пропуски есть только в одном столбце – `details` в датасете `events`.\n",
    "\n",
    "Рассчитаем их количество."
   ]
  },
  {
   "cell_type": "code",
   "execution_count": 617,
   "metadata": {},
   "outputs": [
    {
     "data": {
      "text/html": [
       "<div>\n",
       "<style scoped>\n",
       "    .dataframe tbody tr th:only-of-type {\n",
       "        vertical-align: middle;\n",
       "    }\n",
       "\n",
       "    .dataframe tbody tr th {\n",
       "        vertical-align: top;\n",
       "    }\n",
       "\n",
       "    .dataframe thead th {\n",
       "        text-align: right;\n",
       "    }\n",
       "</style>\n",
       "<table border=\"1\" class=\"dataframe\">\n",
       "  <thead>\n",
       "    <tr style=\"text-align: right;\">\n",
       "      <th></th>\n",
       "      <th>Число_пропусков</th>\n",
       "      <th>Процент</th>\n",
       "    </tr>\n",
       "  </thead>\n",
       "  <tbody>\n",
       "    <tr>\n",
       "      <th>details</th>\n",
       "      <td>377577</td>\n",
       "      <td>85.8</td>\n",
       "    </tr>\n",
       "  </tbody>\n",
       "</table>\n",
       "</div>"
      ],
      "text/plain": [
       "         Число_пропусков  Процент\n",
       "details           377577     85.8"
      ]
     },
     "execution_count": 617,
     "metadata": {},
     "output_type": "execute_result"
    }
   ],
   "source": [
    "na_detector(events_raw)"
   ]
  },
  {
   "cell_type": "markdown",
   "metadata": {},
   "source": [
    "Проверим предположение о том, что значения заполнены только для типа события `purchase`, покупка. Сгруппируем данные по событиям и рассчитаем процент пропусков в столбце."
   ]
  },
  {
   "cell_type": "code",
   "execution_count": 618,
   "metadata": {},
   "outputs": [
    {
     "data": {
      "text/html": [
       "<div>\n",
       "<style scoped>\n",
       "    .dataframe tbody tr th:only-of-type {\n",
       "        vertical-align: middle;\n",
       "    }\n",
       "\n",
       "    .dataframe tbody tr th {\n",
       "        vertical-align: top;\n",
       "    }\n",
       "\n",
       "    .dataframe thead th {\n",
       "        text-align: right;\n",
       "    }\n",
       "</style>\n",
       "<table border=\"1\" class=\"dataframe\">\n",
       "  <thead>\n",
       "    <tr style=\"text-align: right;\">\n",
       "      <th></th>\n",
       "      <th>details</th>\n",
       "    </tr>\n",
       "    <tr>\n",
       "      <th>event_name</th>\n",
       "      <th></th>\n",
       "    </tr>\n",
       "  </thead>\n",
       "  <tbody>\n",
       "    <tr>\n",
       "      <th>login</th>\n",
       "      <td>100.0</td>\n",
       "    </tr>\n",
       "    <tr>\n",
       "      <th>product_cart</th>\n",
       "      <td>100.0</td>\n",
       "    </tr>\n",
       "    <tr>\n",
       "      <th>product_page</th>\n",
       "      <td>100.0</td>\n",
       "    </tr>\n",
       "    <tr>\n",
       "      <th>purchase</th>\n",
       "      <td>0.0</td>\n",
       "    </tr>\n",
       "  </tbody>\n",
       "</table>\n",
       "</div>"
      ],
      "text/plain": [
       "              details\n",
       "event_name           \n",
       "login           100.0\n",
       "product_cart    100.0\n",
       "product_page    100.0\n",
       "purchase          0.0"
      ]
     },
     "execution_count": 618,
     "metadata": {},
     "output_type": "execute_result"
    }
   ],
   "source": [
    "na_pct_by_col(events_raw, 'event_name')"
   ]
  },
  {
   "cell_type": "markdown",
   "metadata": {},
   "source": [
    "С данными все в порядке. Столбец `details` содержит стоимость покупки и заполняется только для соответствующего события."
   ]
  },
  {
   "cell_type": "markdown",
   "metadata": {},
   "source": [
    "#### Неявные дубликаты\n",
    "\n",
    "Найдем строки, у которых совпадают ключевые признаки:\n",
    "- Уникальный идентификатор в датасетах с участниками теста и всеми новыми пользователями;\n",
    "- Уникальный идентификатор в комбинации с датой и временем для датасета событий.\n",
    "\n",
    "Проверим `user_id` на уникальность."
   ]
  },
  {
   "cell_type": "code",
   "execution_count": 619,
   "metadata": {},
   "outputs": [
    {
     "data": {
      "text/plain": [
       "0"
      ]
     },
     "execution_count": 619,
     "metadata": {},
     "output_type": "execute_result"
    }
   ],
   "source": [
    "users_raw['user_id'].duplicated().sum()"
   ]
  },
  {
   "cell_type": "markdown",
   "metadata": {},
   "source": [
    "Записи о новых пользователях за период уникальны, все хорошо. Проверим участников теста."
   ]
  },
  {
   "cell_type": "code",
   "execution_count": 620,
   "metadata": {},
   "outputs": [
    {
     "data": {
      "text/plain": [
       "1602"
      ]
     },
     "execution_count": 620,
     "metadata": {},
     "output_type": "execute_result"
    }
   ],
   "source": [
    "ab_raw['user_id'].duplicated().sum()"
   ]
  },
  {
   "cell_type": "markdown",
   "metadata": {},
   "source": [
    "В датасете с участниками тестов 1602 пользователя дублируются. Посмотрим на эти строки."
   ]
  },
  {
   "cell_type": "code",
   "execution_count": 621,
   "metadata": {},
   "outputs": [
    {
     "data": {
      "text/html": [
       "<div>\n",
       "<style scoped>\n",
       "    .dataframe tbody tr th:only-of-type {\n",
       "        vertical-align: middle;\n",
       "    }\n",
       "\n",
       "    .dataframe tbody tr th {\n",
       "        vertical-align: top;\n",
       "    }\n",
       "\n",
       "    .dataframe thead th {\n",
       "        text-align: right;\n",
       "    }\n",
       "</style>\n",
       "<table border=\"1\" class=\"dataframe\">\n",
       "  <thead>\n",
       "    <tr style=\"text-align: right;\">\n",
       "      <th></th>\n",
       "      <th>user_id</th>\n",
       "      <th>group</th>\n",
       "      <th>ab_test</th>\n",
       "    </tr>\n",
       "  </thead>\n",
       "  <tbody>\n",
       "    <tr>\n",
       "      <th>17892</th>\n",
       "      <td>001064FEAAB631A1</td>\n",
       "      <td>B</td>\n",
       "      <td>interface_eu_test</td>\n",
       "    </tr>\n",
       "    <tr>\n",
       "      <th>235</th>\n",
       "      <td>001064FEAAB631A1</td>\n",
       "      <td>B</td>\n",
       "      <td>recommender_system_test</td>\n",
       "    </tr>\n",
       "    <tr>\n",
       "      <th>16961</th>\n",
       "      <td>00341D8401F0F665</td>\n",
       "      <td>A</td>\n",
       "      <td>interface_eu_test</td>\n",
       "    </tr>\n",
       "    <tr>\n",
       "      <th>2137</th>\n",
       "      <td>00341D8401F0F665</td>\n",
       "      <td>A</td>\n",
       "      <td>recommender_system_test</td>\n",
       "    </tr>\n",
       "    <tr>\n",
       "      <th>8143</th>\n",
       "      <td>003B6786B4FF5B03</td>\n",
       "      <td>A</td>\n",
       "      <td>interface_eu_test</td>\n",
       "    </tr>\n",
       "    <tr>\n",
       "      <th>3156</th>\n",
       "      <td>003B6786B4FF5B03</td>\n",
       "      <td>A</td>\n",
       "      <td>recommender_system_test</td>\n",
       "    </tr>\n",
       "    <tr>\n",
       "      <th>4768</th>\n",
       "      <td>0082295A41A867B5</td>\n",
       "      <td>A</td>\n",
       "      <td>recommender_system_test</td>\n",
       "    </tr>\n",
       "    <tr>\n",
       "      <th>14161</th>\n",
       "      <td>0082295A41A867B5</td>\n",
       "      <td>B</td>\n",
       "      <td>interface_eu_test</td>\n",
       "    </tr>\n",
       "    <tr>\n",
       "      <th>15562</th>\n",
       "      <td>00E68F103C66C1F7</td>\n",
       "      <td>B</td>\n",
       "      <td>interface_eu_test</td>\n",
       "    </tr>\n",
       "    <tr>\n",
       "      <th>4074</th>\n",
       "      <td>00E68F103C66C1F7</td>\n",
       "      <td>A</td>\n",
       "      <td>recommender_system_test</td>\n",
       "    </tr>\n",
       "  </tbody>\n",
       "</table>\n",
       "</div>"
      ],
      "text/plain": [
       "                user_id group                  ab_test\n",
       "17892  001064FEAAB631A1     B        interface_eu_test\n",
       "235    001064FEAAB631A1     B  recommender_system_test\n",
       "16961  00341D8401F0F665     A        interface_eu_test\n",
       "2137   00341D8401F0F665     A  recommender_system_test\n",
       "8143   003B6786B4FF5B03     A        interface_eu_test\n",
       "3156   003B6786B4FF5B03     A  recommender_system_test\n",
       "4768   0082295A41A867B5     A  recommender_system_test\n",
       "14161  0082295A41A867B5     B        interface_eu_test\n",
       "15562  00E68F103C66C1F7     B        interface_eu_test\n",
       "4074   00E68F103C66C1F7     A  recommender_system_test"
      ]
     },
     "execution_count": 621,
     "metadata": {},
     "output_type": "execute_result"
    }
   ],
   "source": [
    "ab_raw[ab_raw['user_id'].duplicated(keep=False)].sort_values(by='user_id').head(10)"
   ]
  },
  {
   "cell_type": "markdown",
   "metadata": {},
   "source": [
    "Первые 5 пользователей, похоже, дублируются из-за участия в двух тестах сразу. Проверим, верно ли это для всех дублей."
   ]
  },
  {
   "cell_type": "code",
   "execution_count": 622,
   "metadata": {},
   "outputs": [
    {
     "data": {
      "text/plain": [
       "ab_test\n",
       "interface_eu_test          1602\n",
       "recommender_system_test    1602\n",
       "dtype: int64"
      ]
     },
     "execution_count": 622,
     "metadata": {},
     "output_type": "execute_result"
    }
   ],
   "source": [
    "ab_raw[ab_raw['user_id'].duplicated(keep=False)].groupby('ab_test').size()"
   ]
  },
  {
   "cell_type": "markdown",
   "metadata": {},
   "source": [
    "Дубли равномерно распределились по тестам.\n",
    "\n",
    "Посмотрим, какой процент из всех записей об участниках занимают дубликаты. "
   ]
  },
  {
   "cell_type": "code",
   "execution_count": 623,
   "metadata": {},
   "outputs": [
    {
     "data": {
      "text/plain": [
       "17.5"
      ]
     },
     "execution_count": 623,
     "metadata": {},
     "output_type": "execute_result"
    }
   ],
   "source": [
    "round(\n",
    "    len(ab_raw[ab_raw['user_id'].duplicated(keep=False)])\n",
    "    /\n",
    "    len(ab_raw) * 100,\n",
    "1)"
   ]
  },
  {
   "cell_type": "markdown",
   "metadata": {},
   "source": [
    "17.5% записей об участниках теста – дубли.\n",
    "\n",
    "Попадание клиентов в два теста чревато искажением результатов. Если в одном тесте участник попал в экспериментальную группу В, то на его поведение повлияют тестируемые изменения. Тогда в другом тесте он не может быть ни в контрольной группе (поведение изменено), ни в экспериментальной (на поведение влияют сразу два разных изменения).\n",
    "\n",
    "Таких участников принимать к анализу нельзя. Рассчитаем, какую долю пользователей в тесте `recommender_system_test` мы потеряем, если исключим попавших в оба теста."
   ]
  },
  {
   "cell_type": "code",
   "execution_count": 624,
   "metadata": {},
   "outputs": [
    {
     "data": {
      "text/plain": [
       "23.9"
      ]
     },
     "execution_count": 624,
     "metadata": {},
     "output_type": "execute_result"
    }
   ],
   "source": [
    "((\n",
    "    ab_raw['user_id'].duplicated().sum()\n",
    "    /\n",
    "    len(ab_raw.query('ab_test == \"recommender_system_test\"'))\n",
    ")*100).round(1)"
   ]
  },
  {
   "cell_type": "markdown",
   "metadata": {},
   "source": [
    "24% данных – почти четверть участников – следовало бы исключить. Ожидаемое число участников теста по ТЗ составляет 6 тысяч. Проверим, будет ли это требование удовлетворено при удалении дубликатов."
   ]
  },
  {
   "cell_type": "code",
   "execution_count": 625,
   "metadata": {},
   "outputs": [
    {
     "data": {
      "text/plain": [
       "5099"
      ]
     },
     "execution_count": 625,
     "metadata": {},
     "output_type": "execute_result"
    }
   ],
   "source": [
    "(\n",
    "    len(ab_raw.query('ab_test == \"recommender_system_test\"'))\n",
    "    -\n",
    "    ab_raw['user_id'].duplicated().sum()\n",
    ")"
   ]
  },
  {
   "cell_type": "markdown",
   "metadata": {},
   "source": [
    "В тесте останется лишь 5 тысяч участников. Посмотрим соотношение размеров групп А и В в обоих тестах."
   ]
  },
  {
   "cell_type": "code",
   "execution_count": 626,
   "metadata": {},
   "outputs": [
    {
     "data": {
      "text/html": [
       "<div>\n",
       "<style scoped>\n",
       "    .dataframe tbody tr th:only-of-type {\n",
       "        vertical-align: middle;\n",
       "    }\n",
       "\n",
       "    .dataframe tbody tr th {\n",
       "        vertical-align: top;\n",
       "    }\n",
       "\n",
       "    .dataframe thead tr th {\n",
       "        text-align: left;\n",
       "    }\n",
       "\n",
       "    .dataframe thead tr:last-of-type th {\n",
       "        text-align: right;\n",
       "    }\n",
       "</style>\n",
       "<table border=\"1\" class=\"dataframe\">\n",
       "  <thead>\n",
       "    <tr>\n",
       "      <th></th>\n",
       "      <th colspan=\"2\" halign=\"left\">user_id</th>\n",
       "    </tr>\n",
       "    <tr>\n",
       "      <th>group</th>\n",
       "      <th>A</th>\n",
       "      <th>B</th>\n",
       "    </tr>\n",
       "    <tr>\n",
       "      <th>ab_test</th>\n",
       "      <th></th>\n",
       "      <th></th>\n",
       "    </tr>\n",
       "  </thead>\n",
       "  <tbody>\n",
       "    <tr>\n",
       "      <th>interface_eu_test</th>\n",
       "      <td>5831</td>\n",
       "      <td>5736</td>\n",
       "    </tr>\n",
       "    <tr>\n",
       "      <th>recommender_system_test</th>\n",
       "      <td>3824</td>\n",
       "      <td>2877</td>\n",
       "    </tr>\n",
       "  </tbody>\n",
       "</table>\n",
       "</div>"
      ],
      "text/plain": [
       "                        user_id      \n",
       "group                         A     B\n",
       "ab_test                              \n",
       "interface_eu_test          5831  5736\n",
       "recommender_system_test    3824  2877"
      ]
     },
     "execution_count": 626,
     "metadata": {},
     "output_type": "execute_result"
    }
   ],
   "source": [
    "ab_raw.pivot_table(index='ab_test', columns='group', aggfunc={'user_id':'nunique'})"
   ]
  },
  {
   "cell_type": "markdown",
   "metadata": {},
   "source": [
    "В параллельно проходящем тесте `interface_eu_test` распределение по группам намного более равномерное. Участников там тоже больше.\n",
    "\n",
    "Чтобы выполнить требование о количестве участников, можно оставить в данных тех пользователей, которые в конкурирующем тесте попали в контрольную группу А, так как на их поведение не повлияли никакие изменения. Юзеров из группы В второго теста брать нельзя.\n",
    "\n",
    "Рассчитаем, какой процент участников нашего теста мы потеряем при исключении пользователей, попавших во втором тесте в группу В."
   ]
  },
  {
   "cell_type": "code",
   "execution_count": 627,
   "metadata": {},
   "outputs": [
    {
     "name": "stdout",
     "output_type": "stream",
     "text": [
      "Процент экспериментальных юзеров конкурирующего теста: 11.7%\n",
      "Число участников теста recommender_system_test при их исключении: 5918\n"
     ]
    }
   ],
   "source": [
    "ab_duplicates = ab_raw.query('user_id.duplicated(keep=False)')\n",
    "\n",
    "print('Процент экспериментальных юзеров конкурирующего теста:', \n",
    "      '{:.1%}'.format\n",
    "      (\n",
    "          ab_duplicates.query('ab_test == \"interface_eu_test\" & group == \"B\"').shape[0]\n",
    "          /\n",
    "          len(ab_raw.query('ab_test == \"recommender_system_test\"'))\n",
    "      )\n",
    "     )\n",
    "print('Число участников теста recommender_system_test при их исключении:', \n",
    "     (\n",
    "         len(ab_raw.query('ab_test == \"recommender_system_test\"'))\n",
    "         -\n",
    "         ab_duplicates.query('ab_test == \"interface_eu_test\" & group == \"B\"').shape[0]\n",
    "     ))"
   ]
  },
  {
   "cell_type": "markdown",
   "metadata": {},
   "source": [
    "Число участников нашего теста почти достигает требуемого. Примем решение исключить только пользователей из группы В второго теста, чтобы данных осталось достаточно. Частичное исключение участников теста не оптимально, доверие к результатам снижается."
   ]
  },
  {
   "cell_type": "code",
   "execution_count": 628,
   "metadata": {},
   "outputs": [],
   "source": [
    "# сохраним идентификаторы пользователей для исключения\n",
    "dupl_to_drop_uid = ab_duplicates.query('ab_test == \"interface_eu_test\" & group == \"B\"')['user_id'].unique()"
   ]
  },
  {
   "cell_type": "code",
   "execution_count": 629,
   "metadata": {},
   "outputs": [
    {
     "name": "stdout",
     "output_type": "stream",
     "text": [
      "Число исключенных уникальных пользователей: 783\n",
      "Исключено наблюдений: 1566\n",
      "Процент от всех данных: 8.6%\n",
      "Процент от целевого теста: 11.7%\n"
     ]
    }
   ],
   "source": [
    "print('Число исключенных уникальных пользователей:', len(dupl_to_drop_uid))\n",
    "print('Исключено наблюдений:', ab_raw.query('user_id.isin(@dupl_to_drop_uid)').shape[0])\n",
    "print('Процент от всех данных:', '{:.1%}'.format(\n",
    "    ab_raw.query('user_id.isin(@dupl_to_drop_uid)').shape[0]\n",
    "    /\n",
    "    len(ab_raw)))\n",
    "rstest_smpl_size = ab_raw.query('ab_test == \"recommender_system_test\"').shape[0]\n",
    "print('Процент от целевого теста:', '{:.1%}'.format(len(dupl_to_drop_uid)/rstest_smpl_size))"
   ]
  },
  {
   "cell_type": "markdown",
   "metadata": {},
   "source": [
    "Проверим на дубликаты датасет событий. Сгруппируем действия пользователей по идентификатору и точному времени события."
   ]
  },
  {
   "cell_type": "code",
   "execution_count": 630,
   "metadata": {},
   "outputs": [
    {
     "data": {
      "text/html": [
       "<div>\n",
       "<style scoped>\n",
       "    .dataframe tbody tr th:only-of-type {\n",
       "        vertical-align: middle;\n",
       "    }\n",
       "\n",
       "    .dataframe tbody tr th {\n",
       "        vertical-align: top;\n",
       "    }\n",
       "\n",
       "    .dataframe thead th {\n",
       "        text-align: right;\n",
       "    }\n",
       "</style>\n",
       "<table border=\"1\" class=\"dataframe\">\n",
       "  <thead>\n",
       "    <tr style=\"text-align: right;\">\n",
       "      <th></th>\n",
       "      <th>user_id</th>\n",
       "      <th>event_dt</th>\n",
       "      <th>event_name</th>\n",
       "      <th>details</th>\n",
       "    </tr>\n",
       "  </thead>\n",
       "  <tbody>\n",
       "    <tr>\n",
       "      <th>15989</th>\n",
       "      <td>000199F1887AE5E6</td>\n",
       "      <td>2020-12-14 09:56:09</td>\n",
       "      <td>purchase</td>\n",
       "      <td>4.99</td>\n",
       "    </tr>\n",
       "    <tr>\n",
       "      <th>157324</th>\n",
       "      <td>000199F1887AE5E6</td>\n",
       "      <td>2020-12-14 09:56:09</td>\n",
       "      <td>product_page</td>\n",
       "      <td>NaN</td>\n",
       "    </tr>\n",
       "    <tr>\n",
       "      <th>299212</th>\n",
       "      <td>000199F1887AE5E6</td>\n",
       "      <td>2020-12-14 09:56:09</td>\n",
       "      <td>login</td>\n",
       "      <td>NaN</td>\n",
       "    </tr>\n",
       "    <tr>\n",
       "      <th>19145</th>\n",
       "      <td>000199F1887AE5E6</td>\n",
       "      <td>2020-12-15 07:22:56</td>\n",
       "      <td>purchase</td>\n",
       "      <td>4.99</td>\n",
       "    </tr>\n",
       "    <tr>\n",
       "      <th>81751</th>\n",
       "      <td>000199F1887AE5E6</td>\n",
       "      <td>2020-12-15 07:22:56</td>\n",
       "      <td>product_cart</td>\n",
       "      <td>NaN</td>\n",
       "    </tr>\n",
       "    <tr>\n",
       "      <th>...</th>\n",
       "      <td>...</td>\n",
       "      <td>...</td>\n",
       "      <td>...</td>\n",
       "      <td>...</td>\n",
       "    </tr>\n",
       "    <tr>\n",
       "      <th>385602</th>\n",
       "      <td>FFFFE36C0F6E92DF</td>\n",
       "      <td>2020-12-22 11:38:57</td>\n",
       "      <td>login</td>\n",
       "      <td>NaN</td>\n",
       "    </tr>\n",
       "    <tr>\n",
       "      <th>222000</th>\n",
       "      <td>FFFFE36C0F6E92DF</td>\n",
       "      <td>2020-12-23 05:09:13</td>\n",
       "      <td>product_page</td>\n",
       "      <td>NaN</td>\n",
       "    </tr>\n",
       "    <tr>\n",
       "      <th>396849</th>\n",
       "      <td>FFFFE36C0F6E92DF</td>\n",
       "      <td>2020-12-23 05:09:13</td>\n",
       "      <td>login</td>\n",
       "      <td>NaN</td>\n",
       "    </tr>\n",
       "    <tr>\n",
       "      <th>119115</th>\n",
       "      <td>FFFFE36C0F6E92DF</td>\n",
       "      <td>2020-12-26 09:25:04</td>\n",
       "      <td>product_cart</td>\n",
       "      <td>NaN</td>\n",
       "    </tr>\n",
       "    <tr>\n",
       "      <th>238643</th>\n",
       "      <td>FFFFE36C0F6E92DF</td>\n",
       "      <td>2020-12-26 09:25:04</td>\n",
       "      <td>product_page</td>\n",
       "      <td>NaN</td>\n",
       "    </tr>\n",
       "  </tbody>\n",
       "</table>\n",
       "<p>268299 rows × 4 columns</p>\n",
       "</div>"
      ],
      "text/plain": [
       "                 user_id             event_dt    event_name  details\n",
       "15989   000199F1887AE5E6  2020-12-14 09:56:09      purchase     4.99\n",
       "157324  000199F1887AE5E6  2020-12-14 09:56:09  product_page      NaN\n",
       "299212  000199F1887AE5E6  2020-12-14 09:56:09         login      NaN\n",
       "19145   000199F1887AE5E6  2020-12-15 07:22:56      purchase     4.99\n",
       "81751   000199F1887AE5E6  2020-12-15 07:22:56  product_cart      NaN\n",
       "...                  ...                  ...           ...      ...\n",
       "385602  FFFFE36C0F6E92DF  2020-12-22 11:38:57         login      NaN\n",
       "222000  FFFFE36C0F6E92DF  2020-12-23 05:09:13  product_page      NaN\n",
       "396849  FFFFE36C0F6E92DF  2020-12-23 05:09:13         login      NaN\n",
       "119115  FFFFE36C0F6E92DF  2020-12-26 09:25:04  product_cart      NaN\n",
       "238643  FFFFE36C0F6E92DF  2020-12-26 09:25:04  product_page      NaN\n",
       "\n",
       "[268299 rows x 4 columns]"
      ]
     },
     "execution_count": 630,
     "metadata": {},
     "output_type": "execute_result"
    }
   ],
   "source": [
    "events_raw[\n",
    "    events_raw[['user_id', 'event_dt']].duplicated(keep=False)\n",
    "].sort_values(by=['user_id', 'event_dt'])"
   ]
  },
  {
   "cell_type": "markdown",
   "metadata": {},
   "source": [
    "Время событий указано до секунды. Некоторые пользователи, похоже, в течение секунды успевают пройти всю воронку событий от входа до покупки. Насколько такое возможно, неизвестно. Стоит проверить механизм регистрации времени события."
   ]
  },
  {
   "cell_type": "markdown",
   "metadata": {},
   "source": [
    "#### Выбросы\n",
    "\n",
    "Выбросами в данных может считаться число событий на пользователя – есть ли клиенты, совершившие аномальное число покупок за период. Это не повлияет на результаты теста (нам важен факт перехода на следующий этап воронки). Построим гистограммы распределения по числу совершения каждого из событий одним и тем же пользователем."
   ]
  },
  {
   "cell_type": "code",
   "execution_count": 631,
   "metadata": {},
   "outputs": [],
   "source": [
    "sns.set_style('whitegrid')"
   ]
  },
  {
   "cell_type": "code",
   "execution_count": 632,
   "metadata": {},
   "outputs": [
    {
     "data": {
      "image/png": "[encoded data removed]",
      "text/plain": [
       "<Figure size 800x600 with 4 Axes>"
      ]
     },
     "metadata": {},
     "output_type": "display_data"
    }
   ],
   "source": [
    "axes = events_raw.pivot_table(index='user_id', columns='event_name', values='event_dt',\n",
    "                              aggfunc='count').hist(grid=False, sharey=True, figsize=(8,6));\n",
    "plt.suptitle('Сколько раз каждый пользователь совершал каждое из событий', fontsize=14)\n",
    "for i, ax in enumerate(axes.flatten()):\n",
    "    ax.set_ylabel('Частота')\n",
    "    ax.set_xlabel('Число совершений одним пользователем')\n",
    "plt.tight_layout()"
   ]
  },
  {
   "cell_type": "markdown",
   "metadata": {},
   "source": [
    "Распределение по числу событий подозрительно равномерное, однако аномальный значений нет.\n",
    "\n",
    "Также проверим стоимость покупок (столбец `details` в данных о событиях)."
   ]
  },
  {
   "cell_type": "code",
   "execution_count": 633,
   "metadata": {
    "scrolled": true
   },
   "outputs": [
    {
     "data": {
      "text/plain": [
       "count    62740.000000\n",
       "mean        23.877631\n",
       "std         72.180465\n",
       "min          4.990000\n",
       "25%          4.990000\n",
       "50%          4.990000\n",
       "75%          9.990000\n",
       "max        499.990000\n",
       "Name: details, dtype: float64"
      ]
     },
     "execution_count": 633,
     "metadata": {},
     "output_type": "execute_result"
    }
   ],
   "source": [
    "events_raw['details'].describe()"
   ]
  },
  {
   "cell_type": "markdown",
   "metadata": {},
   "source": [
    "Минимальная сумма покупки – 4.99, она же медианная, но есть покупка стоимостью почти в 500 у.е.\n",
    "\n",
    "Информация о цене покупки не является метрикой, которую проверяем в этом тесте, поэтому оставим дорогие покупки в данных."
   ]
  },
  {
   "cell_type": "markdown",
   "metadata": {},
   "source": [
    "#### Корректность заполнения данных\n",
    "\n",
    "Проверим уникальные значения `region` и `device` в датасете с новыми пользователями."
   ]
  },
  {
   "cell_type": "code",
   "execution_count": 634,
   "metadata": {},
   "outputs": [
    {
     "name": "stdout",
     "output_type": "stream",
     "text": [
      "region: ['EU', 'N.America', 'APAC', 'CIS']\n",
      "device: ['PC', 'Android', 'iPhone', 'Mac']\n"
     ]
    }
   ],
   "source": [
    "print('region:', list(users_raw['region'].unique()))\n",
    "print('device:', list(users_raw['device'].unique()))"
   ]
  },
  {
   "cell_type": "markdown",
   "metadata": {},
   "source": [
    "Со значениями этих столбцов все в порядке."
   ]
  },
  {
   "cell_type": "markdown",
   "metadata": {},
   "source": [
    "### Выводы и внесение изменений\n",
    "\n",
    "**Выводы по предобработке данных** \n",
    "\n",
    "Качество данных хорошее.\n",
    "\n",
    "По результатам предобработки в данные внесены изменения:\n",
    "- Столбцы с датой и временем переведем в тип `datetime`;\n",
    "- Исключим пользователей, которые участвовали в двух А/В-тестах одновременно и в конкурирующем попали в группу В;\n",
    "    - Из датасета с участниками теста (таблица `ab`) – 9%;\n",
    "    - Из целевого теста – 12%."
   ]
  },
  {
   "cell_type": "code",
   "execution_count": 635,
   "metadata": {},
   "outputs": [],
   "source": [
    "# сохраним измененные данные в новых переменных\n",
    "ab = ab_raw.copy()\n",
    "users = users_raw.copy()\n",
    "events = events_raw.copy()\n",
    "marketing_events = marketing_events_raw.copy()"
   ]
  },
  {
   "cell_type": "code",
   "execution_count": 636,
   "metadata": {},
   "outputs": [],
   "source": [
    "# преобразуем типы данных в столбцах даты и времени\n",
    "users['first_date'] = pd.to_datetime(users['first_date'])\n",
    "events['event_dt'] = pd.to_datetime(events['event_dt'])\n",
    "marketing_events['start_dt'] = pd.to_datetime(marketing_events['start_dt'])\n",
    "marketing_events['finish_dt'] = pd.to_datetime(marketing_events['finish_dt'])"
   ]
  },
  {
   "cell_type": "code",
   "execution_count": 637,
   "metadata": {},
   "outputs": [],
   "source": [
    "# исключим участников в группе В конкурирующего теста\n",
    "ab = ab.query('~user_id.isin(@dupl_to_drop_uid)')\n",
    "# оставим в таблице только нужный нам тест\n",
    "ab = ab.query('ab_test == \"recommender_system_test\"').drop('ab_test', axis=1)"
   ]
  },
  {
   "cell_type": "markdown",
   "metadata": {},
   "source": [
    "Также создадим новую таблицу, в которой объединим данные о событиях и пользователях для тех, кто участвовал в тесте. Это поможет легко делить события по группам."
   ]
  },
  {
   "cell_type": "code",
   "execution_count": 638,
   "metadata": {},
   "outputs": [],
   "source": [
    "# объединим два датасета – о событиях и пользователях\n",
    "df = ab.merge(events, on='user_id', how='left', validate='one_to_many')\n",
    "df.rename(columns={'details':'price'}, inplace=True)\n",
    "df = df.merge(users[['user_id', 'first_date', 'region']], on='user_id', how='left')"
   ]
  },
  {
   "cell_type": "code",
   "execution_count": 639,
   "metadata": {},
   "outputs": [
    {
     "name": "stdout",
     "output_type": "stream",
     "text": [
      "<class 'pandas.core.frame.DataFrame'>\n",
      "Int64Index: 24516 entries, 0 to 24515\n",
      "Data columns (total 7 columns):\n",
      " #   Column      Non-Null Count  Dtype         \n",
      "---  ------      --------------  -----         \n",
      " 0   user_id     24516 non-null  object        \n",
      " 1   group       24516 non-null  object        \n",
      " 2   event_dt    21842 non-null  datetime64[ns]\n",
      " 3   event_name  21842 non-null  object        \n",
      " 4   price       2939 non-null   float64       \n",
      " 5   first_date  24516 non-null  datetime64[ns]\n",
      " 6   region      24516 non-null  object        \n",
      "dtypes: datetime64[ns](2), float64(1), object(4)\n",
      "memory usage: 1.5+ MB\n",
      "None\n"
     ]
    },
    {
     "data": {
      "text/html": [
       "<div>\n",
       "<style scoped>\n",
       "    .dataframe tbody tr th:only-of-type {\n",
       "        vertical-align: middle;\n",
       "    }\n",
       "\n",
       "    .dataframe tbody tr th {\n",
       "        vertical-align: top;\n",
       "    }\n",
       "\n",
       "    .dataframe thead th {\n",
       "        text-align: right;\n",
       "    }\n",
       "</style>\n",
       "<table border=\"1\" class=\"dataframe\">\n",
       "  <thead>\n",
       "    <tr style=\"text-align: right;\">\n",
       "      <th></th>\n",
       "      <th>user_id</th>\n",
       "      <th>group</th>\n",
       "      <th>event_dt</th>\n",
       "      <th>event_name</th>\n",
       "      <th>price</th>\n",
       "      <th>first_date</th>\n",
       "      <th>region</th>\n",
       "    </tr>\n",
       "  </thead>\n",
       "  <tbody>\n",
       "    <tr>\n",
       "      <th>15165</th>\n",
       "      <td>EA13A8207E2AEC0C</td>\n",
       "      <td>A</td>\n",
       "      <td>2020-12-15 11:22:54</td>\n",
       "      <td>product_cart</td>\n",
       "      <td>NaN</td>\n",
       "      <td>2020-12-15</td>\n",
       "      <td>EU</td>\n",
       "    </tr>\n",
       "    <tr>\n",
       "      <th>4792</th>\n",
       "      <td>60113D4208F4A6EA</td>\n",
       "      <td>A</td>\n",
       "      <td>2020-12-21 08:12:37</td>\n",
       "      <td>product_page</td>\n",
       "      <td>NaN</td>\n",
       "      <td>2020-12-20</td>\n",
       "      <td>EU</td>\n",
       "    </tr>\n",
       "    <tr>\n",
       "      <th>24321</th>\n",
       "      <td>9A249D543CF73E68</td>\n",
       "      <td>A</td>\n",
       "      <td>2020-12-29 15:40:17</td>\n",
       "      <td>purchase</td>\n",
       "      <td>4.99</td>\n",
       "      <td>2020-12-20</td>\n",
       "      <td>APAC</td>\n",
       "    </tr>\n",
       "    <tr>\n",
       "      <th>3911</th>\n",
       "      <td>08D42E112D1F4407</td>\n",
       "      <td>A</td>\n",
       "      <td>2020-12-14 21:17:09</td>\n",
       "      <td>purchase</td>\n",
       "      <td>4.99</td>\n",
       "      <td>2020-12-14</td>\n",
       "      <td>EU</td>\n",
       "    </tr>\n",
       "    <tr>\n",
       "      <th>15414</th>\n",
       "      <td>067D05BD30F04F2E</td>\n",
       "      <td>B</td>\n",
       "      <td>2020-12-07 17:05:56</td>\n",
       "      <td>product_page</td>\n",
       "      <td>NaN</td>\n",
       "      <td>2020-12-07</td>\n",
       "      <td>EU</td>\n",
       "    </tr>\n",
       "    <tr>\n",
       "      <th>13118</th>\n",
       "      <td>5AD6C5CA55F10640</td>\n",
       "      <td>A</td>\n",
       "      <td>2020-12-17 14:55:10</td>\n",
       "      <td>login</td>\n",
       "      <td>NaN</td>\n",
       "      <td>2020-12-17</td>\n",
       "      <td>EU</td>\n",
       "    </tr>\n",
       "    <tr>\n",
       "      <th>15649</th>\n",
       "      <td>943DC4BA8E315141</td>\n",
       "      <td>A</td>\n",
       "      <td>2020-12-16 19:45:33</td>\n",
       "      <td>login</td>\n",
       "      <td>NaN</td>\n",
       "      <td>2020-12-14</td>\n",
       "      <td>EU</td>\n",
       "    </tr>\n",
       "    <tr>\n",
       "      <th>13388</th>\n",
       "      <td>FF0CF3A2B430E000</td>\n",
       "      <td>A</td>\n",
       "      <td>2020-12-17 17:29:54</td>\n",
       "      <td>login</td>\n",
       "      <td>NaN</td>\n",
       "      <td>2020-12-15</td>\n",
       "      <td>EU</td>\n",
       "    </tr>\n",
       "    <tr>\n",
       "      <th>16740</th>\n",
       "      <td>6805058419CB4E55</td>\n",
       "      <td>A</td>\n",
       "      <td>2020-12-14 12:32:13</td>\n",
       "      <td>product_cart</td>\n",
       "      <td>NaN</td>\n",
       "      <td>2020-12-13</td>\n",
       "      <td>EU</td>\n",
       "    </tr>\n",
       "    <tr>\n",
       "      <th>4983</th>\n",
       "      <td>9999E0476CE6B08B</td>\n",
       "      <td>A</td>\n",
       "      <td>2020-12-23 20:59:44</td>\n",
       "      <td>purchase</td>\n",
       "      <td>4.99</td>\n",
       "      <td>2020-12-14</td>\n",
       "      <td>EU</td>\n",
       "    </tr>\n",
       "  </tbody>\n",
       "</table>\n",
       "</div>"
      ],
      "text/plain": [
       "                user_id group            event_dt    event_name  price  \\\n",
       "15165  EA13A8207E2AEC0C     A 2020-12-15 11:22:54  product_cart    NaN   \n",
       "4792   60113D4208F4A6EA     A 2020-12-21 08:12:37  product_page    NaN   \n",
       "24321  9A249D543CF73E68     A 2020-12-29 15:40:17      purchase   4.99   \n",
       "3911   08D42E112D1F4407     A 2020-12-14 21:17:09      purchase   4.99   \n",
       "15414  067D05BD30F04F2E     B 2020-12-07 17:05:56  product_page    NaN   \n",
       "13118  5AD6C5CA55F10640     A 2020-12-17 14:55:10         login    NaN   \n",
       "15649  943DC4BA8E315141     A 2020-12-16 19:45:33         login    NaN   \n",
       "13388  FF0CF3A2B430E000     A 2020-12-17 17:29:54         login    NaN   \n",
       "16740  6805058419CB4E55     A 2020-12-14 12:32:13  product_cart    NaN   \n",
       "4983   9999E0476CE6B08B     A 2020-12-23 20:59:44      purchase   4.99   \n",
       "\n",
       "      first_date region  \n",
       "15165 2020-12-15     EU  \n",
       "4792  2020-12-20     EU  \n",
       "24321 2020-12-20   APAC  \n",
       "3911  2020-12-14     EU  \n",
       "15414 2020-12-07     EU  \n",
       "13118 2020-12-17     EU  \n",
       "15649 2020-12-14     EU  \n",
       "13388 2020-12-15     EU  \n",
       "16740 2020-12-13     EU  \n",
       "4983  2020-12-14     EU  "
      ]
     },
     "metadata": {},
     "output_type": "display_data"
    },
    {
     "name": "stdout",
     "output_type": "stream",
     "text": [
      "\n",
      "Полностью дублирующихся строк: 0\n"
     ]
    }
   ],
   "source": [
    "preview(df)"
   ]
  },
  {
   "cell_type": "markdown",
   "metadata": {},
   "source": [
    "Итого в тесте данные о 24516 событиях."
   ]
  },
  {
   "cell_type": "markdown",
   "metadata": {},
   "source": [
    "<a id='soundcheck'></a>\n",
    "## Проверка корректности проведения теста\n",
    "\n",
    "Критерии проверки:\n",
    "\n",
    "- Временные диапазоны:\n",
    "    - Период регистрации новых пользователей – с 7 по 21 декабря 2020; \n",
    "    - Период проведения теста – с 7 декабря 2020 по 4 января 2021; \n",
    "    - Одновременно с тестом не проходит маркетинговых активностей. \n",
    "- Формирование групп:\n",
    "    - Группы похожего размера; \n",
    "    - Один пользователь не может быть в двух группах; \n",
    "    - Пользователь не участвует в других тестах; \n",
    "    - Из региона EU в тест должно быть отобрано 15% новых пользователей; \n",
    "    - Размер выборки около 6000."
   ]
  },
  {
   "cell_type": "markdown",
   "metadata": {},
   "source": [
    "### Временной период\n",
    "\n",
    "Проверим временные периоды:\n",
    "- Датасет новых пользователей `users` – с 7 до 21 декабря 2020 год;\n",
    "- Датасет событий `events` – с 7 декабря 2020 по 4 января 2021 года."
   ]
  },
  {
   "cell_type": "code",
   "execution_count": 640,
   "metadata": {},
   "outputs": [
    {
     "name": "stdout",
     "output_type": "stream",
     "text": [
      "Дата запуска: 2020-12-07\n",
      "Дата остановки набора новых пользователей: 2020-12-23\n",
      "\n",
      "Первое событие: 2020-12-07\n",
      "Дата остановки: 2020-12-30\n"
     ]
    }
   ],
   "source": [
    "print(f'Дата запуска: {users[\"first_date\"].min().date()}')\n",
    "print(f'Дата остановки набора новых пользователей: {users[\"first_date\"].max().date()}\\n')\n",
    "print(f'Первое событие: {events[\"event_dt\"].min().date()}')\n",
    "print(f'Дата остановки: {events[\"event_dt\"].max().date()}')"
   ]
  },
  {
   "cell_type": "markdown",
   "metadata": {},
   "source": [
    "Оба временных диапазона отличаются от заявленных:\n",
    "- Набор новых пользователей шел на 2 дня дольше – до 23 декабря, а не до 21;\n",
    "- Остановка теста, наоборот, произошла раньше – 30 декабря вместо 4 января.\n",
    "\n",
    "Ограничим период набора пользователей до указанного в ТЗ – с 7 до 21 декабря 2020 включительно (15 дней). Пользователей, зарегистрировавшихся после 21 декабря, исключим."
   ]
  },
  {
   "cell_type": "code",
   "execution_count": 641,
   "metadata": {},
   "outputs": [],
   "source": [
    "df = df.query('first_date <= \"2020-12-21\"')"
   ]
  },
  {
   "cell_type": "markdown",
   "metadata": {},
   "source": [
    "Также нужно ограничить события установленным ТЗ лайфтаймом – 14 дней после регистрации. Однако из-за ранней остановки теста пользователи, пришедшие 21 декабря, прожили только 9 дней (до 30 декабря). Если они не успели совершить целевое действие за этот срок, но совершили бы при более продолжительной фиксации событий, то их показатели снизят как общую конверсию, так и отдельные показатели последних когорт.\n",
    "\n",
    "Посмотрим, сколько времени в среднем занимает путь от первого посещения до первой покупки."
   ]
  },
  {
   "cell_type": "code",
   "execution_count": 642,
   "metadata": {},
   "outputs": [
    {
     "data": {
      "text/plain": [
       "min    0 days 00:01:52\n",
       "50%    0 days 12:03:05\n",
       "75%    0 days 18:14:40\n",
       "max    6 days 23:09:45\n",
       "Name: delta, dtype: object"
      ]
     },
     "execution_count": 642,
     "metadata": {},
     "output_type": "execute_result"
    }
   ],
   "source": [
    "purchase_dt = (\n",
    "    df.query('event_name == \"purchase\"').groupby('user_id')\n",
    "    .agg({'first_date':'min', 'event_dt':'min'})\n",
    ")\n",
    "purchase_dt['delta'] = purchase_dt['event_dt'] - purchase_dt['first_date']\n",
    "purchase_dt['delta'].describe()[['min', '50%', '75%', 'max']]"
   ]
  },
  {
   "cell_type": "markdown",
   "metadata": {},
   "source": [
    "Пользователи продвигаются по воронке очень быстро. В среднем от первого посещения до покупки проходит всего 12 часов. Минимальное значение – 2 часа, самый медлительный пользователь решался в течение почти недели.\n",
    "\n",
    "Это значит, что нет смысла исключать пользователей, которые не дожили до 14-го лайфтайма. Конверсия в покупку не занимает больше недели и чаще всего происходит уже в день регистрации. \n",
    "\n",
    "Для чистоты эксперимента исключим события, совершенные каждым пользователем более чем через 14 дней после регистрации."
   ]
  },
  {
   "cell_type": "code",
   "execution_count": 643,
   "metadata": {},
   "outputs": [],
   "source": [
    "tdlt = timedelta(14)\n",
    "df = df.query('(event_dt - first_date) <= @tdlt', engine='python')"
   ]
  },
  {
   "cell_type": "markdown",
   "metadata": {},
   "source": [
    "Проверим, могли ли повлиять на активность маркетинговые события в компании. Найдем кампании, которые проводились в декабре 2020 и январе 2021."
   ]
  },
  {
   "cell_type": "code",
   "execution_count": 644,
   "metadata": {
    "scrolled": true
   },
   "outputs": [
    {
     "data": {
      "text/html": [
       "<div>\n",
       "<style scoped>\n",
       "    .dataframe tbody tr th:only-of-type {\n",
       "        vertical-align: middle;\n",
       "    }\n",
       "\n",
       "    .dataframe tbody tr th {\n",
       "        vertical-align: top;\n",
       "    }\n",
       "\n",
       "    .dataframe thead th {\n",
       "        text-align: right;\n",
       "    }\n",
       "</style>\n",
       "<table border=\"1\" class=\"dataframe\">\n",
       "  <thead>\n",
       "    <tr style=\"text-align: right;\">\n",
       "      <th></th>\n",
       "      <th>name</th>\n",
       "      <th>regions</th>\n",
       "      <th>start_dt</th>\n",
       "      <th>finish_dt</th>\n",
       "    </tr>\n",
       "  </thead>\n",
       "  <tbody>\n",
       "    <tr>\n",
       "      <th>5</th>\n",
       "      <td>Black Friday Ads Campaign</td>\n",
       "      <td>EU, CIS, APAC, N.America</td>\n",
       "      <td>2020-11-26</td>\n",
       "      <td>2020-12-01</td>\n",
       "    </tr>\n",
       "    <tr>\n",
       "      <th>0</th>\n",
       "      <td>Christmas&amp;New Year Promo</td>\n",
       "      <td>EU, N.America</td>\n",
       "      <td>2020-12-25</td>\n",
       "      <td>2021-01-03</td>\n",
       "    </tr>\n",
       "  </tbody>\n",
       "</table>\n",
       "</div>"
      ],
      "text/plain": [
       "                        name                   regions   start_dt  finish_dt\n",
       "5  Black Friday Ads Campaign  EU, CIS, APAC, N.America 2020-11-26 2020-12-01\n",
       "0   Christmas&New Year Promo             EU, N.America 2020-12-25 2021-01-03"
      ]
     },
     "execution_count": 644,
     "metadata": {},
     "output_type": "execute_result"
    }
   ],
   "source": [
    "marketing_events.query('start_dt >= \"2020-11-25\" & regions.str.contains(\"EU\")').sort_values(by='start_dt')"
   ]
  },
  {
   "cell_type": "markdown",
   "metadata": {},
   "source": [
    "В это время в целевом регионе проходили 2 компании:\n",
    "- \"Черная пятница\", хотя и закончилась 1 декабря, тоже могла повлиять на поведение пользователей: до и после такого типа акций продажи обычно падают – люди откладывают покупку до скидок, а после менее охотно покупают то, что неделю назад продавалось намного дешевле. \n",
    "- Вторая акция посвящена рождественским и новогодним праздникам, началась 25 декабря.\n",
    "\n",
    "Стоит помнить о том, что поведение пользователей в условиях праздников и акций отличается от обычного. Мы можем сравнить группы А и В между собой, но время проведения теста не позволяет делать выводов о динамике активности пользователей в целом. "
   ]
  },
  {
   "cell_type": "markdown",
   "metadata": {},
   "source": [
    "### Формирование групп\n",
    "\n",
    "Критерии проверки:\n",
    "- Аудитория теста по ТЗ – это 15% новых пользователей из региона EU;\n",
    "- Один пользователь не может быть в обеих группах одновременно;\n",
    "- Ожидаемое количество участников – 6000;\n",
    "- Группы должны быть сопоставимы по размеру.\n",
    "\n",
    "Посмотрим, все ли пользователи из нужного региона."
   ]
  },
  {
   "cell_type": "code",
   "execution_count": 645,
   "metadata": {},
   "outputs": [
    {
     "data": {
      "text/plain": [
       "EU           19849\n",
       "N.America      815\n",
       "APAC           225\n",
       "CIS            196\n",
       "Name: region, dtype: int64"
      ]
     },
     "execution_count": 645,
     "metadata": {},
     "output_type": "execute_result"
    }
   ],
   "source": [
    "df['region'].value_counts()"
   ]
  },
  {
   "cell_type": "markdown",
   "metadata": {},
   "source": [
    "В тест попали пользователи из других регионов. Это еще один серьезный недостаток качества проведения теста. Оставим в данных только участников из EU."
   ]
  },
  {
   "cell_type": "code",
   "execution_count": 646,
   "metadata": {},
   "outputs": [],
   "source": [
    "df = df.query('region == \"EU\"')\n",
    "ab = ab.merge(users.query('region == \"EU\"'), on='user_id')"
   ]
  },
  {
   "cell_type": "markdown",
   "metadata": {},
   "source": [
    "Далее рассчитаем, соответствует ли доля пользователей из EU требуемому уровню в 15%.\n",
    "\n",
    "На этапе предобработки мы исключили из участников теста тех, кто также попал в другой А/В-тест, причем был в нем в экспериментальной группе. Требования к доле участников из EU и к отсутствию пересечений между тестами будем оценивать отдельно, поэтому для расчета возьмем исходные данные."
   ]
  },
  {
   "cell_type": "code",
   "execution_count": 647,
   "metadata": {
    "scrolled": true
   },
   "outputs": [
    {
     "name": "stdout",
     "output_type": "stream",
     "text": [
      "Число попавших в тест из региона EU: 15%\n"
     ]
    }
   ],
   "source": [
    "eu_users = (\n",
    "    users.query('region == \"EU\" & first_date <= \"2020-12-21\"')\n",
    "                .merge(ab_raw.query('ab_test == \"recommender_system_test\"'), \n",
    "                on='user_id', how='left')\n",
    ")\n",
    "print(f'Число попавших в тест из региона EU: {eu_users[\"ab_test\"].count()/len(eu_users):.0%}')"
   ]
  },
  {
   "cell_type": "markdown",
   "metadata": {},
   "source": [
    "Технически требование выполнено, но некоторые пользователи на этапе предобработки были исключены. Посчитаем, какая доля европейских пользователей осталась после исключения тех, кто одновременно попал в другой тест."
   ]
  },
  {
   "cell_type": "code",
   "execution_count": 648,
   "metadata": {},
   "outputs": [
    {
     "name": "stdout",
     "output_type": "stream",
     "text": [
      "Число корректно попавших в тест из региона EU: 13%\n"
     ]
    }
   ],
   "source": [
    "_ = len(ab)/len(users.query('region == \"EU\" & first_date <= \"2020-12-21\"'))\n",
    "print(f'Число корректно попавших в тест из региона EU: {_:.0%}')"
   ]
  },
  {
   "cell_type": "markdown",
   "metadata": {},
   "source": [
    "В итоге аудитория получилась меньше нужных 15%."
   ]
  },
  {
   "cell_type": "markdown",
   "metadata": {},
   "source": [
    "Один и тот же пользователь не может быть в обеих группах одновременно. Проверим данные на наличие таких пересечений."
   ]
  },
  {
   "cell_type": "code",
   "execution_count": 649,
   "metadata": {},
   "outputs": [
    {
     "data": {
      "text/plain": [
       "0"
      ]
     },
     "execution_count": 649,
     "metadata": {},
     "output_type": "execute_result"
    }
   ],
   "source": [
    "ab['user_id'].duplicated().sum()"
   ]
  },
  {
   "cell_type": "markdown",
   "metadata": {},
   "source": [
    "Идентификаторы не повторяются. Пересечений между группами нет.\n",
    "\n",
    "Теперь можно посчитать итоговое число участников теста."
   ]
  },
  {
   "cell_type": "code",
   "execution_count": 650,
   "metadata": {},
   "outputs": [
    {
     "name": "stdout",
     "output_type": "stream",
     "text": [
      "Число участников теста: 5568\n",
      "От ожидаемого количества участников: 93%\n"
     ]
    }
   ],
   "source": [
    "print(f'Число участников теста: {len(ab)}')\n",
    "print(f'От ожидаемого количества участников: {len(ab)/6000:.0%}')"
   ]
  },
  {
   "cell_type": "markdown",
   "metadata": {},
   "source": [
    "Размер выборки не дотягивает до 6 тысяч. Если требование не строгое, при недоборе в 7% его можно посчитать выполненным.\n",
    "\n",
    "Также проверим группы на соразмерность: сравним число пользователей в группах А и В."
   ]
  },
  {
   "cell_type": "code",
   "execution_count": 651,
   "metadata": {},
   "outputs": [
    {
     "data": {
      "image/png": "[encoded data removed]",
      "text/plain": [
       "<Figure size 400x400 with 1 Axes>"
      ]
     },
     "metadata": {},
     "output_type": "display_data"
    }
   ],
   "source": [
    "def pie_fmt(values):\n",
    "    def fmt(pct):\n",
    "        total = sum(values)\n",
    "        value = int(round(pct*total/100.0))\n",
    "        return '{v:d}\\n({:.1f}%)'.format(pct, v=value)\n",
    "    return fmt\n",
    "\n",
    "plt.title('Численность групп А и В')\n",
    "ab['group'].value_counts().plot.pie(autopct=pie_fmt(ab['group'].value_counts()), figsize=(4,4),\n",
    "                                    textprops={'fontsize': 12}, cmap='Pastel2')\n",
    "plt.ylabel(None);"
   ]
  },
  {
   "cell_type": "code",
   "execution_count": 652,
   "metadata": {},
   "outputs": [
    {
     "name": "stdout",
     "output_type": "stream",
     "text": [
      "Разница между размером групп: 30%\n"
     ]
    }
   ],
   "source": [
    "size_a = ab.groupby('group').size()['A']\n",
    "size_b = ab.groupby('group').size()['B']\n",
    "\n",
    "print(f'Разница между размером групп: {abs(size_a-size_b) / ((size_a+size_b) / 2):.0%}')"
   ]
  },
  {
   "cell_type": "markdown",
   "metadata": {},
   "source": [
    "Группа В меньше почти на тысячу пользователей. Разница между группами существенная, это может исказить результаты теста. "
   ]
  },
  {
   "cell_type": "markdown",
   "metadata": {},
   "source": [
    "**Выводы по корректности проведения теста**\n",
    "\n",
    "По качеству проведения А/В-теста выявлено множество серьезных недостатков:\n",
    "- Некоторые пользователи участвовали еще в одном тесте в тот же период;\n",
    "- В тест попали пользователи из регионов, не входящих в аудиторию;\n",
    "- Группы различаются по размеру на 30%;\n",
    "- Количество участников теста меньше ожидаемого на 7%;\n",
    "- Набор пользователей продолжался на 2 дня дольше;\n",
    "- Тест завершился на 5 дней раньше;\n",
    "- Тест проводился по время рождественских и новогодних праздников, одновременно с маркетинговыми кампаниями под эти праздники.\n",
    "\n",
    "Такое количество проблем не позволяет делать надежных выводов по тесту."
   ]
  },
  {
   "cell_type": "markdown",
   "metadata": {},
   "source": [
    "<a id='eda'></a>\n",
    "## Исследовательский анализ данных\n",
    "\n",
    "Для изучения данных рассмотрим некоторые показатели:\n",
    "- Число событий:\n",
    "    - На пользователя;\n",
    "    - По датам;\n",
    "- Воронка событий и конверсия на этапах."
   ]
  },
  {
   "cell_type": "markdown",
   "metadata": {},
   "source": [
    "### Распределение событий\n",
    "\n",
    "Посмотрим, сколько событий в среднем совершали пользователи. Будем помнить, что во время теста проводились маркетинговые мероприятия – поведение пользователей, вероятно, отличалось от обычного. Можем сравнить группы А и В между собой, но не более."
   ]
  },
  {
   "cell_type": "code",
   "execution_count": 653,
   "metadata": {
    "scrolled": false
   },
   "outputs": [
    {
     "data": {
      "image/png": "[encoded data removed]",
      "text/plain": [
       "<Figure size 640x480 with 1 Axes>"
      ]
     },
     "metadata": {},
     "output_type": "display_data"
    }
   ],
   "source": [
    "epu_a, epu_b = (\n",
    "    len(df.query('group == \"A\"')) / len(ab.query('group == \"A\"')),\n",
    "    len(df.query('group == \"B\"')) / len(ab.query('group == \"B\"'))\n",
    ")\n",
    "\n",
    "plt.title('Среднее число событий на пользователя', fontsize=14)\n",
    "ax = sns.barplot(x=['A', 'B'], y=[epu_a, epu_b], palette='Set2');\n",
    "for p in ax.patches:\n",
    "    plt.text(p.get_x()+p.get_width()/2, p.get_height()/2,\n",
    "             f'{p.get_height():.2f}', ha='center')\n",
    "plt.ylabel('Число событий')\n",
    "plt.xlabel('Группа');"
   ]
  },
  {
   "cell_type": "markdown",
   "metadata": {},
   "source": [
    "Среднее количество событий на юзера в группе А в разы выше.\n",
    "\n",
    "Посмотрим, как события распределяются по периоду. Построим график распределения числа событий на каждый день проведения теста в разбивке по группам.  "
   ]
  },
  {
   "cell_type": "code",
   "execution_count": 654,
   "metadata": {
    "scrolled": false
   },
   "outputs": [
    {
     "data": {
      "image/png": "[encoded data removed]",
      "text/plain": [
       "<Figure size 1000x600 with 1 Axes>"
      ]
     },
     "metadata": {},
     "output_type": "display_data"
    }
   ],
   "source": [
    "plt.figure(figsize=(10,6))\n",
    "plt.title('Число событий по датам и группам', fontsize=14)\n",
    "sns.histplot(data=df, x='event_dt', hue='group', kde=True, element='step', bins=23, alpha=0.4)\n",
    "plt.xlabel('Дата')\n",
    "plt.ylabel('Число событий');"
   ]
  },
  {
   "cell_type": "markdown",
   "metadata": {},
   "source": [
    "На первый взгляд разница колоссальная, однако стоит помнить о разнице в размерах групп – группа А на 30% больше В, следовательно, событий также будет больше.\n",
    "\n",
    "В начале периода (с 7 по 10 декабря) активность групп была примерно одинаковой и соотносилась с их численностью. В следующие три дня, с 11 по 13 декабря, контрольная группа выходит вперед и показывает уже двукратное преимущество. Затем происходит интересное: 14 декабря группа А резко уходит в отрыв, число событий в ней взлетает в несколько раз и до конца всего периода многократно превышает активность группы В. \n",
    "\n",
    "Попробуем определить причину резкого повышения активности в группе А 14 декабря. "
   ]
  },
  {
   "cell_type": "code",
   "execution_count": 655,
   "metadata": {},
   "outputs": [
    {
     "data": {
      "image/png": "[encoded data removed]",
      "text/plain": [
       "<Figure size 1000x500 with 1 Axes>"
      ]
     },
     "metadata": {},
     "output_type": "display_data"
    }
   ],
   "source": [
    "cohort_plot = df.sort_values(by='first_date', ascending=False)\n",
    "# отобразим на легенде только нужную когорту через добавление префикса к остальным датам привлечения \n",
    "cohort_plot['first_date'] = cohort_plot['first_date'].dt.date.astype('str')\n",
    "msk = cohort_plot['first_date'] == '2020-12-14'\n",
    "cohort_plot['first_date'] = cohort_plot['first_date'].where(msk, \n",
    "                                                            '_' + cohort_plot['first_date'].astype('str'))\n",
    "\n",
    "with warnings.catch_warnings():\n",
    "    warnings.simplefilter(action='ignore', category=UserWarning)\n",
    "\n",
    "    plt.figure(figsize=(10,5))\n",
    "    plt.title('Число событий по когортам')\n",
    "    ax = sns.histplot(data=cohort_plot,\n",
    "                      x='event_dt', hue='first_date', element='poly', bins=23, alpha=1,\n",
    "                      multiple='stack', palette='tab20c');\n",
    "    ax.set(xlabel='Число событий', ylabel='Дата')\n",
    "    ax.get_legend().set_title('Когорта')"
   ]
  },
  {
   "cell_type": "markdown",
   "metadata": {},
   "source": [
    "В эту дату пришло аномально высокое число новых пользователей, однако скачок в числе событий наблюдаем только в группе А. Возможно ли, что в когорте 14 декабря произошел перекос в размерах групп, и в контрольную попало гораздо больше пользователей? Такого быть не должно, но в тесте уже обнаружены критичные ошибки, так что стоит проверить.\n",
    "\n",
    "Посмотрим, как юзеры распределяются по группам за каждую дату привлечения."
   ]
  },
  {
   "cell_type": "code",
   "execution_count": 656,
   "metadata": {},
   "outputs": [
    {
     "data": {
      "image/png": "[encoded data removed]",
      "text/plain": [
       "<Figure size 800x400 with 1 Axes>"
      ]
     },
     "metadata": {},
     "output_type": "display_data"
    }
   ],
   "source": [
    "plt.figure(figsize=(8,4))\n",
    "ax = sns.histplot(data=ab[['first_date', 'group']], x='first_date', hue='group', \n",
    "             bins=ab['first_date'].nunique(), multiple='fill', palette='Set2')\n",
    "plt.grid(False)\n",
    "plt.xticks(ticks=ab['first_date'].unique(), rotation=45)\n",
    "ax.set(title='Распределение пользователей по группам', xlabel='Дата привлечения', ylabel='Доля пользователей')\n",
    "ax.get_legend().set_title('Группа')"
   ]
  },
  {
   "cell_type": "markdown",
   "metadata": {},
   "source": [
    "Пользователи распределяются по группам равномерно, в среднем около 60% попадают в группу А, и 14 декабря не исключение. Значит, дело не в числе юзеров – контрольная группа действительно становилась более активной.\n",
    "\n",
    "Проверим вывод. Рассчитаем среднее число событий на пользователя за каждый день теста, чтобы сравнить активность групп с поправкой на их разные размеры."
   ]
  },
  {
   "cell_type": "code",
   "execution_count": 657,
   "metadata": {},
   "outputs": [
    {
     "data": {
      "image/png": "[encoded data removed]",
      "text/plain": [
       "<Figure size 800x400 with 1 Axes>"
      ]
     },
     "metadata": {},
     "output_type": "display_data"
    }
   ],
   "source": [
    "df['event_date'] = df['event_dt'].dt.date\n",
    "ucnttest = df.pivot_table(index=['event_date', 'group'], values='user_id',\n",
    "              aggfunc=lambda x: x.count()/x.nunique()).reset_index()\n",
    "\n",
    "plt.figure(figsize=(8,4))\n",
    "ax = sns.lineplot(data=ucnttest, x='event_date', y='user_id', hue='group', palette='Set2');\n",
    "ax.set(title='Активность пользователей по группам', xlabel='Дата', ylabel='Событий на пользователя\\n(среднее)')\n",
    "ax.get_legend().set_title('Группа')"
   ]
  },
  {
   "cell_type": "markdown",
   "metadata": {},
   "source": [
    "За исключением первого дня теста, пользователи группы А стабильно совершают больше событий. Более того, к концу периода активность контрольной группы пусть немного, но выросла, а в группе В только снизилась.\n",
    "\n",
    "Несмотря на все недостатки в методике проведения теста, по количеству событий в группах можно заключить, что внесенные в рекомендательную систему изменения не оказывают положительного влияния на поведение пользователей."
   ]
  },
  {
   "cell_type": "markdown",
   "metadata": {},
   "source": [
    "### Воронка событий и конверсия\n",
    "\n",
    "Выведем уникальные события и посчитаем, сколько раз они совершались всеми участниками теста."
   ]
  },
  {
   "cell_type": "code",
   "execution_count": 658,
   "metadata": {},
   "outputs": [
    {
     "data": {
      "image/png": "[encoded data removed]",
      "text/plain": [
       "<Figure size 800x400 with 1 Axes>"
      ]
     },
     "metadata": {},
     "output_type": "display_data"
    }
   ],
   "source": [
    "ax = (\n",
    "    df['event_name'].value_counts().sort_values()\n",
    "    .plot(kind='barh', figsize=(8,4), cmap='Set2', grid=False)\n",
    ")\n",
    "plt.title('Частота событий', fontsize=12)\n",
    "plt.xlabel('Частота')\n",
    "plt.ylabel('Событие');\n",
    "for p in ax.patches:\n",
    "    width = p.get_width()\n",
    "    plt.text(p.get_width()/2, p.get_y()+p.get_height()/2,\n",
    "             f'{width/len(df):.1%}',\n",
    "             ha='left', va='center')"
   ]
  },
  {
   "cell_type": "markdown",
   "metadata": {},
   "source": [
    "В воронке 4 события:\n",
    "- `login` – вход;\n",
    "- `products_page` – просмотр страницы товара;\n",
    "- `products_cart` – просмотр корзины;\n",
    "- `purchase` – покупка.\n",
    "\n",
    "Интересно, что совершение покупки происходит чаще, чем просмотр корзины. \n",
    "\n",
    "Рассчитаем также, какое количество уникальных пользователей совершило каждое из событий."
   ]
  },
  {
   "cell_type": "code",
   "execution_count": 659,
   "metadata": {},
   "outputs": [
    {
     "data": {
      "image/png": "[encoded data removed]",
      "text/plain": [
       "<Figure size 800x400 with 1 Axes>"
      ]
     },
     "metadata": {},
     "output_type": "display_data"
    }
   ],
   "source": [
    "event_user_ucnt = df.groupby('event_name')['user_id'].nunique()\n",
    "users_ucnt = df['user_id'].nunique()\n",
    "\n",
    "ax = event_user_ucnt.sort_values().plot(kind='barh',figsize=(8,4), cmap='Set2', grid=False);\n",
    "\n",
    "plt.title('События по числу уникальных пользователей')\n",
    "plt.xlabel('Число уникальных пользователей,\\nсовершивших событие')\n",
    "plt.ylabel('Событие');\n",
    "for p in ax.patches:\n",
    "    width = p.get_width()\n",
    "    plt.text(p.get_width()/2, p.get_y()+p.get_height()/2,\n",
    "             f'{width}\\n({width/users_ucnt:.1%})',\n",
    "             ha='left', va='center')"
   ]
  },
  {
   "cell_type": "markdown",
   "metadata": {},
   "source": [
    "Даже самое популярное событие совершили далеко не все пользователи (всего в тесте 5568 участников). Кажется, почти половина участников теста не проявила никакой активности.<br> \n",
    "*Также возможно, что авторизироваться для совершения покупки не обязательно.*\n",
    "\n",
    "Покупки совершило большее число пользователей, чем просмотр/добавление в корзину. Далее будем считать этот шаг необязательным.\n",
    "\n",
    "Построим воронку продаж и рассчитаем процент удержания на каждом этапе."
   ]
  },
  {
   "cell_type": "code",
   "execution_count": 660,
   "metadata": {},
   "outputs": [
    {
     "data": {
      "application/vnd.plotly.v1+json": {
       "config": {
        "plotlyServerURL": "https://plot.ly"
       },
       "data": [
        {
         "hoverinfo": "skip",
         "legendgroup": "user_id",
         "marker": {
          "color": "#636efa"
         },
         "name": "user_id",
         "orientation": "h",
         "showlegend": true,
         "texttemplate": "%{value}<br>От общего кол-ва: %{percentInitial}<br>С пред. шага: %{percentPrevious}",
         "type": "funnel",
         "x": [
          5568,
          3049,
          1905,
          953
         ],
         "xaxis": "x",
         "y": [
          "total",
          "login",
          "product_page",
          "purchase"
         ],
         "yaxis": "y"
        }
       ],
       "layout": {
        "legend": {
         "title": {
          "text": "variable"
         },
         "tracegroupgap": 0
        },
        "showlegend": false,
        "template": {
         "data": {
          "bar": [
           {
            "error_x": {
             "color": "#2a3f5f"
            },
            "error_y": {
             "color": "#2a3f5f"
            },
            "marker": {
             "line": {
              "color": "#E5ECF6",
              "width": 0.5
             },
             "pattern": {
              "fillmode": "overlay",
              "size": 10,
              "solidity": 0.2
             }
            },
            "type": "bar"
           }
          ],
          "barpolar": [
           {
            "marker": {
             "line": {
              "color": "#E5ECF6",
              "width": 0.5
             },
             "pattern": {
              "fillmode": "overlay",
              "size": 10,
              "solidity": 0.2
             }
            },
            "type": "barpolar"
           }
          ],
          "carpet": [
           {
            "aaxis": {
             "endlinecolor": "#2a3f5f",
             "gridcolor": "white",
             "linecolor": "white",
             "minorgridcolor": "white",
             "startlinecolor": "#2a3f5f"
            },
            "baxis": {
             "endlinecolor": "#2a3f5f",
             "gridcolor": "white",
             "linecolor": "white",
             "minorgridcolor": "white",
             "startlinecolor": "#2a3f5f"
            },
            "type": "carpet"
           }
          ],
          "choropleth": [
           {
            "colorbar": {
             "outlinewidth": 0,
             "ticks": ""
            },
            "type": "choropleth"
           }
          ],
          "contour": [
           {
            "colorbar": {
             "outlinewidth": 0,
             "ticks": ""
            },
            "colorscale": [
             [
              0,
              "#0d0887"
             ],
             [
              0.1111111111111111,
              "#46039f"
             ],
             [
              0.2222222222222222,
              "#7201a8"
             ],
             [
              0.3333333333333333,
              "#9c179e"
             ],
             [
              0.4444444444444444,
              "#bd3786"
             ],
             [
              0.5555555555555556,
              "#d8576b"
             ],
             [
              0.6666666666666666,
              "#ed7953"
             ],
             [
              0.7777777777777778,
              "#fb9f3a"
             ],
             [
              0.8888888888888888,
              "#fdca26"
             ],
             [
              1,
              "#f0f921"
             ]
            ],
            "type": "contour"
           }
          ],
          "contourcarpet": [
           {
            "colorbar": {
             "outlinewidth": 0,
             "ticks": ""
            },
            "type": "contourcarpet"
           }
          ],
          "heatmap": [
           {
            "colorbar": {
             "outlinewidth": 0,
             "ticks": ""
            },
            "colorscale": [
             [
              0,
              "#0d0887"
             ],
             [
              0.1111111111111111,
              "#46039f"
             ],
             [
              0.2222222222222222,
              "#7201a8"
             ],
             [
              0.3333333333333333,
              "#9c179e"
             ],
             [
              0.4444444444444444,
              "#bd3786"
             ],
             [
              0.5555555555555556,
              "#d8576b"
             ],
             [
              0.6666666666666666,
              "#ed7953"
             ],
             [
              0.7777777777777778,
              "#fb9f3a"
             ],
             [
              0.8888888888888888,
              "#fdca26"
             ],
             [
              1,
              "#f0f921"
             ]
            ],
            "type": "heatmap"
           }
          ],
          "heatmapgl": [
           {
            "colorbar": {
             "outlinewidth": 0,
             "ticks": ""
            },
            "colorscale": [
             [
              0,
              "#0d0887"
             ],
             [
              0.1111111111111111,
              "#46039f"
             ],
             [
              0.2222222222222222,
              "#7201a8"
             ],
             [
              0.3333333333333333,
              "#9c179e"
             ],
             [
              0.4444444444444444,
              "#bd3786"
             ],
             [
              0.5555555555555556,
              "#d8576b"
             ],
             [
              0.6666666666666666,
              "#ed7953"
             ],
             [
              0.7777777777777778,
              "#fb9f3a"
             ],
             [
              0.8888888888888888,
              "#fdca26"
             ],
             [
              1,
              "#f0f921"
             ]
            ],
            "type": "heatmapgl"
           }
          ],
          "histogram": [
           {
            "marker": {
             "pattern": {
              "fillmode": "overlay",
              "size": 10,
              "solidity": 0.2
             }
            },
            "type": "histogram"
           }
          ],
          "histogram2d": [
           {
            "colorbar": {
             "outlinewidth": 0,
             "ticks": ""
            },
            "colorscale": [
             [
              0,
              "#0d0887"
             ],
             [
              0.1111111111111111,
              "#46039f"
             ],
             [
              0.2222222222222222,
              "#7201a8"
             ],
             [
              0.3333333333333333,
              "#9c179e"
             ],
             [
              0.4444444444444444,
              "#bd3786"
             ],
             [
              0.5555555555555556,
              "#d8576b"
             ],
             [
              0.6666666666666666,
              "#ed7953"
             ],
             [
              0.7777777777777778,
              "#fb9f3a"
             ],
             [
              0.8888888888888888,
              "#fdca26"
             ],
             [
              1,
              "#f0f921"
             ]
            ],
            "type": "histogram2d"
           }
          ],
          "histogram2dcontour": [
           {
            "colorbar": {
             "outlinewidth": 0,
             "ticks": ""
            },
            "colorscale": [
             [
              0,
              "#0d0887"
             ],
             [
              0.1111111111111111,
              "#46039f"
             ],
             [
              0.2222222222222222,
              "#7201a8"
             ],
             [
              0.3333333333333333,
              "#9c179e"
             ],
             [
              0.4444444444444444,
              "#bd3786"
             ],
             [
              0.5555555555555556,
              "#d8576b"
             ],
             [
              0.6666666666666666,
              "#ed7953"
             ],
             [
              0.7777777777777778,
              "#fb9f3a"
             ],
             [
              0.8888888888888888,
              "#fdca26"
             ],
             [
              1,
              "#f0f921"
             ]
            ],
            "type": "histogram2dcontour"
           }
          ],
          "mesh3d": [
           {
            "colorbar": {
             "outlinewidth": 0,
             "ticks": ""
            },
            "type": "mesh3d"
           }
          ],
          "parcoords": [
           {
            "line": {
             "colorbar": {
              "outlinewidth": 0,
              "ticks": ""
             }
            },
            "type": "parcoords"
           }
          ],
          "pie": [
           {
            "automargin": true,
            "type": "pie"
           }
          ],
          "scatter": [
           {
            "fillpattern": {
             "fillmode": "overlay",
             "size": 10,
             "solidity": 0.2
            },
            "type": "scatter"
           }
          ],
          "scatter3d": [
           {
            "line": {
             "colorbar": {
              "outlinewidth": 0,
              "ticks": ""
             }
            },
            "marker": {
             "colorbar": {
              "outlinewidth": 0,
              "ticks": ""
             }
            },
            "type": "scatter3d"
           }
          ],
          "scattercarpet": [
           {
            "marker": {
             "colorbar": {
              "outlinewidth": 0,
              "ticks": ""
             }
            },
            "type": "scattercarpet"
           }
          ],
          "scattergeo": [
           {
            "marker": {
             "colorbar": {
              "outlinewidth": 0,
              "ticks": ""
             }
            },
            "type": "scattergeo"
           }
          ],
          "scattergl": [
           {
            "marker": {
             "colorbar": {
              "outlinewidth": 0,
              "ticks": ""
             }
            },
            "type": "scattergl"
           }
          ],
          "scattermapbox": [
           {
            "marker": {
             "colorbar": {
              "outlinewidth": 0,
              "ticks": ""
             }
            },
            "type": "scattermapbox"
           }
          ],
          "scatterpolar": [
           {
            "marker": {
             "colorbar": {
              "outlinewidth": 0,
              "ticks": ""
             }
            },
            "type": "scatterpolar"
           }
          ],
          "scatterpolargl": [
           {
            "marker": {
             "colorbar": {
              "outlinewidth": 0,
              "ticks": ""
             }
            },
            "type": "scatterpolargl"
           }
          ],
          "scatterternary": [
           {
            "marker": {
             "colorbar": {
              "outlinewidth": 0,
              "ticks": ""
             }
            },
            "type": "scatterternary"
           }
          ],
          "surface": [
           {
            "colorbar": {
             "outlinewidth": 0,
             "ticks": ""
            },
            "colorscale": [
             [
              0,
              "#0d0887"
             ],
             [
              0.1111111111111111,
              "#46039f"
             ],
             [
              0.2222222222222222,
              "#7201a8"
             ],
             [
              0.3333333333333333,
              "#9c179e"
             ],
             [
              0.4444444444444444,
              "#bd3786"
             ],
             [
              0.5555555555555556,
              "#d8576b"
             ],
             [
              0.6666666666666666,
              "#ed7953"
             ],
             [
              0.7777777777777778,
              "#fb9f3a"
             ],
             [
              0.8888888888888888,
              "#fdca26"
             ],
             [
              1,
              "#f0f921"
             ]
            ],
            "type": "surface"
           }
          ],
          "table": [
           {
            "cells": {
             "fill": {
              "color": "#EBF0F8"
             },
             "line": {
              "color": "white"
             }
            },
            "header": {
             "fill": {
              "color": "#C8D4E3"
             },
             "line": {
              "color": "white"
             }
            },
            "type": "table"
           }
          ]
         },
         "layout": {
          "annotationdefaults": {
           "arrowcolor": "#2a3f5f",
           "arrowhead": 0,
           "arrowwidth": 1
          },
          "autotypenumbers": "strict",
          "coloraxis": {
           "colorbar": {
            "outlinewidth": 0,
            "ticks": ""
           }
          },
          "colorscale": {
           "diverging": [
            [
             0,
             "#8e0152"
            ],
            [
             0.1,
             "#c51b7d"
            ],
            [
             0.2,
             "#de77ae"
            ],
            [
             0.3,
             "#f1b6da"
            ],
            [
             0.4,
             "#fde0ef"
            ],
            [
             0.5,
             "#f7f7f7"
            ],
            [
             0.6,
             "#e6f5d0"
            ],
            [
             0.7,
             "#b8e186"
            ],
            [
             0.8,
             "#7fbc41"
            ],
            [
             0.9,
             "#4d9221"
            ],
            [
             1,
             "#276419"
            ]
           ],
           "sequential": [
            [
             0,
             "#0d0887"
            ],
            [
             0.1111111111111111,
             "#46039f"
            ],
            [
             0.2222222222222222,
             "#7201a8"
            ],
            [
             0.3333333333333333,
             "#9c179e"
            ],
            [
             0.4444444444444444,
             "#bd3786"
            ],
            [
             0.5555555555555556,
             "#d8576b"
            ],
            [
             0.6666666666666666,
             "#ed7953"
            ],
            [
             0.7777777777777778,
             "#fb9f3a"
            ],
            [
             0.8888888888888888,
             "#fdca26"
            ],
            [
             1,
             "#f0f921"
            ]
           ],
           "sequentialminus": [
            [
             0,
             "#0d0887"
            ],
            [
             0.1111111111111111,
             "#46039f"
            ],
            [
             0.2222222222222222,
             "#7201a8"
            ],
            [
             0.3333333333333333,
             "#9c179e"
            ],
            [
             0.4444444444444444,
             "#bd3786"
            ],
            [
             0.5555555555555556,
             "#d8576b"
            ],
            [
             0.6666666666666666,
             "#ed7953"
            ],
            [
             0.7777777777777778,
             "#fb9f3a"
            ],
            [
             0.8888888888888888,
             "#fdca26"
            ],
            [
             1,
             "#f0f921"
            ]
           ]
          },
          "colorway": [
           "#636efa",
           "#EF553B",
           "#00cc96",
           "#ab63fa",
           "#FFA15A",
           "#19d3f3",
           "#FF6692",
           "#B6E880",
           "#FF97FF",
           "#FECB52"
          ],
          "font": {
           "color": "#2a3f5f"
          },
          "geo": {
           "bgcolor": "white",
           "lakecolor": "white",
           "landcolor": "#E5ECF6",
           "showlakes": true,
           "showland": true,
           "subunitcolor": "white"
          },
          "hoverlabel": {
           "align": "left"
          },
          "hovermode": "closest",
          "mapbox": {
           "style": "light"
          },
          "paper_bgcolor": "white",
          "plot_bgcolor": "#E5ECF6",
          "polar": {
           "angularaxis": {
            "gridcolor": "white",
            "linecolor": "white",
            "ticks": ""
           },
           "bgcolor": "#E5ECF6",
           "radialaxis": {
            "gridcolor": "white",
            "linecolor": "white",
            "ticks": ""
           }
          },
          "scene": {
           "xaxis": {
            "backgroundcolor": "#E5ECF6",
            "gridcolor": "white",
            "gridwidth": 2,
            "linecolor": "white",
            "showbackground": true,
            "ticks": "",
            "zerolinecolor": "white"
           },
           "yaxis": {
            "backgroundcolor": "#E5ECF6",
            "gridcolor": "white",
            "gridwidth": 2,
            "linecolor": "white",
            "showbackground": true,
            "ticks": "",
            "zerolinecolor": "white"
           },
           "zaxis": {
            "backgroundcolor": "#E5ECF6",
            "gridcolor": "white",
            "gridwidth": 2,
            "linecolor": "white",
            "showbackground": true,
            "ticks": "",
            "zerolinecolor": "white"
           }
          },
          "shapedefaults": {
           "line": {
            "color": "#2a3f5f"
           }
          },
          "ternary": {
           "aaxis": {
            "gridcolor": "white",
            "linecolor": "white",
            "ticks": ""
           },
           "baxis": {
            "gridcolor": "white",
            "linecolor": "white",
            "ticks": ""
           },
           "bgcolor": "#E5ECF6",
           "caxis": {
            "gridcolor": "white",
            "linecolor": "white",
            "ticks": ""
           }
          },
          "title": {
           "x": 0.05
          },
          "xaxis": {
           "automargin": true,
           "gridcolor": "white",
           "linecolor": "white",
           "ticks": "",
           "title": {
            "standoff": 15
           },
           "zerolinecolor": "white",
           "zerolinewidth": 2
          },
          "yaxis": {
           "automargin": true,
           "gridcolor": "white",
           "linecolor": "white",
           "ticks": "",
           "title": {
            "standoff": 15
           },
           "zerolinecolor": "white",
           "zerolinewidth": 2
          }
         }
        },
        "title": {
         "text": "Удержание на этапах воронки событий"
        },
        "xaxis": {
         "anchor": "y",
         "domain": [
          0,
          1
         ],
         "title": {
          "text": "value"
         }
        },
        "yaxis": {
         "anchor": "x",
         "domain": [
          0,
          1
         ],
         "title": {
          "text": "Этап воронки событий"
         }
        }
       }
      },
      "text/html": [
       "<div>                            <div id=\"0231ab58-470c-4ae8-b161-2273ca824e9b\" class=\"plotly-graph-div\" style=\"height:525px; width:100%;\"></div>            <script type=\"text/javascript\">                require([\"plotly\"], function(Plotly) {                    window.PLOTLYENV=window.PLOTLYENV || {};                                    if (document.getElementById(\"0231ab58-470c-4ae8-b161-2273ca824e9b\")) {                    Plotly.newPlot(                        \"0231ab58-470c-4ae8-b161-2273ca824e9b\",                        [{\"legendgroup\":\"user_id\",\"marker\":{\"color\":\"#636efa\"},\"name\":\"user_id\",\"orientation\":\"h\",\"showlegend\":true,\"x\":[5568,3049,1905,953],\"xaxis\":\"x\",\"y\":[\"total\",\"login\",\"product_page\",\"purchase\"],\"yaxis\":\"y\",\"type\":\"funnel\",\"hoverinfo\":\"skip\",\"texttemplate\":\"%{value}<br>\\u041e\\u0442 \\u043e\\u0431\\u0449\\u0435\\u0433\\u043e \\u043a\\u043e\\u043b-\\u0432\\u0430: %{percentInitial}<br>\\u0421 \\u043f\\u0440\\u0435\\u0434. \\u0448\\u0430\\u0433\\u0430: %{percentPrevious}\"}],                        {\"template\":{\"data\":{\"histogram2dcontour\":[{\"type\":\"histogram2dcontour\",\"colorbar\":{\"outlinewidth\":0,\"ticks\":\"\"},\"colorscale\":[[0.0,\"#0d0887\"],[0.1111111111111111,\"#46039f\"],[0.2222222222222222,\"#7201a8\"],[0.3333333333333333,\"#9c179e\"],[0.4444444444444444,\"#bd3786\"],[0.5555555555555556,\"#d8576b\"],[0.6666666666666666,\"#ed7953\"],[0.7777777777777778,\"#fb9f3a\"],[0.8888888888888888,\"#fdca26\"],[1.0,\"#f0f921\"]]}],\"choropleth\":[{\"type\":\"choropleth\",\"colorbar\":{\"outlinewidth\":0,\"ticks\":\"\"}}],\"histogram2d\":[{\"type\":\"histogram2d\",\"colorbar\":{\"outlinewidth\":0,\"ticks\":\"\"},\"colorscale\":[[0.0,\"#0d0887\"],[0.1111111111111111,\"#46039f\"],[0.2222222222222222,\"#7201a8\"],[0.3333333333333333,\"#9c179e\"],[0.4444444444444444,\"#bd3786\"],[0.5555555555555556,\"#d8576b\"],[0.6666666666666666,\"#ed7953\"],[0.7777777777777778,\"#fb9f3a\"],[0.8888888888888888,\"#fdca26\"],[1.0,\"#f0f921\"]]}],\"heatmap\":[{\"type\":\"heatmap\",\"colorbar\":{\"outlinewidth\":0,\"ticks\":\"\"},\"colorscale\":[[0.0,\"#0d0887\"],[0.1111111111111111,\"#46039f\"],[0.2222222222222222,\"#7201a8\"],[0.3333333333333333,\"#9c179e\"],[0.4444444444444444,\"#bd3786\"],[0.5555555555555556,\"#d8576b\"],[0.6666666666666666,\"#ed7953\"],[0.7777777777777778,\"#fb9f3a\"],[0.8888888888888888,\"#fdca26\"],[1.0,\"#f0f921\"]]}],\"heatmapgl\":[{\"type\":\"heatmapgl\",\"colorbar\":{\"outlinewidth\":0,\"ticks\":\"\"},\"colorscale\":[[0.0,\"#0d0887\"],[0.1111111111111111,\"#46039f\"],[0.2222222222222222,\"#7201a8\"],[0.3333333333333333,\"#9c179e\"],[0.4444444444444444,\"#bd3786\"],[0.5555555555555556,\"#d8576b\"],[0.6666666666666666,\"#ed7953\"],[0.7777777777777778,\"#fb9f3a\"],[0.8888888888888888,\"#fdca26\"],[1.0,\"#f0f921\"]]}],\"contourcarpet\":[{\"type\":\"contourcarpet\",\"colorbar\":{\"outlinewidth\":0,\"ticks\":\"\"}}],\"contour\":[{\"type\":\"contour\",\"colorbar\":{\"outlinewidth\":0,\"ticks\":\"\"},\"colorscale\":[[0.0,\"#0d0887\"],[0.1111111111111111,\"#46039f\"],[0.2222222222222222,\"#7201a8\"],[0.3333333333333333,\"#9c179e\"],[0.4444444444444444,\"#bd3786\"],[0.5555555555555556,\"#d8576b\"],[0.6666666666666666,\"#ed7953\"],[0.7777777777777778,\"#fb9f3a\"],[0.8888888888888888,\"#fdca26\"],[1.0,\"#f0f921\"]]}],\"surface\":[{\"type\":\"surface\",\"colorbar\":{\"outlinewidth\":0,\"ticks\":\"\"},\"colorscale\":[[0.0,\"#0d0887\"],[0.1111111111111111,\"#46039f\"],[0.2222222222222222,\"#7201a8\"],[0.3333333333333333,\"#9c179e\"],[0.4444444444444444,\"#bd3786\"],[0.5555555555555556,\"#d8576b\"],[0.6666666666666666,\"#ed7953\"],[0.7777777777777778,\"#fb9f3a\"],[0.8888888888888888,\"#fdca26\"],[1.0,\"#f0f921\"]]}],\"mesh3d\":[{\"type\":\"mesh3d\",\"colorbar\":{\"outlinewidth\":0,\"ticks\":\"\"}}],\"scatter\":[{\"fillpattern\":{\"fillmode\":\"overlay\",\"size\":10,\"solidity\":0.2},\"type\":\"scatter\"}],\"parcoords\":[{\"type\":\"parcoords\",\"line\":{\"colorbar\":{\"outlinewidth\":0,\"ticks\":\"\"}}}],\"scatterpolargl\":[{\"type\":\"scatterpolargl\",\"marker\":{\"colorbar\":{\"outlinewidth\":0,\"ticks\":\"\"}}}],\"bar\":[{\"error_x\":{\"color\":\"#2a3f5f\"},\"error_y\":{\"color\":\"#2a3f5f\"},\"marker\":{\"line\":{\"color\":\"#E5ECF6\",\"width\":0.5},\"pattern\":{\"fillmode\":\"overlay\",\"size\":10,\"solidity\":0.2}},\"type\":\"bar\"}],\"scattergeo\":[{\"type\":\"scattergeo\",\"marker\":{\"colorbar\":{\"outlinewidth\":0,\"ticks\":\"\"}}}],\"scatterpolar\":[{\"type\":\"scatterpolar\",\"marker\":{\"colorbar\":{\"outlinewidth\":0,\"ticks\":\"\"}}}],\"histogram\":[{\"marker\":{\"pattern\":{\"fillmode\":\"overlay\",\"size\":10,\"solidity\":0.2}},\"type\":\"histogram\"}],\"scattergl\":[{\"type\":\"scattergl\",\"marker\":{\"colorbar\":{\"outlinewidth\":0,\"ticks\":\"\"}}}],\"scatter3d\":[{\"type\":\"scatter3d\",\"line\":{\"colorbar\":{\"outlinewidth\":0,\"ticks\":\"\"}},\"marker\":{\"colorbar\":{\"outlinewidth\":0,\"ticks\":\"\"}}}],\"scattermapbox\":[{\"type\":\"scattermapbox\",\"marker\":{\"colorbar\":{\"outlinewidth\":0,\"ticks\":\"\"}}}],\"scatterternary\":[{\"type\":\"scatterternary\",\"marker\":{\"colorbar\":{\"outlinewidth\":0,\"ticks\":\"\"}}}],\"scattercarpet\":[{\"type\":\"scattercarpet\",\"marker\":{\"colorbar\":{\"outlinewidth\":0,\"ticks\":\"\"}}}],\"carpet\":[{\"aaxis\":{\"endlinecolor\":\"#2a3f5f\",\"gridcolor\":\"white\",\"linecolor\":\"white\",\"minorgridcolor\":\"white\",\"startlinecolor\":\"#2a3f5f\"},\"baxis\":{\"endlinecolor\":\"#2a3f5f\",\"gridcolor\":\"white\",\"linecolor\":\"white\",\"minorgridcolor\":\"white\",\"startlinecolor\":\"#2a3f5f\"},\"type\":\"carpet\"}],\"table\":[{\"cells\":{\"fill\":{\"color\":\"#EBF0F8\"},\"line\":{\"color\":\"white\"}},\"header\":{\"fill\":{\"color\":\"#C8D4E3\"},\"line\":{\"color\":\"white\"}},\"type\":\"table\"}],\"barpolar\":[{\"marker\":{\"line\":{\"color\":\"#E5ECF6\",\"width\":0.5},\"pattern\":{\"fillmode\":\"overlay\",\"size\":10,\"solidity\":0.2}},\"type\":\"barpolar\"}],\"pie\":[{\"automargin\":true,\"type\":\"pie\"}]},\"layout\":{\"autotypenumbers\":\"strict\",\"colorway\":[\"#636efa\",\"#EF553B\",\"#00cc96\",\"#ab63fa\",\"#FFA15A\",\"#19d3f3\",\"#FF6692\",\"#B6E880\",\"#FF97FF\",\"#FECB52\"],\"font\":{\"color\":\"#2a3f5f\"},\"hovermode\":\"closest\",\"hoverlabel\":{\"align\":\"left\"},\"paper_bgcolor\":\"white\",\"plot_bgcolor\":\"#E5ECF6\",\"polar\":{\"bgcolor\":\"#E5ECF6\",\"angularaxis\":{\"gridcolor\":\"white\",\"linecolor\":\"white\",\"ticks\":\"\"},\"radialaxis\":{\"gridcolor\":\"white\",\"linecolor\":\"white\",\"ticks\":\"\"}},\"ternary\":{\"bgcolor\":\"#E5ECF6\",\"aaxis\":{\"gridcolor\":\"white\",\"linecolor\":\"white\",\"ticks\":\"\"},\"baxis\":{\"gridcolor\":\"white\",\"linecolor\":\"white\",\"ticks\":\"\"},\"caxis\":{\"gridcolor\":\"white\",\"linecolor\":\"white\",\"ticks\":\"\"}},\"coloraxis\":{\"colorbar\":{\"outlinewidth\":0,\"ticks\":\"\"}},\"colorscale\":{\"sequential\":[[0.0,\"#0d0887\"],[0.1111111111111111,\"#46039f\"],[0.2222222222222222,\"#7201a8\"],[0.3333333333333333,\"#9c179e\"],[0.4444444444444444,\"#bd3786\"],[0.5555555555555556,\"#d8576b\"],[0.6666666666666666,\"#ed7953\"],[0.7777777777777778,\"#fb9f3a\"],[0.8888888888888888,\"#fdca26\"],[1.0,\"#f0f921\"]],\"sequentialminus\":[[0.0,\"#0d0887\"],[0.1111111111111111,\"#46039f\"],[0.2222222222222222,\"#7201a8\"],[0.3333333333333333,\"#9c179e\"],[0.4444444444444444,\"#bd3786\"],[0.5555555555555556,\"#d8576b\"],[0.6666666666666666,\"#ed7953\"],[0.7777777777777778,\"#fb9f3a\"],[0.8888888888888888,\"#fdca26\"],[1.0,\"#f0f921\"]],\"diverging\":[[0,\"#8e0152\"],[0.1,\"#c51b7d\"],[0.2,\"#de77ae\"],[0.3,\"#f1b6da\"],[0.4,\"#fde0ef\"],[0.5,\"#f7f7f7\"],[0.6,\"#e6f5d0\"],[0.7,\"#b8e186\"],[0.8,\"#7fbc41\"],[0.9,\"#4d9221\"],[1,\"#276419\"]]},\"xaxis\":{\"gridcolor\":\"white\",\"linecolor\":\"white\",\"ticks\":\"\",\"title\":{\"standoff\":15},\"zerolinecolor\":\"white\",\"automargin\":true,\"zerolinewidth\":2},\"yaxis\":{\"gridcolor\":\"white\",\"linecolor\":\"white\",\"ticks\":\"\",\"title\":{\"standoff\":15},\"zerolinecolor\":\"white\",\"automargin\":true,\"zerolinewidth\":2},\"scene\":{\"xaxis\":{\"backgroundcolor\":\"#E5ECF6\",\"gridcolor\":\"white\",\"linecolor\":\"white\",\"showbackground\":true,\"ticks\":\"\",\"zerolinecolor\":\"white\",\"gridwidth\":2},\"yaxis\":{\"backgroundcolor\":\"#E5ECF6\",\"gridcolor\":\"white\",\"linecolor\":\"white\",\"showbackground\":true,\"ticks\":\"\",\"zerolinecolor\":\"white\",\"gridwidth\":2},\"zaxis\":{\"backgroundcolor\":\"#E5ECF6\",\"gridcolor\":\"white\",\"linecolor\":\"white\",\"showbackground\":true,\"ticks\":\"\",\"zerolinecolor\":\"white\",\"gridwidth\":2}},\"shapedefaults\":{\"line\":{\"color\":\"#2a3f5f\"}},\"annotationdefaults\":{\"arrowcolor\":\"#2a3f5f\",\"arrowhead\":0,\"arrowwidth\":1},\"geo\":{\"bgcolor\":\"white\",\"landcolor\":\"#E5ECF6\",\"subunitcolor\":\"white\",\"showland\":true,\"showlakes\":true,\"lakecolor\":\"white\"},\"title\":{\"x\":0.05},\"mapbox\":{\"style\":\"light\"}}},\"xaxis\":{\"anchor\":\"y\",\"domain\":[0.0,1.0],\"title\":{\"text\":\"value\"}},\"yaxis\":{\"anchor\":\"x\",\"domain\":[0.0,1.0],\"title\":{\"text\":\"\\u042d\\u0442\\u0430\\u043f \\u0432\\u043e\\u0440\\u043e\\u043d\\u043a\\u0438 \\u0441\\u043e\\u0431\\u044b\\u0442\\u0438\\u0439\"}},\"legend\":{\"title\":{\"text\":\"variable\"},\"tracegroupgap\":0},\"title\":{\"text\":\"\\u0423\\u0434\\u0435\\u0440\\u0436\\u0430\\u043d\\u0438\\u0435 \\u043d\\u0430 \\u044d\\u0442\\u0430\\u043f\\u0430\\u0445 \\u0432\\u043e\\u0440\\u043e\\u043d\\u043a\\u0438 \\u0441\\u043e\\u0431\\u044b\\u0442\\u0438\\u0439\"},\"showlegend\":false},                        {\"responsive\": true}                    ).then(function(){\n",
       "                            \n",
       "var gd = document.getElementById('0231ab58-470c-4ae8-b161-2273ca824e9b');\n",
       "var x = new MutationObserver(function (mutations, observer) {{\n",
       "        var display = window.getComputedStyle(gd).display;\n",
       "        if (!display || display === 'none') {{\n",
       "            console.log([gd, 'removed!']);\n",
       "            Plotly.purge(gd);\n",
       "            observer.disconnect();\n",
       "        }}\n",
       "}});\n",
       "\n",
       "// Listen for the removal of the full notebook cells\n",
       "var notebookContainer = gd.closest('#notebook-container');\n",
       "if (notebookContainer) {{\n",
       "    x.observe(notebookContainer, {childList: true});\n",
       "}}\n",
       "\n",
       "// Listen for the clearing of the current output cell\n",
       "var outputEl = gd.closest('.output');\n",
       "if (outputEl) {{\n",
       "    x.observe(outputEl, {childList: true});\n",
       "}}\n",
       "\n",
       "                        })                };                });            </script>        </div>"
      ]
     },
     "metadata": {},
     "output_type": "display_data"
    }
   ],
   "source": [
    "df['event_name_cat'] = pd.Categorical(df['event_name'], ['total', 'login', 'product_page', 'purchase'])\n",
    "\n",
    "funnel = df.groupby('event_name_cat').agg({'user_id':'nunique'})\n",
    "# добавим общее число участников теста\n",
    "funnel.loc['total', 'user_id'] = len(ab)\n",
    "funnel.sort_values(by='user_id', ascending=False, inplace=True)\n",
    "# строим график\n",
    "fig = px.funnel(funnel, title='Удержание на этапах воронки событий')\n",
    "fig.update_traces(\n",
    "    texttemplate='%{value}<br>От общего кол-ва: %{percentInitial}<br>С пред. шага: %{percentPrevious}',\n",
    "    hovertemplate=None, hoverinfo='skip'\n",
    ")\n",
    "fig.update_layout(showlegend=False, yaxis_title='Этап воронки событий')"
   ]
  },
  {
   "cell_type": "markdown",
   "metadata": {},
   "source": [
    "45% клиентов не совершили ни одного из действий, зато после авторизации конверсия неплохая – между входом и просмотром товара удержание 62%, от товара до покупки – 50%. \n",
    "\n",
    "Общая конверсия в покупку – 17%. Такой показатель практически во всех сферах считается отличным.\n",
    "\n",
    "Построим воронку в разбивке по группам теста."
   ]
  },
  {
   "cell_type": "code",
   "execution_count": 661,
   "metadata": {},
   "outputs": [
    {
     "data": {
      "application/vnd.plotly.v1+json": {
       "config": {
        "plotlyServerURL": "https://plot.ly"
       },
       "data": [
        {
         "hovertemplate": "От общего кол-ва: %{percentInitial}<br>С пред. шага: %{percentPrevious}",
         "legendgroup": "B",
         "marker": {
          "color": "#636efa"
         },
         "name": "B",
         "orientation": "h",
         "showlegend": true,
         "texttemplate": "%{value}<br>%{percentInitial}",
         "type": "funnel",
         "x": [
          2373,
          770,
          429,
          219
         ],
         "xaxis": "x",
         "y": [
          "total",
          "login",
          "product_page",
          "purchase"
         ],
         "yaxis": "y"
        },
        {
         "hovertemplate": "От общего кол-ва: %{percentInitial}<br>С пред. шага: %{percentPrevious}",
         "legendgroup": "A",
         "marker": {
          "color": "#EF553B"
         },
         "name": "A",
         "orientation": "h",
         "showlegend": true,
         "texttemplate": "%{value}<br>%{percentInitial}",
         "type": "funnel",
         "x": [
          3195,
          2279,
          1476,
          734
         ],
         "xaxis": "x",
         "y": [
          "total",
          "login",
          "product_page",
          "purchase"
         ],
         "yaxis": "y"
        }
       ],
       "layout": {
        "legend": {
         "title": {
          "text": "group"
         },
         "tracegroupgap": 0
        },
        "template": {
         "data": {
          "bar": [
           {
            "error_x": {
             "color": "#2a3f5f"
            },
            "error_y": {
             "color": "#2a3f5f"
            },
            "marker": {
             "line": {
              "color": "#E5ECF6",
              "width": 0.5
             },
             "pattern": {
              "fillmode": "overlay",
              "size": 10,
              "solidity": 0.2
             }
            },
            "type": "bar"
           }
          ],
          "barpolar": [
           {
            "marker": {
             "line": {
              "color": "#E5ECF6",
              "width": 0.5
             },
             "pattern": {
              "fillmode": "overlay",
              "size": 10,
              "solidity": 0.2
             }
            },
            "type": "barpolar"
           }
          ],
          "carpet": [
           {
            "aaxis": {
             "endlinecolor": "#2a3f5f",
             "gridcolor": "white",
             "linecolor": "white",
             "minorgridcolor": "white",
             "startlinecolor": "#2a3f5f"
            },
            "baxis": {
             "endlinecolor": "#2a3f5f",
             "gridcolor": "white",
             "linecolor": "white",
             "minorgridcolor": "white",
             "startlinecolor": "#2a3f5f"
            },
            "type": "carpet"
           }
          ],
          "choropleth": [
           {
            "colorbar": {
             "outlinewidth": 0,
             "ticks": ""
            },
            "type": "choropleth"
           }
          ],
          "contour": [
           {
            "colorbar": {
             "outlinewidth": 0,
             "ticks": ""
            },
            "colorscale": [
             [
              0,
              "#0d0887"
             ],
             [
              0.1111111111111111,
              "#46039f"
             ],
             [
              0.2222222222222222,
              "#7201a8"
             ],
             [
              0.3333333333333333,
              "#9c179e"
             ],
             [
              0.4444444444444444,
              "#bd3786"
             ],
             [
              0.5555555555555556,
              "#d8576b"
             ],
             [
              0.6666666666666666,
              "#ed7953"
             ],
             [
              0.7777777777777778,
              "#fb9f3a"
             ],
             [
              0.8888888888888888,
              "#fdca26"
             ],
             [
              1,
              "#f0f921"
             ]
            ],
            "type": "contour"
           }
          ],
          "contourcarpet": [
           {
            "colorbar": {
             "outlinewidth": 0,
             "ticks": ""
            },
            "type": "contourcarpet"
           }
          ],
          "heatmap": [
           {
            "colorbar": {
             "outlinewidth": 0,
             "ticks": ""
            },
            "colorscale": [
             [
              0,
              "#0d0887"
             ],
             [
              0.1111111111111111,
              "#46039f"
             ],
             [
              0.2222222222222222,
              "#7201a8"
             ],
             [
              0.3333333333333333,
              "#9c179e"
             ],
             [
              0.4444444444444444,
              "#bd3786"
             ],
             [
              0.5555555555555556,
              "#d8576b"
             ],
             [
              0.6666666666666666,
              "#ed7953"
             ],
             [
              0.7777777777777778,
              "#fb9f3a"
             ],
             [
              0.8888888888888888,
              "#fdca26"
             ],
             [
              1,
              "#f0f921"
             ]
            ],
            "type": "heatmap"
           }
          ],
          "heatmapgl": [
           {
            "colorbar": {
             "outlinewidth": 0,
             "ticks": ""
            },
            "colorscale": [
             [
              0,
              "#0d0887"
             ],
             [
              0.1111111111111111,
              "#46039f"
             ],
             [
              0.2222222222222222,
              "#7201a8"
             ],
             [
              0.3333333333333333,
              "#9c179e"
             ],
             [
              0.4444444444444444,
              "#bd3786"
             ],
             [
              0.5555555555555556,
              "#d8576b"
             ],
             [
              0.6666666666666666,
              "#ed7953"
             ],
             [
              0.7777777777777778,
              "#fb9f3a"
             ],
             [
              0.8888888888888888,
              "#fdca26"
             ],
             [
              1,
              "#f0f921"
             ]
            ],
            "type": "heatmapgl"
           }
          ],
          "histogram": [
           {
            "marker": {
             "pattern": {
              "fillmode": "overlay",
              "size": 10,
              "solidity": 0.2
             }
            },
            "type": "histogram"
           }
          ],
          "histogram2d": [
           {
            "colorbar": {
             "outlinewidth": 0,
             "ticks": ""
            },
            "colorscale": [
             [
              0,
              "#0d0887"
             ],
             [
              0.1111111111111111,
              "#46039f"
             ],
             [
              0.2222222222222222,
              "#7201a8"
             ],
             [
              0.3333333333333333,
              "#9c179e"
             ],
             [
              0.4444444444444444,
              "#bd3786"
             ],
             [
              0.5555555555555556,
              "#d8576b"
             ],
             [
              0.6666666666666666,
              "#ed7953"
             ],
             [
              0.7777777777777778,
              "#fb9f3a"
             ],
             [
              0.8888888888888888,
              "#fdca26"
             ],
             [
              1,
              "#f0f921"
             ]
            ],
            "type": "histogram2d"
           }
          ],
          "histogram2dcontour": [
           {
            "colorbar": {
             "outlinewidth": 0,
             "ticks": ""
            },
            "colorscale": [
             [
              0,
              "#0d0887"
             ],
             [
              0.1111111111111111,
              "#46039f"
             ],
             [
              0.2222222222222222,
              "#7201a8"
             ],
             [
              0.3333333333333333,
              "#9c179e"
             ],
             [
              0.4444444444444444,
              "#bd3786"
             ],
             [
              0.5555555555555556,
              "#d8576b"
             ],
             [
              0.6666666666666666,
              "#ed7953"
             ],
             [
              0.7777777777777778,
              "#fb9f3a"
             ],
             [
              0.8888888888888888,
              "#fdca26"
             ],
             [
              1,
              "#f0f921"
             ]
            ],
            "type": "histogram2dcontour"
           }
          ],
          "mesh3d": [
           {
            "colorbar": {
             "outlinewidth": 0,
             "ticks": ""
            },
            "type": "mesh3d"
           }
          ],
          "parcoords": [
           {
            "line": {
             "colorbar": {
              "outlinewidth": 0,
              "ticks": ""
             }
            },
            "type": "parcoords"
           }
          ],
          "pie": [
           {
            "automargin": true,
            "type": "pie"
           }
          ],
          "scatter": [
           {
            "fillpattern": {
             "fillmode": "overlay",
             "size": 10,
             "solidity": 0.2
            },
            "type": "scatter"
           }
          ],
          "scatter3d": [
           {
            "line": {
             "colorbar": {
              "outlinewidth": 0,
              "ticks": ""
             }
            },
            "marker": {
             "colorbar": {
              "outlinewidth": 0,
              "ticks": ""
             }
            },
            "type": "scatter3d"
           }
          ],
          "scattercarpet": [
           {
            "marker": {
             "colorbar": {
              "outlinewidth": 0,
              "ticks": ""
             }
            },
            "type": "scattercarpet"
           }
          ],
          "scattergeo": [
           {
            "marker": {
             "colorbar": {
              "outlinewidth": 0,
              "ticks": ""
             }
            },
            "type": "scattergeo"
           }
          ],
          "scattergl": [
           {
            "marker": {
             "colorbar": {
              "outlinewidth": 0,
              "ticks": ""
             }
            },
            "type": "scattergl"
           }
          ],
          "scattermapbox": [
           {
            "marker": {
             "colorbar": {
              "outlinewidth": 0,
              "ticks": ""
             }
            },
            "type": "scattermapbox"
           }
          ],
          "scatterpolar": [
           {
            "marker": {
             "colorbar": {
              "outlinewidth": 0,
              "ticks": ""
             }
            },
            "type": "scatterpolar"
           }
          ],
          "scatterpolargl": [
           {
            "marker": {
             "colorbar": {
              "outlinewidth": 0,
              "ticks": ""
             }
            },
            "type": "scatterpolargl"
           }
          ],
          "scatterternary": [
           {
            "marker": {
             "colorbar": {
              "outlinewidth": 0,
              "ticks": ""
             }
            },
            "type": "scatterternary"
           }
          ],
          "surface": [
           {
            "colorbar": {
             "outlinewidth": 0,
             "ticks": ""
            },
            "colorscale": [
             [
              0,
              "#0d0887"
             ],
             [
              0.1111111111111111,
              "#46039f"
             ],
             [
              0.2222222222222222,
              "#7201a8"
             ],
             [
              0.3333333333333333,
              "#9c179e"
             ],
             [
              0.4444444444444444,
              "#bd3786"
             ],
             [
              0.5555555555555556,
              "#d8576b"
             ],
             [
              0.6666666666666666,
              "#ed7953"
             ],
             [
              0.7777777777777778,
              "#fb9f3a"
             ],
             [
              0.8888888888888888,
              "#fdca26"
             ],
             [
              1,
              "#f0f921"
             ]
            ],
            "type": "surface"
           }
          ],
          "table": [
           {
            "cells": {
             "fill": {
              "color": "#EBF0F8"
             },
             "line": {
              "color": "white"
             }
            },
            "header": {
             "fill": {
              "color": "#C8D4E3"
             },
             "line": {
              "color": "white"
             }
            },
            "type": "table"
           }
          ]
         },
         "layout": {
          "annotationdefaults": {
           "arrowcolor": "#2a3f5f",
           "arrowhead": 0,
           "arrowwidth": 1
          },
          "autotypenumbers": "strict",
          "coloraxis": {
           "colorbar": {
            "outlinewidth": 0,
            "ticks": ""
           }
          },
          "colorscale": {
           "diverging": [
            [
             0,
             "#8e0152"
            ],
            [
             0.1,
             "#c51b7d"
            ],
            [
             0.2,
             "#de77ae"
            ],
            [
             0.3,
             "#f1b6da"
            ],
            [
             0.4,
             "#fde0ef"
            ],
            [
             0.5,
             "#f7f7f7"
            ],
            [
             0.6,
             "#e6f5d0"
            ],
            [
             0.7,
             "#b8e186"
            ],
            [
             0.8,
             "#7fbc41"
            ],
            [
             0.9,
             "#4d9221"
            ],
            [
             1,
             "#276419"
            ]
           ],
           "sequential": [
            [
             0,
             "#0d0887"
            ],
            [
             0.1111111111111111,
             "#46039f"
            ],
            [
             0.2222222222222222,
             "#7201a8"
            ],
            [
             0.3333333333333333,
             "#9c179e"
            ],
            [
             0.4444444444444444,
             "#bd3786"
            ],
            [
             0.5555555555555556,
             "#d8576b"
            ],
            [
             0.6666666666666666,
             "#ed7953"
            ],
            [
             0.7777777777777778,
             "#fb9f3a"
            ],
            [
             0.8888888888888888,
             "#fdca26"
            ],
            [
             1,
             "#f0f921"
            ]
           ],
           "sequentialminus": [
            [
             0,
             "#0d0887"
            ],
            [
             0.1111111111111111,
             "#46039f"
            ],
            [
             0.2222222222222222,
             "#7201a8"
            ],
            [
             0.3333333333333333,
             "#9c179e"
            ],
            [
             0.4444444444444444,
             "#bd3786"
            ],
            [
             0.5555555555555556,
             "#d8576b"
            ],
            [
             0.6666666666666666,
             "#ed7953"
            ],
            [
             0.7777777777777778,
             "#fb9f3a"
            ],
            [
             0.8888888888888888,
             "#fdca26"
            ],
            [
             1,
             "#f0f921"
            ]
           ]
          },
          "colorway": [
           "#636efa",
           "#EF553B",
           "#00cc96",
           "#ab63fa",
           "#FFA15A",
           "#19d3f3",
           "#FF6692",
           "#B6E880",
           "#FF97FF",
           "#FECB52"
          ],
          "font": {
           "color": "#2a3f5f"
          },
          "geo": {
           "bgcolor": "white",
           "lakecolor": "white",
           "landcolor": "#E5ECF6",
           "showlakes": true,
           "showland": true,
           "subunitcolor": "white"
          },
          "hoverlabel": {
           "align": "left"
          },
          "hovermode": "closest",
          "mapbox": {
           "style": "light"
          },
          "paper_bgcolor": "white",
          "plot_bgcolor": "#E5ECF6",
          "polar": {
           "angularaxis": {
            "gridcolor": "white",
            "linecolor": "white",
            "ticks": ""
           },
           "bgcolor": "#E5ECF6",
           "radialaxis": {
            "gridcolor": "white",
            "linecolor": "white",
            "ticks": ""
           }
          },
          "scene": {
           "xaxis": {
            "backgroundcolor": "#E5ECF6",
            "gridcolor": "white",
            "gridwidth": 2,
            "linecolor": "white",
            "showbackground": true,
            "ticks": "",
            "zerolinecolor": "white"
           },
           "yaxis": {
            "backgroundcolor": "#E5ECF6",
            "gridcolor": "white",
            "gridwidth": 2,
            "linecolor": "white",
            "showbackground": true,
            "ticks": "",
            "zerolinecolor": "white"
           },
           "zaxis": {
            "backgroundcolor": "#E5ECF6",
            "gridcolor": "white",
            "gridwidth": 2,
            "linecolor": "white",
            "showbackground": true,
            "ticks": "",
            "zerolinecolor": "white"
           }
          },
          "shapedefaults": {
           "line": {
            "color": "#2a3f5f"
           }
          },
          "ternary": {
           "aaxis": {
            "gridcolor": "white",
            "linecolor": "white",
            "ticks": ""
           },
           "baxis": {
            "gridcolor": "white",
            "linecolor": "white",
            "ticks": ""
           },
           "bgcolor": "#E5ECF6",
           "caxis": {
            "gridcolor": "white",
            "linecolor": "white",
            "ticks": ""
           }
          },
          "title": {
           "x": 0.05
          },
          "xaxis": {
           "automargin": true,
           "gridcolor": "white",
           "linecolor": "white",
           "ticks": "",
           "title": {
            "standoff": 15
           },
           "zerolinecolor": "white",
           "zerolinewidth": 2
          },
          "yaxis": {
           "automargin": true,
           "gridcolor": "white",
           "linecolor": "white",
           "ticks": "",
           "title": {
            "standoff": 15
           },
           "zerolinecolor": "white",
           "zerolinewidth": 2
          }
         }
        },
        "title": {
         "text": "Удержание на этапах воронки событий по группам"
        },
        "xaxis": {
         "anchor": "y",
         "domain": [
          0,
          1
         ],
         "title": {
          "text": "user_id"
         }
        },
        "yaxis": {
         "anchor": "x",
         "domain": [
          0,
          1
         ],
         "title": {
          "text": "Этап воронки событий"
         }
        }
       }
      },
      "text/html": [
       "<div>                            <div id=\"6a36a691-74de-448a-a6e6-69fb7c320aa8\" class=\"plotly-graph-div\" style=\"height:525px; width:100%;\"></div>            <script type=\"text/javascript\">                require([\"plotly\"], function(Plotly) {                    window.PLOTLYENV=window.PLOTLYENV || {};                                    if (document.getElementById(\"6a36a691-74de-448a-a6e6-69fb7c320aa8\")) {                    Plotly.newPlot(                        \"6a36a691-74de-448a-a6e6-69fb7c320aa8\",                        [{\"hovertemplate\":\"\\u041e\\u0442 \\u043e\\u0431\\u0449\\u0435\\u0433\\u043e \\u043a\\u043e\\u043b-\\u0432\\u0430: %{percentInitial}<br>\\u0421 \\u043f\\u0440\\u0435\\u0434. \\u0448\\u0430\\u0433\\u0430: %{percentPrevious}\",\"legendgroup\":\"B\",\"marker\":{\"color\":\"#636efa\"},\"name\":\"B\",\"orientation\":\"h\",\"showlegend\":true,\"x\":[2373,770,429,219],\"xaxis\":\"x\",\"y\":[\"total\",\"login\",\"product_page\",\"purchase\"],\"yaxis\":\"y\",\"type\":\"funnel\",\"texttemplate\":\"%{value}<br>%{percentInitial}\"},{\"hovertemplate\":\"\\u041e\\u0442 \\u043e\\u0431\\u0449\\u0435\\u0433\\u043e \\u043a\\u043e\\u043b-\\u0432\\u0430: %{percentInitial}<br>\\u0421 \\u043f\\u0440\\u0435\\u0434. \\u0448\\u0430\\u0433\\u0430: %{percentPrevious}\",\"legendgroup\":\"A\",\"marker\":{\"color\":\"#EF553B\"},\"name\":\"A\",\"orientation\":\"h\",\"showlegend\":true,\"x\":[3195,2279,1476,734],\"xaxis\":\"x\",\"y\":[\"total\",\"login\",\"product_page\",\"purchase\"],\"yaxis\":\"y\",\"type\":\"funnel\",\"texttemplate\":\"%{value}<br>%{percentInitial}\"}],                        {\"template\":{\"data\":{\"histogram2dcontour\":[{\"type\":\"histogram2dcontour\",\"colorbar\":{\"outlinewidth\":0,\"ticks\":\"\"},\"colorscale\":[[0.0,\"#0d0887\"],[0.1111111111111111,\"#46039f\"],[0.2222222222222222,\"#7201a8\"],[0.3333333333333333,\"#9c179e\"],[0.4444444444444444,\"#bd3786\"],[0.5555555555555556,\"#d8576b\"],[0.6666666666666666,\"#ed7953\"],[0.7777777777777778,\"#fb9f3a\"],[0.8888888888888888,\"#fdca26\"],[1.0,\"#f0f921\"]]}],\"choropleth\":[{\"type\":\"choropleth\",\"colorbar\":{\"outlinewidth\":0,\"ticks\":\"\"}}],\"histogram2d\":[{\"type\":\"histogram2d\",\"colorbar\":{\"outlinewidth\":0,\"ticks\":\"\"},\"colorscale\":[[0.0,\"#0d0887\"],[0.1111111111111111,\"#46039f\"],[0.2222222222222222,\"#7201a8\"],[0.3333333333333333,\"#9c179e\"],[0.4444444444444444,\"#bd3786\"],[0.5555555555555556,\"#d8576b\"],[0.6666666666666666,\"#ed7953\"],[0.7777777777777778,\"#fb9f3a\"],[0.8888888888888888,\"#fdca26\"],[1.0,\"#f0f921\"]]}],\"heatmap\":[{\"type\":\"heatmap\",\"colorbar\":{\"outlinewidth\":0,\"ticks\":\"\"},\"colorscale\":[[0.0,\"#0d0887\"],[0.1111111111111111,\"#46039f\"],[0.2222222222222222,\"#7201a8\"],[0.3333333333333333,\"#9c179e\"],[0.4444444444444444,\"#bd3786\"],[0.5555555555555556,\"#d8576b\"],[0.6666666666666666,\"#ed7953\"],[0.7777777777777778,\"#fb9f3a\"],[0.8888888888888888,\"#fdca26\"],[1.0,\"#f0f921\"]]}],\"heatmapgl\":[{\"type\":\"heatmapgl\",\"colorbar\":{\"outlinewidth\":0,\"ticks\":\"\"},\"colorscale\":[[0.0,\"#0d0887\"],[0.1111111111111111,\"#46039f\"],[0.2222222222222222,\"#7201a8\"],[0.3333333333333333,\"#9c179e\"],[0.4444444444444444,\"#bd3786\"],[0.5555555555555556,\"#d8576b\"],[0.6666666666666666,\"#ed7953\"],[0.7777777777777778,\"#fb9f3a\"],[0.8888888888888888,\"#fdca26\"],[1.0,\"#f0f921\"]]}],\"contourcarpet\":[{\"type\":\"contourcarpet\",\"colorbar\":{\"outlinewidth\":0,\"ticks\":\"\"}}],\"contour\":[{\"type\":\"contour\",\"colorbar\":{\"outlinewidth\":0,\"ticks\":\"\"},\"colorscale\":[[0.0,\"#0d0887\"],[0.1111111111111111,\"#46039f\"],[0.2222222222222222,\"#7201a8\"],[0.3333333333333333,\"#9c179e\"],[0.4444444444444444,\"#bd3786\"],[0.5555555555555556,\"#d8576b\"],[0.6666666666666666,\"#ed7953\"],[0.7777777777777778,\"#fb9f3a\"],[0.8888888888888888,\"#fdca26\"],[1.0,\"#f0f921\"]]}],\"surface\":[{\"type\":\"surface\",\"colorbar\":{\"outlinewidth\":0,\"ticks\":\"\"},\"colorscale\":[[0.0,\"#0d0887\"],[0.1111111111111111,\"#46039f\"],[0.2222222222222222,\"#7201a8\"],[0.3333333333333333,\"#9c179e\"],[0.4444444444444444,\"#bd3786\"],[0.5555555555555556,\"#d8576b\"],[0.6666666666666666,\"#ed7953\"],[0.7777777777777778,\"#fb9f3a\"],[0.8888888888888888,\"#fdca26\"],[1.0,\"#f0f921\"]]}],\"mesh3d\":[{\"type\":\"mesh3d\",\"colorbar\":{\"outlinewidth\":0,\"ticks\":\"\"}}],\"scatter\":[{\"fillpattern\":{\"fillmode\":\"overlay\",\"size\":10,\"solidity\":0.2},\"type\":\"scatter\"}],\"parcoords\":[{\"type\":\"parcoords\",\"line\":{\"colorbar\":{\"outlinewidth\":0,\"ticks\":\"\"}}}],\"scatterpolargl\":[{\"type\":\"scatterpolargl\",\"marker\":{\"colorbar\":{\"outlinewidth\":0,\"ticks\":\"\"}}}],\"bar\":[{\"error_x\":{\"color\":\"#2a3f5f\"},\"error_y\":{\"color\":\"#2a3f5f\"},\"marker\":{\"line\":{\"color\":\"#E5ECF6\",\"width\":0.5},\"pattern\":{\"fillmode\":\"overlay\",\"size\":10,\"solidity\":0.2}},\"type\":\"bar\"}],\"scattergeo\":[{\"type\":\"scattergeo\",\"marker\":{\"colorbar\":{\"outlinewidth\":0,\"ticks\":\"\"}}}],\"scatterpolar\":[{\"type\":\"scatterpolar\",\"marker\":{\"colorbar\":{\"outlinewidth\":0,\"ticks\":\"\"}}}],\"histogram\":[{\"marker\":{\"pattern\":{\"fillmode\":\"overlay\",\"size\":10,\"solidity\":0.2}},\"type\":\"histogram\"}],\"scattergl\":[{\"type\":\"scattergl\",\"marker\":{\"colorbar\":{\"outlinewidth\":0,\"ticks\":\"\"}}}],\"scatter3d\":[{\"type\":\"scatter3d\",\"line\":{\"colorbar\":{\"outlinewidth\":0,\"ticks\":\"\"}},\"marker\":{\"colorbar\":{\"outlinewidth\":0,\"ticks\":\"\"}}}],\"scattermapbox\":[{\"type\":\"scattermapbox\",\"marker\":{\"colorbar\":{\"outlinewidth\":0,\"ticks\":\"\"}}}],\"scatterternary\":[{\"type\":\"scatterternary\",\"marker\":{\"colorbar\":{\"outlinewidth\":0,\"ticks\":\"\"}}}],\"scattercarpet\":[{\"type\":\"scattercarpet\",\"marker\":{\"colorbar\":{\"outlinewidth\":0,\"ticks\":\"\"}}}],\"carpet\":[{\"aaxis\":{\"endlinecolor\":\"#2a3f5f\",\"gridcolor\":\"white\",\"linecolor\":\"white\",\"minorgridcolor\":\"white\",\"startlinecolor\":\"#2a3f5f\"},\"baxis\":{\"endlinecolor\":\"#2a3f5f\",\"gridcolor\":\"white\",\"linecolor\":\"white\",\"minorgridcolor\":\"white\",\"startlinecolor\":\"#2a3f5f\"},\"type\":\"carpet\"}],\"table\":[{\"cells\":{\"fill\":{\"color\":\"#EBF0F8\"},\"line\":{\"color\":\"white\"}},\"header\":{\"fill\":{\"color\":\"#C8D4E3\"},\"line\":{\"color\":\"white\"}},\"type\":\"table\"}],\"barpolar\":[{\"marker\":{\"line\":{\"color\":\"#E5ECF6\",\"width\":0.5},\"pattern\":{\"fillmode\":\"overlay\",\"size\":10,\"solidity\":0.2}},\"type\":\"barpolar\"}],\"pie\":[{\"automargin\":true,\"type\":\"pie\"}]},\"layout\":{\"autotypenumbers\":\"strict\",\"colorway\":[\"#636efa\",\"#EF553B\",\"#00cc96\",\"#ab63fa\",\"#FFA15A\",\"#19d3f3\",\"#FF6692\",\"#B6E880\",\"#FF97FF\",\"#FECB52\"],\"font\":{\"color\":\"#2a3f5f\"},\"hovermode\":\"closest\",\"hoverlabel\":{\"align\":\"left\"},\"paper_bgcolor\":\"white\",\"plot_bgcolor\":\"#E5ECF6\",\"polar\":{\"bgcolor\":\"#E5ECF6\",\"angularaxis\":{\"gridcolor\":\"white\",\"linecolor\":\"white\",\"ticks\":\"\"},\"radialaxis\":{\"gridcolor\":\"white\",\"linecolor\":\"white\",\"ticks\":\"\"}},\"ternary\":{\"bgcolor\":\"#E5ECF6\",\"aaxis\":{\"gridcolor\":\"white\",\"linecolor\":\"white\",\"ticks\":\"\"},\"baxis\":{\"gridcolor\":\"white\",\"linecolor\":\"white\",\"ticks\":\"\"},\"caxis\":{\"gridcolor\":\"white\",\"linecolor\":\"white\",\"ticks\":\"\"}},\"coloraxis\":{\"colorbar\":{\"outlinewidth\":0,\"ticks\":\"\"}},\"colorscale\":{\"sequential\":[[0.0,\"#0d0887\"],[0.1111111111111111,\"#46039f\"],[0.2222222222222222,\"#7201a8\"],[0.3333333333333333,\"#9c179e\"],[0.4444444444444444,\"#bd3786\"],[0.5555555555555556,\"#d8576b\"],[0.6666666666666666,\"#ed7953\"],[0.7777777777777778,\"#fb9f3a\"],[0.8888888888888888,\"#fdca26\"],[1.0,\"#f0f921\"]],\"sequentialminus\":[[0.0,\"#0d0887\"],[0.1111111111111111,\"#46039f\"],[0.2222222222222222,\"#7201a8\"],[0.3333333333333333,\"#9c179e\"],[0.4444444444444444,\"#bd3786\"],[0.5555555555555556,\"#d8576b\"],[0.6666666666666666,\"#ed7953\"],[0.7777777777777778,\"#fb9f3a\"],[0.8888888888888888,\"#fdca26\"],[1.0,\"#f0f921\"]],\"diverging\":[[0,\"#8e0152\"],[0.1,\"#c51b7d\"],[0.2,\"#de77ae\"],[0.3,\"#f1b6da\"],[0.4,\"#fde0ef\"],[0.5,\"#f7f7f7\"],[0.6,\"#e6f5d0\"],[0.7,\"#b8e186\"],[0.8,\"#7fbc41\"],[0.9,\"#4d9221\"],[1,\"#276419\"]]},\"xaxis\":{\"gridcolor\":\"white\",\"linecolor\":\"white\",\"ticks\":\"\",\"title\":{\"standoff\":15},\"zerolinecolor\":\"white\",\"automargin\":true,\"zerolinewidth\":2},\"yaxis\":{\"gridcolor\":\"white\",\"linecolor\":\"white\",\"ticks\":\"\",\"title\":{\"standoff\":15},\"zerolinecolor\":\"white\",\"automargin\":true,\"zerolinewidth\":2},\"scene\":{\"xaxis\":{\"backgroundcolor\":\"#E5ECF6\",\"gridcolor\":\"white\",\"linecolor\":\"white\",\"showbackground\":true,\"ticks\":\"\",\"zerolinecolor\":\"white\",\"gridwidth\":2},\"yaxis\":{\"backgroundcolor\":\"#E5ECF6\",\"gridcolor\":\"white\",\"linecolor\":\"white\",\"showbackground\":true,\"ticks\":\"\",\"zerolinecolor\":\"white\",\"gridwidth\":2},\"zaxis\":{\"backgroundcolor\":\"#E5ECF6\",\"gridcolor\":\"white\",\"linecolor\":\"white\",\"showbackground\":true,\"ticks\":\"\",\"zerolinecolor\":\"white\",\"gridwidth\":2}},\"shapedefaults\":{\"line\":{\"color\":\"#2a3f5f\"}},\"annotationdefaults\":{\"arrowcolor\":\"#2a3f5f\",\"arrowhead\":0,\"arrowwidth\":1},\"geo\":{\"bgcolor\":\"white\",\"landcolor\":\"#E5ECF6\",\"subunitcolor\":\"white\",\"showland\":true,\"showlakes\":true,\"lakecolor\":\"white\"},\"title\":{\"x\":0.05},\"mapbox\":{\"style\":\"light\"}}},\"xaxis\":{\"anchor\":\"y\",\"domain\":[0.0,1.0],\"title\":{\"text\":\"user_id\"}},\"yaxis\":{\"anchor\":\"x\",\"domain\":[0.0,1.0],\"title\":{\"text\":\"\\u042d\\u0442\\u0430\\u043f \\u0432\\u043e\\u0440\\u043e\\u043d\\u043a\\u0438 \\u0441\\u043e\\u0431\\u044b\\u0442\\u0438\\u0439\"}},\"legend\":{\"title\":{\"text\":\"group\"},\"tracegroupgap\":0},\"title\":{\"text\":\"\\u0423\\u0434\\u0435\\u0440\\u0436\\u0430\\u043d\\u0438\\u0435 \\u043d\\u0430 \\u044d\\u0442\\u0430\\u043f\\u0430\\u0445 \\u0432\\u043e\\u0440\\u043e\\u043d\\u043a\\u0438 \\u0441\\u043e\\u0431\\u044b\\u0442\\u0438\\u0439 \\u043f\\u043e \\u0433\\u0440\\u0443\\u043f\\u043f\\u0430\\u043c\"}},                        {\"responsive\": true}                    ).then(function(){\n",
       "                            \n",
       "var gd = document.getElementById('6a36a691-74de-448a-a6e6-69fb7c320aa8');\n",
       "var x = new MutationObserver(function (mutations, observer) {{\n",
       "        var display = window.getComputedStyle(gd).display;\n",
       "        if (!display || display === 'none') {{\n",
       "            console.log([gd, 'removed!']);\n",
       "            Plotly.purge(gd);\n",
       "            observer.disconnect();\n",
       "        }}\n",
       "}});\n",
       "\n",
       "// Listen for the removal of the full notebook cells\n",
       "var notebookContainer = gd.closest('#notebook-container');\n",
       "if (notebookContainer) {{\n",
       "    x.observe(notebookContainer, {childList: true});\n",
       "}}\n",
       "\n",
       "// Listen for the clearing of the current output cell\n",
       "var outputEl = gd.closest('.output');\n",
       "if (outputEl) {{\n",
       "    x.observe(outputEl, {childList: true});\n",
       "}}\n",
       "\n",
       "                        })                };                });            </script>        </div>"
      ]
     },
     "metadata": {},
     "output_type": "display_data"
    }
   ],
   "source": [
    "group_funnel = pd.DataFrame(df.groupby(['group', 'event_name_cat'])['user_id'].nunique())\n",
    "group_funnel.loc[('A', 'total'), 'user_id'] = ab.query('group == \"A\"').shape[0]\n",
    "group_funnel.loc[('B', 'total'), 'user_id'] = ab.query('group == \"B\"').shape[0]\n",
    "group_funnel = group_funnel.reset_index().sort_values(by=['group', 'user_id'], ascending=False)\n",
    "\n",
    "fig = px.funnel(group_funnel,\n",
    "                x='user_id', y='event_name_cat', color='group',\n",
    "                title='Удержание на этапах воронки событий по группам')\n",
    "fig.update_traces(\n",
    "    texttemplate='%{value}<br>%{percentInitial}',\n",
    "    hovertemplate='От общего кол-ва: %{percentInitial}<br>С пред. шага: %{percentPrevious}'\n",
    ")\n",
    "fig.update_layout(yaxis_title='Этап воронки событий')"
   ]
  },
  {
   "cell_type": "markdown",
   "metadata": {},
   "source": [
    "Общая конверсия в группах сильно различается: в группе А до покупки доходит 23% пользователей, а в группе В – 9%.\n",
    "\n",
    "Заметно также сильное расхождение по удержанию на первом шаге воронки: в группе А авторизируется хотя бы 71% пользователей, тогда как в группе В всего 32%. \n",
    "\n",
    "Далее удержания по шагам выравниваются:\n",
    "- От авторизации к просмотру товаров в группе А переходит 65% в группе В – 56%;\n",
    "- От просмотра товаров к покупке конверсия в группе А составляет 50% в группе В – 51%;.\n",
    "\n",
    "Итого в группе В по сравнению с контрольной:\n",
    "- Намного реже авторизируются;\n",
    "- Чуть менее охотно переходят к просмотру товаров;\n",
    "- От просмотра товара до покупки переходит больше пользователей, но разница в 1%.\n",
    "\n",
    "В целом удержание в группе А значительно лучше, однако снова наглядно видно разницу в размерах групп."
   ]
  },
  {
   "cell_type": "markdown",
   "metadata": {},
   "source": [
    "**Выводы по воронке событий**\n",
    "\n",
    "В воронке 4 события:\n",
    "- `login` – авторизация;\n",
    "- `products_page` – просмотр страницы товара;\n",
    "- `products_cart` – просмотр корзины;\n",
    "    - Необязательный шаг, некоторые пользователи пропустили;\n",
    "- `purchase` – покупка.\n",
    "\n",
    "Авторизацию прошло 55% клиентов. Остальные либо обошлись без нее, либо не совершили ни одного из фиксируемых действий с момента первого посещения.\n",
    "\n",
    "\n",
    "\n",
    "Общий процент удержания на каждом этапе воронки:\n",
    "- От первого посещения до авторизации – 55%;\n",
    "- От авторизации до просмотра товаров – 62%;\n",
    "- От товаров до покупки – 50%.\n",
    "\n",
    "Общая конверсия в покупку – 17%.\n",
    "\n",
    "Удержание на этапах воронки по группам сильно различается:\n",
    "- От первого посещения до авторизации:\n",
    "    - А – **71%**;\n",
    "    - В – **32%**;\n",
    "- От авторизации до просмотра товаров:\n",
    "    - А – 65%;\n",
    "    - В – 56%;\n",
    "- От товаров до покупки:\n",
    "    - А – 50%;\n",
    "    - В – 51%;\n",
    "    \n",
    "Конверсия в покупку по группам:\n",
    "- А – **23%**;\n",
    "- В – **9%**."
   ]
  },
  {
   "cell_type": "markdown",
   "metadata": {},
   "source": [
    "<a id='no_use'></a>\n",
    "## Проверка результатов А/В-теста\n",
    "\n",
    "Интерпретируем результаты теста и сравним конверсию на каждом шаге воронки в группах А и В. \n",
    "\n",
    "Важно помнить: не стоит стопроцентно полагаться на результаты в этом разделе, так как при проведении теста не выполнены базовые требования.\n",
    "\n",
    "Еще раз перечислим критичные проблемы:\n",
    "- Не выдержан временной период;\n",
    "- Инструмент деления трафика работает некорректно (значительная часть пользователей одновременно участвовала в другом тестировании, группы разного размера, часть аудитории отобрана из нецелевых регионов);\n",
    "- Исходя из общего качества теста допускается вероятность других ошибок, в том числе в фиксации пользовательский действий.\n",
    "\n",
    "Сравним конверсию в группах А и В с помощью z-теста на пропорции.\n",
    "\n",
    "Сформулируем нулевую и альтернативную гипотезы:\n",
    "\n",
    "- H<sub>0</sub>: доли удержанных пользователей в группах равны\n",
    "- H<sub>1</sub>: доли удержанных пользователей в группах не равны\n",
    "\n",
    "Проверим разницу на каждом этапе воронки. Уровень статистической значимости – 5% с поправкой Бонферрони на множественные сравнения."
   ]
  },
  {
   "cell_type": "code",
   "execution_count": 662,
   "metadata": {},
   "outputs": [
    {
     "name": "stdout",
     "output_type": "stream",
     "text": [
      "total --> login \n",
      "\n",
      "[2279  770] [3195 2373]\n",
      "Удержание в группе А: 71.33%\n",
      "Удержание в группе В: 32.45%\n",
      "Изменение: -38.88%\n",
      "z-score: 28.82622\n",
      "p-value: 0.00000\n",
      "Разница статистически значима, есть основания отвергнуть нулевую гипотезу.\n",
      "\n",
      "total --> product_page \n",
      "\n",
      "[1476  429] [3195 2373]\n",
      "Удержание в группе А: 46.20%\n",
      "Удержание в группе В: 18.08%\n",
      "Изменение: -28.12%\n",
      "z-score: 21.87080\n",
      "p-value: 0.00000\n",
      "Разница статистически значима, есть основания отвергнуть нулевую гипотезу.\n",
      "\n",
      "total --> purchase \n",
      "\n",
      "[734 219] [3195 2373]\n",
      "Удержание в группе А: 22.97%\n",
      "Удержание в группе В: 9.23%\n",
      "Изменение: -13.74%\n",
      "z-score: 13.46582\n",
      "p-value: 0.00000\n",
      "Разница статистически значима, есть основания отвергнуть нулевую гипотезу.\n",
      "\n"
     ]
    }
   ],
   "source": [
    "stat_values = (\n",
    "    group_funnel.pivot(index='event_name_cat', columns='group', values='user_id')\n",
    "    .sort_values(by='A', ascending=False)\n",
    ")\n",
    "\n",
    "n_tests = 3\n",
    "alpha=0.05/n_tests\n",
    "\n",
    "for step in stat_values.index[1:]:\n",
    "    print('total -->', step, '\\n')\n",
    "    cnt, nobs = stat_values.loc[step, ['A', 'B']].values, stat_values.loc['total', ['A', 'B']].values\n",
    "    z, p = proportions_ztest(cnt, nobs)\n",
    "    print(cnt, nobs)\n",
    "    print(f'Удержание в группе А: {cnt[0]/nobs[0]:.2%}')\n",
    "    print(f'Удержание в группе В: {cnt[1]/nobs[1]:.2%}')\n",
    "    print(f'Изменение: {(cnt[1]/nobs[1]-cnt[0]/nobs[0]):.2%}')\n",
    "    print(f'z-score: {z:.5f}')\n",
    "    print(f'p-value: {p:.5f}')\n",
    "    if p < alpha:\n",
    "        print('Разница статистически значима, есть основания отвергнуть нулевую гипотезу.')\n",
    "    elif p > alpha:\n",
    "        print('Разница не имеет статистической значимости, нет оснований отвергать нулевую гипотезу.')        \n",
    "    else:\n",
    "        print('p-value = alpha')\n",
    "    print('')"
   ]
  },
  {
   "cell_type": "markdown",
   "metadata": {},
   "source": [
    "Доли удержанных пользователей в группах А и В на всех этапах воронки различается на существенный процент. Значения p-value практически нулевые – вероятность получить такие выборки при верной нулевой гипотезе можно тоже считать нулевой.\n",
    "\n",
    "Гипотезу о равенстве долей между группами можно с уверенностью отвергнуть."
   ]
  },
  {
   "cell_type": "markdown",
   "metadata": {},
   "source": [
    "<a id='gen_concl'></a>\n",
    "## Общий вывод\n",
    "\n",
    "\n",
    "**Описание исследования**\n",
    "\n",
    "В компании заказчика разработали улучшенный вариант рекомендательной системы. Перед ее внедрением проведено А/В-тестирование, чтобы оценить влияние изменений на поведение пользователей. Ожидается, что на каждом этапе воронки продаж конверсия увеличится как минимум на 10%.\n",
    "\n",
    "Цель исследования – оценка проведения А/В-теста на соответствие ТЗ и общую корректность, интерпретация результатов.\n",
    "\n",
    "**Оценка проведения А/В-теста**\n",
    "\n",
    "При [проверке теста на корректность проведения](#soundcheck) обнаружены несоответствия как базовым правилам, так и техническому заданию:\n",
    "- Некоторые пользователи участвовали еще в одном тесте в тот же период;\n",
    "- В тест попали пользователи из нецелевых регионов;\n",
    "- Группы различаются по размеру на 30%;\n",
    "- Набор пользователей шел на 2 дня дольше, до 23 декабря вместо 21 декабря;\n",
    "- Тест завершился на 5 дней раньше, 30 декабря 2020 вместо 4 января 2021;\n",
    "- Тест проводился по время рождественских и новогодних праздников, одновременно с маркетинговыми кампаниями под эти праздники.\n",
    "\n",
    "Такая совокупность недостатков не позволяет в полной мере доверять результатам тестирования. \n",
    "\n",
    "[Проверка результатов](#no_use) А/В-теста z-критерием показала значительное ухудшение конверсии на всех этапах воронки продаж (от -13% до -37%). Такая разница между группами говорит о том, что улучшений в группе В однозначно не наблюдается. По этой же причине проводить повторный А/В-тест не рекомендуется, несмотря на ошибки в методологии – противоположный результат в новом тесте не получится.\n",
    "\n",
    "**Данные**\n",
    "\n",
    "- `ab_project_marketing_events.csv` — календарь маркетинговых событий на 2020 год;\n",
    "- `final_ab_new_users.csv` — пользователи, зарегистрировавшиеся с 7 до 23 декабря 2020 года;\n",
    "- `final_ab_events.csv` — действия новых пользователей;\n",
    "- `final_ab_participants.csv` — таблица участников тестов.\n",
    "\n",
    "Период регистрации новых пользователей: с 7 по 21 декабря 2020 года.\n",
    "Период проведения теста (на основании имеющихся данных): с 7 по 30 декабря 2020 года.\n",
    "\n",
    "Число участников теста: 5568 пользователей.\n",
    "\n",
    "В ходе предобработки исключены пользователи, которые участвовали в параллельно проводимом тестировании и попали в нем в экспериментальную группу В, а также пользователи из нецелевых регионов.\n",
    "Общее число исключенных уникальных пользователей: 1133 (17% участников целевого теста)."
   ]
  },
  {
   "cell_type": "code",
   "execution_count": null,
   "metadata": {},
   "outputs": [],
   "source": []
  }
 ],
 "metadata": {
  "ExecuteTimeLog": [
   {
    "duration": 1397,
    "start_time": "2023-08-24T07:55:54.296Z"
   },
   {
    "duration": 6,
    "start_time": "2023-08-24T07:55:55.695Z"
   },
   {
    "duration": 145,
    "start_time": "2023-08-24T07:55:55.702Z"
   },
   {
    "duration": 0,
    "start_time": "2023-08-24T07:55:55.851Z"
   },
   {
    "duration": 0,
    "start_time": "2023-08-24T07:55:55.852Z"
   },
   {
    "duration": 0,
    "start_time": "2023-08-24T07:55:55.854Z"
   },
   {
    "duration": 0,
    "start_time": "2023-08-24T07:55:55.855Z"
   },
   {
    "duration": 0,
    "start_time": "2023-08-24T07:55:55.856Z"
   },
   {
    "duration": 0,
    "start_time": "2023-08-24T07:55:55.857Z"
   },
   {
    "duration": 0,
    "start_time": "2023-08-24T07:55:55.858Z"
   },
   {
    "duration": 0,
    "start_time": "2023-08-24T07:55:55.859Z"
   },
   {
    "duration": 0,
    "start_time": "2023-08-24T07:55:55.860Z"
   },
   {
    "duration": 0,
    "start_time": "2023-08-24T07:55:55.861Z"
   },
   {
    "duration": 0,
    "start_time": "2023-08-24T07:55:55.862Z"
   },
   {
    "duration": 0,
    "start_time": "2023-08-24T07:55:55.863Z"
   },
   {
    "duration": 0,
    "start_time": "2023-08-24T07:55:55.864Z"
   },
   {
    "duration": 0,
    "start_time": "2023-08-24T07:55:55.866Z"
   },
   {
    "duration": 0,
    "start_time": "2023-08-24T07:55:55.867Z"
   },
   {
    "duration": 0,
    "start_time": "2023-08-24T07:55:55.869Z"
   },
   {
    "duration": 0,
    "start_time": "2023-08-24T07:55:55.870Z"
   },
   {
    "duration": 0,
    "start_time": "2023-08-24T07:55:55.871Z"
   },
   {
    "duration": 0,
    "start_time": "2023-08-24T07:55:55.873Z"
   },
   {
    "duration": 0,
    "start_time": "2023-08-24T07:55:55.874Z"
   },
   {
    "duration": 0,
    "start_time": "2023-08-24T07:55:55.876Z"
   },
   {
    "duration": 0,
    "start_time": "2023-08-24T07:55:55.877Z"
   },
   {
    "duration": 0,
    "start_time": "2023-08-24T07:55:55.878Z"
   },
   {
    "duration": 0,
    "start_time": "2023-08-24T07:55:55.879Z"
   },
   {
    "duration": 0,
    "start_time": "2023-08-24T07:55:55.924Z"
   },
   {
    "duration": 0,
    "start_time": "2023-08-24T07:55:55.926Z"
   },
   {
    "duration": 0,
    "start_time": "2023-08-24T07:55:55.928Z"
   },
   {
    "duration": 0,
    "start_time": "2023-08-24T07:55:55.929Z"
   },
   {
    "duration": 0,
    "start_time": "2023-08-24T07:55:55.931Z"
   },
   {
    "duration": 0,
    "start_time": "2023-08-24T07:55:55.933Z"
   },
   {
    "duration": 0,
    "start_time": "2023-08-24T07:55:55.934Z"
   },
   {
    "duration": 0,
    "start_time": "2023-08-24T07:55:55.936Z"
   },
   {
    "duration": 0,
    "start_time": "2023-08-24T07:55:55.937Z"
   },
   {
    "duration": 0,
    "start_time": "2023-08-24T07:55:55.937Z"
   },
   {
    "duration": 0,
    "start_time": "2023-08-24T07:55:55.939Z"
   },
   {
    "duration": 0,
    "start_time": "2023-08-24T07:55:55.940Z"
   },
   {
    "duration": 0,
    "start_time": "2023-08-24T07:55:55.942Z"
   },
   {
    "duration": 0,
    "start_time": "2023-08-24T07:55:55.943Z"
   },
   {
    "duration": 0,
    "start_time": "2023-08-24T07:55:55.945Z"
   },
   {
    "duration": 0,
    "start_time": "2023-08-24T07:55:55.946Z"
   },
   {
    "duration": 0,
    "start_time": "2023-08-24T07:55:55.948Z"
   },
   {
    "duration": 0,
    "start_time": "2023-08-24T07:55:55.950Z"
   },
   {
    "duration": 0,
    "start_time": "2023-08-24T07:55:55.952Z"
   },
   {
    "duration": 0,
    "start_time": "2023-08-24T07:55:55.954Z"
   },
   {
    "duration": 0,
    "start_time": "2023-08-24T07:55:55.958Z"
   },
   {
    "duration": 3,
    "start_time": "2023-08-24T07:58:44.516Z"
   },
   {
    "duration": 22,
    "start_time": "2023-08-24T07:58:44.521Z"
   },
   {
    "duration": 960,
    "start_time": "2023-08-24T07:58:44.545Z"
   },
   {
    "duration": 26,
    "start_time": "2023-08-24T07:58:45.507Z"
   },
   {
    "duration": 129,
    "start_time": "2023-08-24T07:58:45.535Z"
   },
   {
    "duration": 382,
    "start_time": "2023-08-24T07:58:45.666Z"
   },
   {
    "duration": 22,
    "start_time": "2023-08-24T07:58:46.050Z"
   },
   {
    "duration": 181,
    "start_time": "2023-08-24T07:58:46.074Z"
   },
   {
    "duration": 176,
    "start_time": "2023-08-24T07:58:46.257Z"
   },
   {
    "duration": 14,
    "start_time": "2023-08-24T07:58:46.435Z"
   },
   {
    "duration": 59,
    "start_time": "2023-08-24T07:58:46.452Z"
   },
   {
    "duration": 46,
    "start_time": "2023-08-24T07:58:46.513Z"
   },
   {
    "duration": 59,
    "start_time": "2023-08-24T07:58:46.560Z"
   },
   {
    "duration": 37,
    "start_time": "2023-08-24T07:58:46.621Z"
   },
   {
    "duration": 111,
    "start_time": "2023-08-24T07:58:46.660Z"
   },
   {
    "duration": 89,
    "start_time": "2023-08-24T07:58:46.773Z"
   },
   {
    "duration": 110,
    "start_time": "2023-08-24T07:58:46.863Z"
   },
   {
    "duration": 68,
    "start_time": "2023-08-24T07:58:46.974Z"
   },
   {
    "duration": 28,
    "start_time": "2023-08-24T07:58:47.044Z"
   },
   {
    "duration": 58,
    "start_time": "2023-08-24T07:58:47.073Z"
   },
   {
    "duration": 707,
    "start_time": "2023-08-24T07:58:47.133Z"
   },
   {
    "duration": 3,
    "start_time": "2023-08-24T07:58:47.842Z"
   },
   {
    "duration": 866,
    "start_time": "2023-08-24T07:58:47.846Z"
   },
   {
    "duration": 24,
    "start_time": "2023-08-24T07:58:48.714Z"
   },
   {
    "duration": 125,
    "start_time": "2023-08-24T07:58:48.740Z"
   },
   {
    "duration": 139,
    "start_time": "2023-08-24T07:58:48.867Z"
   },
   {
    "duration": 155,
    "start_time": "2023-08-24T07:58:49.007Z"
   },
   {
    "duration": 12,
    "start_time": "2023-08-24T07:58:49.164Z"
   },
   {
    "duration": 370,
    "start_time": "2023-08-24T07:58:49.180Z"
   },
   {
    "duration": 33,
    "start_time": "2023-08-24T07:58:49.552Z"
   },
   {
    "duration": 93,
    "start_time": "2023-08-24T07:58:49.587Z"
   },
   {
    "duration": 23,
    "start_time": "2023-08-24T07:58:49.682Z"
   },
   {
    "duration": 40,
    "start_time": "2023-08-24T07:58:49.707Z"
   },
   {
    "duration": 44,
    "start_time": "2023-08-24T07:58:49.749Z"
   },
   {
    "duration": 41,
    "start_time": "2023-08-24T07:58:49.795Z"
   },
   {
    "duration": 28,
    "start_time": "2023-08-24T07:58:49.838Z"
   },
   {
    "duration": 5,
    "start_time": "2023-08-24T07:58:49.868Z"
   },
   {
    "duration": 46,
    "start_time": "2023-08-24T07:58:49.875Z"
   },
   {
    "duration": 27,
    "start_time": "2023-08-24T07:58:49.922Z"
   },
   {
    "duration": 42,
    "start_time": "2023-08-24T07:58:49.950Z"
   },
   {
    "duration": 720,
    "start_time": "2023-08-24T07:58:49.993Z"
   },
   {
    "duration": 149,
    "start_time": "2023-08-24T07:58:50.715Z"
   },
   {
    "duration": 181,
    "start_time": "2023-08-24T07:58:50.866Z"
   },
   {
    "duration": 24,
    "start_time": "2023-08-24T07:58:51.048Z"
   },
   {
    "duration": 0,
    "start_time": "2023-08-24T07:58:51.073Z"
   },
   {
    "duration": 0,
    "start_time": "2023-08-24T07:58:51.074Z"
   },
   {
    "duration": 0,
    "start_time": "2023-08-24T07:58:51.075Z"
   },
   {
    "duration": 0,
    "start_time": "2023-08-24T07:58:51.076Z"
   },
   {
    "duration": 5,
    "start_time": "2023-08-24T08:03:35.081Z"
   },
   {
    "duration": 6,
    "start_time": "2023-08-24T08:03:56.542Z"
   },
   {
    "duration": 6,
    "start_time": "2023-08-24T08:04:23.804Z"
   },
   {
    "duration": 4,
    "start_time": "2023-08-24T08:04:28.279Z"
   },
   {
    "duration": 19,
    "start_time": "2023-08-24T08:05:06.441Z"
   },
   {
    "duration": 7,
    "start_time": "2023-08-24T08:05:26.295Z"
   },
   {
    "duration": 6,
    "start_time": "2023-08-24T08:05:35.722Z"
   },
   {
    "duration": 7,
    "start_time": "2023-08-24T08:05:36.942Z"
   },
   {
    "duration": 5,
    "start_time": "2023-08-24T08:05:53.691Z"
   },
   {
    "duration": 5,
    "start_time": "2023-08-24T08:06:05.872Z"
   },
   {
    "duration": 7,
    "start_time": "2023-08-24T08:06:05.879Z"
   },
   {
    "duration": 541,
    "start_time": "2023-08-24T08:06:05.888Z"
   },
   {
    "duration": 22,
    "start_time": "2023-08-24T08:06:06.431Z"
   },
   {
    "duration": 51,
    "start_time": "2023-08-24T08:06:06.455Z"
   },
   {
    "duration": 316,
    "start_time": "2023-08-24T08:06:06.524Z"
   },
   {
    "duration": 16,
    "start_time": "2023-08-24T08:06:06.841Z"
   },
   {
    "duration": 125,
    "start_time": "2023-08-24T08:06:06.859Z"
   },
   {
    "duration": 171,
    "start_time": "2023-08-24T08:06:06.987Z"
   },
   {
    "duration": 13,
    "start_time": "2023-08-24T08:06:07.160Z"
   },
   {
    "duration": 84,
    "start_time": "2023-08-24T08:06:07.174Z"
   },
   {
    "duration": 46,
    "start_time": "2023-08-24T08:06:07.260Z"
   },
   {
    "duration": 84,
    "start_time": "2023-08-24T08:06:07.308Z"
   },
   {
    "duration": 49,
    "start_time": "2023-08-24T08:06:07.393Z"
   },
   {
    "duration": 45,
    "start_time": "2023-08-24T08:06:07.444Z"
   },
   {
    "duration": 16,
    "start_time": "2023-08-24T08:06:07.490Z"
   },
   {
    "duration": 36,
    "start_time": "2023-08-24T08:06:07.507Z"
   },
   {
    "duration": 29,
    "start_time": "2023-08-24T08:06:07.544Z"
   },
   {
    "duration": 58,
    "start_time": "2023-08-24T08:06:07.574Z"
   },
   {
    "duration": 55,
    "start_time": "2023-08-24T08:06:07.633Z"
   },
   {
    "duration": 597,
    "start_time": "2023-08-24T08:06:07.690Z"
   },
   {
    "duration": 3,
    "start_time": "2023-08-24T08:06:08.288Z"
   },
   {
    "duration": 760,
    "start_time": "2023-08-24T08:06:08.292Z"
   },
   {
    "duration": 19,
    "start_time": "2023-08-24T08:06:09.055Z"
   },
   {
    "duration": 9,
    "start_time": "2023-08-24T08:06:09.076Z"
   },
   {
    "duration": 42,
    "start_time": "2023-08-24T08:06:09.086Z"
   },
   {
    "duration": 91,
    "start_time": "2023-08-24T08:06:09.129Z"
   },
   {
    "duration": 11,
    "start_time": "2023-08-24T08:06:09.223Z"
   },
   {
    "duration": 282,
    "start_time": "2023-08-24T08:06:09.236Z"
   },
   {
    "duration": 35,
    "start_time": "2023-08-24T08:06:09.520Z"
   },
   {
    "duration": 90,
    "start_time": "2023-08-24T08:06:09.557Z"
   },
   {
    "duration": 5,
    "start_time": "2023-08-24T08:06:09.649Z"
   },
   {
    "duration": 52,
    "start_time": "2023-08-24T08:06:09.656Z"
   },
   {
    "duration": 6,
    "start_time": "2023-08-24T08:06:09.709Z"
   },
   {
    "duration": 37,
    "start_time": "2023-08-24T08:06:09.717Z"
   },
   {
    "duration": 30,
    "start_time": "2023-08-24T08:06:09.755Z"
   },
   {
    "duration": 6,
    "start_time": "2023-08-24T08:06:09.787Z"
   },
   {
    "duration": 36,
    "start_time": "2023-08-24T08:06:09.795Z"
   },
   {
    "duration": 5,
    "start_time": "2023-08-24T08:06:09.832Z"
   },
   {
    "duration": 13,
    "start_time": "2023-08-24T08:06:09.839Z"
   },
   {
    "duration": 643,
    "start_time": "2023-08-24T08:06:09.854Z"
   },
   {
    "duration": 152,
    "start_time": "2023-08-24T08:06:10.498Z"
   },
   {
    "duration": 175,
    "start_time": "2023-08-24T08:06:10.651Z"
   },
   {
    "duration": 6,
    "start_time": "2023-08-24T08:06:13.435Z"
   },
   {
    "duration": 6,
    "start_time": "2023-08-24T08:06:18.412Z"
   },
   {
    "duration": 5,
    "start_time": "2023-08-24T08:06:27.202Z"
   },
   {
    "duration": 6,
    "start_time": "2023-08-24T08:06:29.426Z"
   },
   {
    "duration": 26,
    "start_time": "2023-08-24T08:08:43.620Z"
   },
   {
    "duration": 6,
    "start_time": "2023-08-24T08:09:02.753Z"
   },
   {
    "duration": 101,
    "start_time": "2023-08-24T08:09:11.960Z"
   },
   {
    "duration": 6,
    "start_time": "2023-08-24T08:09:14.594Z"
   },
   {
    "duration": 21,
    "start_time": "2023-08-24T08:09:34.014Z"
   },
   {
    "duration": 10,
    "start_time": "2023-08-24T08:09:54.612Z"
   },
   {
    "duration": 25,
    "start_time": "2023-08-24T08:10:30.010Z"
   },
   {
    "duration": 481,
    "start_time": "2023-08-24T08:10:40.501Z"
   },
   {
    "duration": 59,
    "start_time": "2023-08-24T08:11:07.435Z"
   },
   {
    "duration": 54,
    "start_time": "2023-08-24T08:13:27.129Z"
   },
   {
    "duration": 68,
    "start_time": "2023-08-24T08:13:35.420Z"
   },
   {
    "duration": 16,
    "start_time": "2023-08-24T08:13:55.745Z"
   },
   {
    "duration": 65,
    "start_time": "2023-08-24T08:17:47.381Z"
   },
   {
    "duration": 55,
    "start_time": "2023-08-24T08:18:07.539Z"
   },
   {
    "duration": 54,
    "start_time": "2023-08-24T08:18:32.034Z"
   },
   {
    "duration": 54,
    "start_time": "2023-08-24T08:19:57.447Z"
   },
   {
    "duration": 61,
    "start_time": "2023-08-24T08:20:01.052Z"
   },
   {
    "duration": 16,
    "start_time": "2023-08-24T08:20:01.115Z"
   },
   {
    "duration": 22,
    "start_time": "2023-08-24T08:20:01.133Z"
   },
   {
    "duration": 15,
    "start_time": "2023-08-24T08:21:30.172Z"
   },
   {
    "duration": 245,
    "start_time": "2023-08-24T08:22:15.598Z"
   },
   {
    "duration": 92,
    "start_time": "2023-08-24T08:22:20.445Z"
   },
   {
    "duration": 7,
    "start_time": "2023-08-24T08:22:26.466Z"
   },
   {
    "duration": 7,
    "start_time": "2023-08-24T08:22:33.194Z"
   },
   {
    "duration": 14,
    "start_time": "2023-08-24T08:22:37.822Z"
   },
   {
    "duration": 9,
    "start_time": "2023-08-24T08:23:18.398Z"
   },
   {
    "duration": 6,
    "start_time": "2023-08-24T08:24:21.048Z"
   },
   {
    "duration": 9,
    "start_time": "2023-08-24T08:24:28.456Z"
   },
   {
    "duration": 51,
    "start_time": "2023-08-24T08:24:28.466Z"
   },
   {
    "duration": 40,
    "start_time": "2023-08-24T08:24:28.519Z"
   },
   {
    "duration": 78,
    "start_time": "2023-08-24T08:24:28.561Z"
   },
   {
    "duration": 20,
    "start_time": "2023-08-24T08:24:28.641Z"
   },
   {
    "duration": 29,
    "start_time": "2023-08-24T08:24:28.663Z"
   },
   {
    "duration": 591,
    "start_time": "2023-08-24T08:24:28.694Z"
   },
   {
    "duration": 2,
    "start_time": "2023-08-24T08:24:29.287Z"
   },
   {
    "duration": 938,
    "start_time": "2023-08-24T08:24:29.291Z"
   },
   {
    "duration": 25,
    "start_time": "2023-08-24T08:24:30.231Z"
   },
   {
    "duration": 30,
    "start_time": "2023-08-24T08:24:30.259Z"
   },
   {
    "duration": 211,
    "start_time": "2023-08-24T08:24:30.290Z"
   },
   {
    "duration": 118,
    "start_time": "2023-08-24T08:24:30.503Z"
   },
   {
    "duration": 13,
    "start_time": "2023-08-24T08:24:30.623Z"
   },
   {
    "duration": 348,
    "start_time": "2023-08-24T08:24:30.638Z"
   },
   {
    "duration": 43,
    "start_time": "2023-08-24T08:24:30.987Z"
   },
   {
    "duration": 75,
    "start_time": "2023-08-24T08:24:31.032Z"
   },
   {
    "duration": 7,
    "start_time": "2023-08-24T08:24:31.124Z"
   },
   {
    "duration": 47,
    "start_time": "2023-08-24T08:24:31.132Z"
   },
   {
    "duration": 27,
    "start_time": "2023-08-24T08:24:31.180Z"
   },
   {
    "duration": 66,
    "start_time": "2023-08-24T08:24:31.208Z"
   },
   {
    "duration": 77,
    "start_time": "2023-08-24T08:24:31.276Z"
   },
   {
    "duration": 95,
    "start_time": "2023-08-24T08:24:31.355Z"
   },
   {
    "duration": 35,
    "start_time": "2023-08-24T08:24:31.452Z"
   },
   {
    "duration": 74,
    "start_time": "2023-08-24T08:24:31.489Z"
   },
   {
    "duration": 65,
    "start_time": "2023-08-24T08:24:31.565Z"
   },
   {
    "duration": 661,
    "start_time": "2023-08-24T08:24:31.632Z"
   },
   {
    "duration": 193,
    "start_time": "2023-08-24T08:24:32.298Z"
   },
   {
    "duration": 197,
    "start_time": "2023-08-24T08:24:32.493Z"
   },
   {
    "duration": 63,
    "start_time": "2023-08-24T08:24:32.692Z"
   },
   {
    "duration": 70,
    "start_time": "2023-08-24T08:24:32.757Z"
   },
   {
    "duration": 16,
    "start_time": "2023-08-24T08:24:32.829Z"
   },
   {
    "duration": 15,
    "start_time": "2023-08-24T08:24:32.846Z"
   },
   {
    "duration": 72,
    "start_time": "2023-08-24T08:25:47.672Z"
   },
   {
    "duration": 7,
    "start_time": "2023-08-24T08:26:08.220Z"
   },
   {
    "duration": 193,
    "start_time": "2023-08-24T08:26:41.346Z"
   },
   {
    "duration": 604,
    "start_time": "2023-08-24T08:26:45.721Z"
   },
   {
    "duration": 149,
    "start_time": "2023-08-24T08:27:03.470Z"
   },
   {
    "duration": 261,
    "start_time": "2023-08-24T08:27:07.438Z"
   },
   {
    "duration": 157,
    "start_time": "2023-08-24T08:27:10.818Z"
   },
   {
    "duration": 174,
    "start_time": "2023-08-24T08:27:22.172Z"
   },
   {
    "duration": 1234,
    "start_time": "2023-08-24T08:28:25.144Z"
   },
   {
    "duration": 5,
    "start_time": "2023-08-24T08:28:26.380Z"
   },
   {
    "duration": 558,
    "start_time": "2023-08-24T08:28:26.387Z"
   },
   {
    "duration": 25,
    "start_time": "2023-08-24T08:28:26.947Z"
   },
   {
    "duration": 54,
    "start_time": "2023-08-24T08:28:26.974Z"
   },
   {
    "duration": 321,
    "start_time": "2023-08-24T08:28:27.029Z"
   },
   {
    "duration": 15,
    "start_time": "2023-08-24T08:28:27.352Z"
   },
   {
    "duration": 119,
    "start_time": "2023-08-24T08:28:27.369Z"
   },
   {
    "duration": 178,
    "start_time": "2023-08-24T08:28:27.490Z"
   },
   {
    "duration": 12,
    "start_time": "2023-08-24T08:28:27.670Z"
   },
   {
    "duration": 7,
    "start_time": "2023-08-24T08:28:27.684Z"
   },
   {
    "duration": 11,
    "start_time": "2023-08-24T08:28:27.693Z"
   },
   {
    "duration": 10,
    "start_time": "2023-08-24T08:28:27.724Z"
   },
   {
    "duration": 35,
    "start_time": "2023-08-24T08:28:27.735Z"
   },
   {
    "duration": 30,
    "start_time": "2023-08-24T08:28:27.772Z"
   },
   {
    "duration": 33,
    "start_time": "2023-08-24T08:28:27.803Z"
   },
   {
    "duration": 47,
    "start_time": "2023-08-24T08:28:27.837Z"
   },
   {
    "duration": 29,
    "start_time": "2023-08-24T08:28:27.886Z"
   },
   {
    "duration": 27,
    "start_time": "2023-08-24T08:28:27.917Z"
   },
   {
    "duration": 37,
    "start_time": "2023-08-24T08:28:27.945Z"
   },
   {
    "duration": 577,
    "start_time": "2023-08-24T08:28:27.983Z"
   },
   {
    "duration": 2,
    "start_time": "2023-08-24T08:28:28.562Z"
   },
   {
    "duration": 777,
    "start_time": "2023-08-24T08:28:28.566Z"
   },
   {
    "duration": 23,
    "start_time": "2023-08-24T08:28:29.344Z"
   },
   {
    "duration": 27,
    "start_time": "2023-08-24T08:28:29.369Z"
   },
   {
    "duration": 42,
    "start_time": "2023-08-24T08:28:29.397Z"
   },
   {
    "duration": 128,
    "start_time": "2023-08-24T08:28:29.441Z"
   },
   {
    "duration": 11,
    "start_time": "2023-08-24T08:28:29.574Z"
   },
   {
    "duration": 289,
    "start_time": "2023-08-24T08:28:29.587Z"
   },
   {
    "duration": 52,
    "start_time": "2023-08-24T08:28:29.878Z"
   },
   {
    "duration": 71,
    "start_time": "2023-08-24T08:28:29.932Z"
   },
   {
    "duration": 19,
    "start_time": "2023-08-24T08:28:30.005Z"
   },
   {
    "duration": 38,
    "start_time": "2023-08-24T08:28:30.026Z"
   },
   {
    "duration": 44,
    "start_time": "2023-08-24T08:28:30.065Z"
   },
   {
    "duration": 53,
    "start_time": "2023-08-24T08:28:30.111Z"
   },
   {
    "duration": 33,
    "start_time": "2023-08-24T08:28:30.166Z"
   },
   {
    "duration": 43,
    "start_time": "2023-08-24T08:28:30.201Z"
   },
   {
    "duration": 40,
    "start_time": "2023-08-24T08:28:30.246Z"
   },
   {
    "duration": 28,
    "start_time": "2023-08-24T08:28:30.288Z"
   },
   {
    "duration": 60,
    "start_time": "2023-08-24T08:28:30.318Z"
   },
   {
    "duration": 760,
    "start_time": "2023-08-24T08:28:30.379Z"
   },
   {
    "duration": 168,
    "start_time": "2023-08-24T08:28:31.142Z"
   },
   {
    "duration": 182,
    "start_time": "2023-08-24T08:28:31.312Z"
   },
   {
    "duration": 366,
    "start_time": "2023-08-24T08:28:31.496Z"
   },
   {
    "duration": 90,
    "start_time": "2023-08-24T08:28:31.864Z"
   },
   {
    "duration": 17,
    "start_time": "2023-08-24T08:28:31.956Z"
   },
   {
    "duration": 68,
    "start_time": "2023-08-24T08:28:31.975Z"
   },
   {
    "duration": 837,
    "start_time": "2023-08-24T08:28:57.824Z"
   },
   {
    "duration": 834,
    "start_time": "2023-08-24T08:29:01.555Z"
   },
   {
    "duration": 875,
    "start_time": "2023-08-24T08:29:16.671Z"
   },
   {
    "duration": 767,
    "start_time": "2023-08-24T08:29:33.975Z"
   },
   {
    "duration": 794,
    "start_time": "2023-08-24T08:29:40.733Z"
   },
   {
    "duration": 1034,
    "start_time": "2023-08-24T08:30:35.047Z"
   },
   {
    "duration": 1099,
    "start_time": "2023-08-24T08:30:58.621Z"
   },
   {
    "duration": 1053,
    "start_time": "2023-08-24T08:31:14.559Z"
   },
   {
    "duration": 1008,
    "start_time": "2023-08-24T08:31:26.718Z"
   },
   {
    "duration": 1028,
    "start_time": "2023-08-24T08:31:29.641Z"
   },
   {
    "duration": 543,
    "start_time": "2023-08-24T08:32:12.355Z"
   },
   {
    "duration": 1456,
    "start_time": "2023-08-24T10:49:55.672Z"
   },
   {
    "duration": 6,
    "start_time": "2023-08-24T10:49:57.130Z"
   },
   {
    "duration": 649,
    "start_time": "2023-08-24T10:49:57.138Z"
   },
   {
    "duration": 31,
    "start_time": "2023-08-24T10:49:57.789Z"
   },
   {
    "duration": 47,
    "start_time": "2023-08-24T10:49:57.822Z"
   },
   {
    "duration": 370,
    "start_time": "2023-08-24T10:49:57.871Z"
   },
   {
    "duration": 16,
    "start_time": "2023-08-24T10:49:58.243Z"
   },
   {
    "duration": 139,
    "start_time": "2023-08-24T10:49:58.260Z"
   },
   {
    "duration": 184,
    "start_time": "2023-08-24T10:49:58.401Z"
   },
   {
    "duration": 22,
    "start_time": "2023-08-24T10:49:58.588Z"
   },
   {
    "duration": 6,
    "start_time": "2023-08-24T10:49:58.612Z"
   },
   {
    "duration": 14,
    "start_time": "2023-08-24T10:49:58.619Z"
   },
   {
    "duration": 8,
    "start_time": "2023-08-24T10:49:58.635Z"
   },
   {
    "duration": 20,
    "start_time": "2023-08-24T10:49:58.644Z"
   },
   {
    "duration": 12,
    "start_time": "2023-08-24T10:49:58.665Z"
   },
   {
    "duration": 32,
    "start_time": "2023-08-24T10:49:58.678Z"
   },
   {
    "duration": 22,
    "start_time": "2023-08-24T10:49:58.712Z"
   },
   {
    "duration": 16,
    "start_time": "2023-08-24T10:49:58.736Z"
   },
   {
    "duration": 5,
    "start_time": "2023-08-24T10:49:58.755Z"
   },
   {
    "duration": 16,
    "start_time": "2023-08-24T10:49:58.762Z"
   },
   {
    "duration": 624,
    "start_time": "2023-08-24T10:49:58.810Z"
   },
   {
    "duration": 3,
    "start_time": "2023-08-24T10:49:59.436Z"
   },
   {
    "duration": 1745,
    "start_time": "2023-08-24T10:49:59.440Z"
   },
   {
    "duration": 30,
    "start_time": "2023-08-24T10:50:01.187Z"
   },
   {
    "duration": 34,
    "start_time": "2023-08-24T10:50:01.219Z"
   },
   {
    "duration": 60,
    "start_time": "2023-08-24T10:50:01.255Z"
   },
   {
    "duration": 112,
    "start_time": "2023-08-24T10:50:01.317Z"
   },
   {
    "duration": 11,
    "start_time": "2023-08-24T10:50:01.433Z"
   },
   {
    "duration": 367,
    "start_time": "2023-08-24T10:50:01.445Z"
   },
   {
    "duration": 36,
    "start_time": "2023-08-24T10:50:01.814Z"
   },
   {
    "duration": 186,
    "start_time": "2023-08-24T10:50:01.852Z"
   },
   {
    "duration": 72,
    "start_time": "2023-08-24T10:50:02.039Z"
   },
   {
    "duration": 19,
    "start_time": "2023-08-24T10:50:02.114Z"
   },
   {
    "duration": 77,
    "start_time": "2023-08-24T10:50:02.135Z"
   },
   {
    "duration": 56,
    "start_time": "2023-08-24T10:50:02.214Z"
   },
   {
    "duration": 35,
    "start_time": "2023-08-24T10:50:02.272Z"
   },
   {
    "duration": 10,
    "start_time": "2023-08-24T10:50:02.310Z"
   },
   {
    "duration": 29,
    "start_time": "2023-08-24T10:50:02.322Z"
   },
   {
    "duration": 21,
    "start_time": "2023-08-24T10:50:02.352Z"
   },
   {
    "duration": 33,
    "start_time": "2023-08-24T10:50:02.376Z"
   },
   {
    "duration": 1080,
    "start_time": "2023-08-24T10:50:02.412Z"
   },
   {
    "duration": 384,
    "start_time": "2023-08-24T10:50:03.494Z"
   },
   {
    "duration": 397,
    "start_time": "2023-08-24T10:50:03.880Z"
   },
   {
    "duration": 931,
    "start_time": "2023-08-24T10:50:04.278Z"
   },
   {
    "duration": 123,
    "start_time": "2023-08-24T10:50:05.211Z"
   },
   {
    "duration": 19,
    "start_time": "2023-08-24T10:50:05.335Z"
   },
   {
    "duration": 58,
    "start_time": "2023-08-24T10:50:05.356Z"
   },
   {
    "duration": 3,
    "start_time": "2023-08-24T10:58:57.135Z"
   },
   {
    "duration": 4,
    "start_time": "2023-08-24T10:59:07.739Z"
   },
   {
    "duration": 19,
    "start_time": "2023-08-24T11:03:31.963Z"
   },
   {
    "duration": 5,
    "start_time": "2023-08-24T11:03:50.170Z"
   },
   {
    "duration": 7,
    "start_time": "2023-08-24T11:04:54.647Z"
   },
   {
    "duration": 17,
    "start_time": "2023-08-24T11:05:47.602Z"
   },
   {
    "duration": 49,
    "start_time": "2023-08-24T11:21:44.691Z"
   },
   {
    "duration": 1516,
    "start_time": "2023-08-24T11:21:51.690Z"
   },
   {
    "duration": 6,
    "start_time": "2023-08-24T11:21:53.208Z"
   },
   {
    "duration": 2115,
    "start_time": "2023-08-24T11:21:53.215Z"
   },
   {
    "duration": 45,
    "start_time": "2023-08-24T11:21:55.333Z"
   },
   {
    "duration": 95,
    "start_time": "2023-08-24T11:21:55.381Z"
   },
   {
    "duration": 431,
    "start_time": "2023-08-24T11:21:55.478Z"
   },
   {
    "duration": 18,
    "start_time": "2023-08-24T11:21:55.911Z"
   },
   {
    "duration": 157,
    "start_time": "2023-08-24T11:21:55.931Z"
   },
   {
    "duration": 206,
    "start_time": "2023-08-24T11:21:56.091Z"
   },
   {
    "duration": 18,
    "start_time": "2023-08-24T11:21:56.301Z"
   },
   {
    "duration": 9,
    "start_time": "2023-08-24T11:21:56.321Z"
   },
   {
    "duration": 29,
    "start_time": "2023-08-24T11:21:56.332Z"
   },
   {
    "duration": 46,
    "start_time": "2023-08-24T11:21:56.362Z"
   },
   {
    "duration": 11,
    "start_time": "2023-08-24T11:21:56.410Z"
   },
   {
    "duration": 35,
    "start_time": "2023-08-24T11:21:56.422Z"
   },
   {
    "duration": 26,
    "start_time": "2023-08-24T11:21:56.459Z"
   },
   {
    "duration": 30,
    "start_time": "2023-08-24T11:21:56.488Z"
   },
   {
    "duration": 20,
    "start_time": "2023-08-24T11:21:56.521Z"
   },
   {
    "duration": 16,
    "start_time": "2023-08-24T11:21:56.543Z"
   },
   {
    "duration": 26,
    "start_time": "2023-08-24T11:21:56.561Z"
   },
   {
    "duration": 804,
    "start_time": "2023-08-24T11:21:56.589Z"
   },
   {
    "duration": 4,
    "start_time": "2023-08-24T11:21:57.395Z"
   },
   {
    "duration": 1233,
    "start_time": "2023-08-24T11:21:57.401Z"
   },
   {
    "duration": 34,
    "start_time": "2023-08-24T11:21:58.636Z"
   },
   {
    "duration": 10,
    "start_time": "2023-08-24T11:21:58.671Z"
   },
   {
    "duration": 37,
    "start_time": "2023-08-24T11:21:58.683Z"
   },
   {
    "duration": 120,
    "start_time": "2023-08-24T11:21:58.722Z"
   },
   {
    "duration": 21,
    "start_time": "2023-08-24T11:21:58.846Z"
   },
   {
    "duration": 382,
    "start_time": "2023-08-24T11:21:58.870Z"
   },
   {
    "duration": 42,
    "start_time": "2023-08-24T11:21:59.254Z"
   },
   {
    "duration": 103,
    "start_time": "2023-08-24T11:21:59.298Z"
   },
   {
    "duration": 7,
    "start_time": "2023-08-24T11:21:59.404Z"
   },
   {
    "duration": 7,
    "start_time": "2023-08-24T11:21:59.414Z"
   },
   {
    "duration": 5,
    "start_time": "2023-08-24T11:21:59.423Z"
   },
   {
    "duration": 47,
    "start_time": "2023-08-24T11:21:59.429Z"
   },
   {
    "duration": 53,
    "start_time": "2023-08-24T11:21:59.479Z"
   },
   {
    "duration": 46,
    "start_time": "2023-08-24T11:21:59.535Z"
   },
   {
    "duration": 7,
    "start_time": "2023-08-24T11:21:59.583Z"
   },
   {
    "duration": 63,
    "start_time": "2023-08-24T11:21:59.592Z"
   },
   {
    "duration": 13,
    "start_time": "2023-08-24T11:21:59.657Z"
   },
   {
    "duration": 26,
    "start_time": "2023-08-24T11:21:59.672Z"
   },
   {
    "duration": 756,
    "start_time": "2023-08-24T11:21:59.700Z"
   },
   {
    "duration": 217,
    "start_time": "2023-08-24T11:22:00.459Z"
   },
   {
    "duration": 216,
    "start_time": "2023-08-24T11:22:00.678Z"
   },
   {
    "duration": 465,
    "start_time": "2023-08-24T11:22:00.897Z"
   },
   {
    "duration": 130,
    "start_time": "2023-08-24T11:22:01.364Z"
   },
   {
    "duration": 24,
    "start_time": "2023-08-24T11:22:01.496Z"
   },
   {
    "duration": 77,
    "start_time": "2023-08-24T11:22:01.522Z"
   },
   {
    "duration": 5,
    "start_time": "2023-08-24T11:23:21.437Z"
   },
   {
    "duration": 6,
    "start_time": "2023-08-24T11:23:29.313Z"
   },
   {
    "duration": 6,
    "start_time": "2023-08-24T12:36:00.616Z"
   },
   {
    "duration": 26,
    "start_time": "2023-08-24T12:36:00.624Z"
   },
   {
    "duration": 765,
    "start_time": "2023-08-24T12:36:00.653Z"
   },
   {
    "duration": 28,
    "start_time": "2023-08-24T12:36:01.420Z"
   },
   {
    "duration": 248,
    "start_time": "2023-08-24T12:36:01.450Z"
   },
   {
    "duration": 470,
    "start_time": "2023-08-24T12:36:01.701Z"
   },
   {
    "duration": 23,
    "start_time": "2023-08-24T12:36:02.173Z"
   },
   {
    "duration": 181,
    "start_time": "2023-08-24T12:36:02.198Z"
   },
   {
    "duration": 184,
    "start_time": "2023-08-24T12:36:02.381Z"
   },
   {
    "duration": 17,
    "start_time": "2023-08-24T12:36:02.567Z"
   },
   {
    "duration": 52,
    "start_time": "2023-08-24T12:36:02.588Z"
   },
   {
    "duration": 50,
    "start_time": "2023-08-24T12:36:02.642Z"
   },
   {
    "duration": 105,
    "start_time": "2023-08-24T12:36:02.695Z"
   },
   {
    "duration": 15,
    "start_time": "2023-08-24T12:36:02.802Z"
   },
   {
    "duration": 40,
    "start_time": "2023-08-24T12:36:02.819Z"
   },
   {
    "duration": 14,
    "start_time": "2023-08-24T12:36:02.861Z"
   },
   {
    "duration": 32,
    "start_time": "2023-08-24T12:36:02.877Z"
   },
   {
    "duration": 20,
    "start_time": "2023-08-24T12:36:02.911Z"
   },
   {
    "duration": 26,
    "start_time": "2023-08-24T12:36:02.933Z"
   },
   {
    "duration": 33,
    "start_time": "2023-08-24T12:36:02.962Z"
   },
   {
    "duration": 842,
    "start_time": "2023-08-24T12:36:02.997Z"
   },
   {
    "duration": 4,
    "start_time": "2023-08-24T12:36:03.841Z"
   },
   {
    "duration": 1388,
    "start_time": "2023-08-24T12:36:03.858Z"
   },
   {
    "duration": 39,
    "start_time": "2023-08-24T12:36:05.248Z"
   },
   {
    "duration": 16,
    "start_time": "2023-08-24T12:36:05.289Z"
   },
   {
    "duration": 63,
    "start_time": "2023-08-24T12:36:05.307Z"
   },
   {
    "duration": 124,
    "start_time": "2023-08-24T12:36:05.372Z"
   },
   {
    "duration": 16,
    "start_time": "2023-08-24T12:36:05.498Z"
   },
   {
    "duration": 409,
    "start_time": "2023-08-24T12:36:05.517Z"
   },
   {
    "duration": 53,
    "start_time": "2023-08-24T12:36:05.928Z"
   },
   {
    "duration": 126,
    "start_time": "2023-08-24T12:36:05.983Z"
   },
   {
    "duration": 8,
    "start_time": "2023-08-24T12:36:06.112Z"
   },
   {
    "duration": 11,
    "start_time": "2023-08-24T12:36:06.122Z"
   },
   {
    "duration": 26,
    "start_time": "2023-08-24T12:36:06.135Z"
   },
   {
    "duration": 7,
    "start_time": "2023-08-24T12:36:06.163Z"
   },
   {
    "duration": 47,
    "start_time": "2023-08-24T12:36:06.172Z"
   },
   {
    "duration": 75,
    "start_time": "2023-08-24T12:36:06.221Z"
   },
   {
    "duration": 7,
    "start_time": "2023-08-24T12:36:06.298Z"
   },
   {
    "duration": 14,
    "start_time": "2023-08-24T12:36:06.307Z"
   },
   {
    "duration": 12,
    "start_time": "2023-08-24T12:36:06.323Z"
   },
   {
    "duration": 37,
    "start_time": "2023-08-24T12:36:06.337Z"
   },
   {
    "duration": 602,
    "start_time": "2023-08-24T12:36:06.377Z"
   },
   {
    "duration": 186,
    "start_time": "2023-08-24T12:36:06.981Z"
   },
   {
    "duration": 214,
    "start_time": "2023-08-24T12:36:07.169Z"
   },
   {
    "duration": 75,
    "start_time": "2023-08-24T12:36:07.385Z"
   },
   {
    "duration": 72,
    "start_time": "2023-08-24T12:36:07.462Z"
   },
   {
    "duration": 41,
    "start_time": "2023-08-24T12:36:07.536Z"
   },
   {
    "duration": 21,
    "start_time": "2023-08-24T12:36:07.579Z"
   },
   {
    "duration": 11,
    "start_time": "2023-08-24T12:55:27.821Z"
   },
   {
    "duration": 28,
    "start_time": "2023-08-24T13:20:32.169Z"
   },
   {
    "duration": 6,
    "start_time": "2023-08-24T13:21:44.886Z"
   },
   {
    "duration": 8,
    "start_time": "2023-08-24T13:21:52.625Z"
   },
   {
    "duration": 11,
    "start_time": "2023-08-24T13:22:01.623Z"
   },
   {
    "duration": 120,
    "start_time": "2023-08-24T13:31:21.499Z"
   },
   {
    "duration": 23,
    "start_time": "2023-08-24T13:31:25.386Z"
   },
   {
    "duration": 10,
    "start_time": "2023-08-24T13:32:19.778Z"
   },
   {
    "duration": 12,
    "start_time": "2023-08-24T13:33:18.948Z"
   },
   {
    "duration": 10,
    "start_time": "2023-08-24T13:33:47.045Z"
   },
   {
    "duration": 9,
    "start_time": "2023-08-24T13:33:51.517Z"
   },
   {
    "duration": 9,
    "start_time": "2023-08-24T14:01:43.286Z"
   },
   {
    "duration": 9,
    "start_time": "2023-08-24T14:01:54.330Z"
   },
   {
    "duration": 16,
    "start_time": "2023-08-24T14:02:44.870Z"
   },
   {
    "duration": 7,
    "start_time": "2023-08-24T14:02:55.593Z"
   },
   {
    "duration": 25,
    "start_time": "2023-08-24T14:03:36.032Z"
   },
   {
    "duration": 24,
    "start_time": "2023-08-24T14:25:23.472Z"
   },
   {
    "duration": 24,
    "start_time": "2023-08-24T14:25:36.783Z"
   },
   {
    "duration": 24,
    "start_time": "2023-08-24T14:36:52.008Z"
   },
   {
    "duration": 103,
    "start_time": "2023-08-24T14:40:49.458Z"
   },
   {
    "duration": 42,
    "start_time": "2023-08-24T14:41:28.665Z"
   },
   {
    "duration": 10,
    "start_time": "2023-08-24T14:42:11.270Z"
   },
   {
    "duration": 29,
    "start_time": "2023-08-24T14:42:42.180Z"
   },
   {
    "duration": 25,
    "start_time": "2023-08-24T14:43:07.197Z"
   },
   {
    "duration": 9,
    "start_time": "2023-08-24T14:43:52.553Z"
   },
   {
    "duration": 9,
    "start_time": "2023-08-24T14:44:59.621Z"
   },
   {
    "duration": 10,
    "start_time": "2023-08-24T14:45:15.825Z"
   },
   {
    "duration": 113,
    "start_time": "2023-08-24T14:45:49.751Z"
   },
   {
    "duration": 28,
    "start_time": "2023-08-24T14:45:55.847Z"
   },
   {
    "duration": 24,
    "start_time": "2023-08-24T14:46:10.370Z"
   },
   {
    "duration": 11,
    "start_time": "2023-08-24T14:46:27.924Z"
   },
   {
    "duration": 11,
    "start_time": "2023-08-24T14:47:18.276Z"
   },
   {
    "duration": 117,
    "start_time": "2023-08-24T14:58:05.530Z"
   },
   {
    "duration": 15,
    "start_time": "2023-08-24T14:58:05.650Z"
   },
   {
    "duration": 38,
    "start_time": "2023-08-24T14:58:05.667Z"
   },
   {
    "duration": 26,
    "start_time": "2023-08-24T14:58:05.707Z"
   },
   {
    "duration": 29,
    "start_time": "2023-08-24T14:58:05.736Z"
   },
   {
    "duration": 71,
    "start_time": "2023-08-24T14:58:05.767Z"
   },
   {
    "duration": 21,
    "start_time": "2023-08-24T14:58:05.840Z"
   },
   {
    "duration": 77,
    "start_time": "2023-08-24T14:58:05.864Z"
   },
   {
    "duration": 4,
    "start_time": "2023-08-24T14:58:05.943Z"
   },
   {
    "duration": 33,
    "start_time": "2023-08-24T14:58:05.949Z"
   },
   {
    "duration": 625,
    "start_time": "2023-08-24T14:58:05.984Z"
   },
   {
    "duration": 227,
    "start_time": "2023-08-24T14:58:06.611Z"
   },
   {
    "duration": 352,
    "start_time": "2023-08-24T14:58:06.839Z"
   },
   {
    "duration": 81,
    "start_time": "2023-08-24T14:58:07.194Z"
   },
   {
    "duration": 88,
    "start_time": "2023-08-24T14:58:07.277Z"
   },
   {
    "duration": 29,
    "start_time": "2023-08-24T14:58:07.367Z"
   },
   {
    "duration": 8,
    "start_time": "2023-08-24T15:05:40.368Z"
   },
   {
    "duration": 9,
    "start_time": "2023-08-24T15:06:23.149Z"
   },
   {
    "duration": 21,
    "start_time": "2023-08-24T15:08:24.591Z"
   },
   {
    "duration": 43,
    "start_time": "2023-08-24T15:09:32.166Z"
   },
   {
    "duration": 17,
    "start_time": "2023-08-24T15:10:08.637Z"
   },
   {
    "duration": 41,
    "start_time": "2023-08-24T15:10:55.934Z"
   },
   {
    "duration": 38,
    "start_time": "2023-08-24T15:12:13.231Z"
   },
   {
    "duration": 4,
    "start_time": "2023-08-24T15:19:30.730Z"
   },
   {
    "duration": 54,
    "start_time": "2023-08-24T15:19:30.736Z"
   },
   {
    "duration": 1157,
    "start_time": "2023-08-24T15:19:30.793Z"
   },
   {
    "duration": 35,
    "start_time": "2023-08-24T15:19:31.953Z"
   },
   {
    "duration": 98,
    "start_time": "2023-08-24T15:19:31.989Z"
   },
   {
    "duration": 497,
    "start_time": "2023-08-24T15:19:32.090Z"
   },
   {
    "duration": 26,
    "start_time": "2023-08-24T15:19:32.590Z"
   },
   {
    "duration": 171,
    "start_time": "2023-08-24T15:19:32.619Z"
   },
   {
    "duration": 211,
    "start_time": "2023-08-24T15:19:32.792Z"
   },
   {
    "duration": 31,
    "start_time": "2023-08-24T15:19:33.006Z"
   },
   {
    "duration": 26,
    "start_time": "2023-08-24T15:19:33.038Z"
   },
   {
    "duration": 32,
    "start_time": "2023-08-24T15:19:33.066Z"
   },
   {
    "duration": 21,
    "start_time": "2023-08-24T15:19:33.100Z"
   },
   {
    "duration": 11,
    "start_time": "2023-08-24T15:19:33.124Z"
   },
   {
    "duration": 27,
    "start_time": "2023-08-24T15:19:33.137Z"
   },
   {
    "duration": 11,
    "start_time": "2023-08-24T15:19:33.166Z"
   },
   {
    "duration": 32,
    "start_time": "2023-08-24T15:19:33.179Z"
   },
   {
    "duration": 53,
    "start_time": "2023-08-24T15:19:33.213Z"
   },
   {
    "duration": 17,
    "start_time": "2023-08-24T15:19:33.269Z"
   },
   {
    "duration": 50,
    "start_time": "2023-08-24T15:19:33.288Z"
   },
   {
    "duration": 1052,
    "start_time": "2023-08-24T15:19:33.340Z"
   },
   {
    "duration": 3,
    "start_time": "2023-08-24T15:19:34.395Z"
   },
   {
    "duration": 1264,
    "start_time": "2023-08-24T15:19:34.400Z"
   },
   {
    "duration": 25,
    "start_time": "2023-08-24T15:19:35.666Z"
   },
   {
    "duration": 38,
    "start_time": "2023-08-24T15:19:35.693Z"
   },
   {
    "duration": 70,
    "start_time": "2023-08-24T15:19:35.733Z"
   },
   {
    "duration": 123,
    "start_time": "2023-08-24T15:19:35.805Z"
   },
   {
    "duration": 17,
    "start_time": "2023-08-24T15:19:35.932Z"
   },
   {
    "duration": 493,
    "start_time": "2023-08-24T15:19:35.959Z"
   },
   {
    "duration": 56,
    "start_time": "2023-08-24T15:19:36.454Z"
   },
   {
    "duration": 149,
    "start_time": "2023-08-24T15:19:36.512Z"
   },
   {
    "duration": 214,
    "start_time": "2023-08-24T15:19:36.663Z"
   },
   {
    "duration": 37,
    "start_time": "2023-08-24T15:19:36.879Z"
   },
   {
    "duration": 10,
    "start_time": "2023-08-24T15:19:36.918Z"
   },
   {
    "duration": 15,
    "start_time": "2023-08-24T15:19:36.930Z"
   },
   {
    "duration": 91,
    "start_time": "2023-08-24T15:19:36.947Z"
   },
   {
    "duration": 19,
    "start_time": "2023-08-24T15:19:37.040Z"
   },
   {
    "duration": 13,
    "start_time": "2023-08-24T15:19:37.061Z"
   },
   {
    "duration": 27,
    "start_time": "2023-08-24T15:19:37.076Z"
   },
   {
    "duration": 36,
    "start_time": "2023-08-24T15:19:37.105Z"
   },
   {
    "duration": 41,
    "start_time": "2023-08-24T15:19:37.143Z"
   },
   {
    "duration": 11,
    "start_time": "2023-08-24T15:19:45.284Z"
   },
   {
    "duration": 51,
    "start_time": "2023-08-24T15:19:45.297Z"
   },
   {
    "duration": 58,
    "start_time": "2023-08-24T15:19:45.352Z"
   },
   {
    "duration": 4,
    "start_time": "2023-08-24T15:19:45.412Z"
   },
   {
    "duration": 19,
    "start_time": "2023-08-24T15:19:45.418Z"
   },
   {
    "duration": 631,
    "start_time": "2023-08-24T15:19:45.439Z"
   },
   {
    "duration": 187,
    "start_time": "2023-08-24T15:19:46.073Z"
   },
   {
    "duration": 212,
    "start_time": "2023-08-24T15:19:46.262Z"
   },
   {
    "duration": 68,
    "start_time": "2023-08-24T15:19:46.477Z"
   },
   {
    "duration": 71,
    "start_time": "2023-08-24T15:19:46.560Z"
   },
   {
    "duration": 40,
    "start_time": "2023-08-24T15:19:46.633Z"
   },
   {
    "duration": 5,
    "start_time": "2023-08-24T15:20:36.293Z"
   },
   {
    "duration": 20,
    "start_time": "2023-08-24T15:20:39.050Z"
   },
   {
    "duration": 110,
    "start_time": "2023-08-24T15:21:35.332Z"
   },
   {
    "duration": 344,
    "start_time": "2023-08-24T15:23:10.720Z"
   },
   {
    "duration": 449,
    "start_time": "2023-08-24T15:23:19.452Z"
   },
   {
    "duration": 288,
    "start_time": "2023-08-24T15:23:22.824Z"
   },
   {
    "duration": 277,
    "start_time": "2023-08-24T15:23:36.291Z"
   },
   {
    "duration": 293,
    "start_time": "2023-08-24T15:23:40.229Z"
   },
   {
    "duration": 138,
    "start_time": "2023-08-24T15:23:51.347Z"
   },
   {
    "duration": 118,
    "start_time": "2023-08-24T15:24:01.977Z"
   },
   {
    "duration": 113,
    "start_time": "2023-08-24T15:24:04.422Z"
   },
   {
    "duration": 568,
    "start_time": "2023-08-24T15:26:08.184Z"
   },
   {
    "duration": 6,
    "start_time": "2023-08-24T15:45:29.278Z"
   },
   {
    "duration": 7,
    "start_time": "2023-08-24T15:45:45.818Z"
   },
   {
    "duration": 6,
    "start_time": "2023-08-24T15:45:55.626Z"
   },
   {
    "duration": 7,
    "start_time": "2023-08-24T15:46:17.258Z"
   },
   {
    "duration": 6,
    "start_time": "2023-08-24T15:47:02.439Z"
   },
   {
    "duration": 25,
    "start_time": "2023-08-24T15:47:08.122Z"
   },
   {
    "duration": 13,
    "start_time": "2023-08-24T15:47:19.225Z"
   },
   {
    "duration": 23,
    "start_time": "2023-08-24T15:47:19.621Z"
   },
   {
    "duration": 16,
    "start_time": "2023-08-24T15:47:32.060Z"
   },
   {
    "duration": 14,
    "start_time": "2023-08-24T15:48:11.849Z"
   },
   {
    "duration": 5,
    "start_time": "2023-08-24T15:48:15.141Z"
   },
   {
    "duration": 22,
    "start_time": "2023-08-24T15:48:16.520Z"
   },
   {
    "duration": 22,
    "start_time": "2023-08-24T15:48:29.009Z"
   },
   {
    "duration": 5,
    "start_time": "2023-08-24T15:48:42.876Z"
   },
   {
    "duration": 30,
    "start_time": "2023-08-24T15:48:44.009Z"
   },
   {
    "duration": 17,
    "start_time": "2023-08-24T15:49:04.835Z"
   },
   {
    "duration": 15,
    "start_time": "2023-08-24T15:49:17.241Z"
   },
   {
    "duration": 5,
    "start_time": "2023-08-24T15:49:27.974Z"
   },
   {
    "duration": 7,
    "start_time": "2023-08-24T15:49:29.324Z"
   },
   {
    "duration": 6,
    "start_time": "2023-08-24T15:49:34.918Z"
   },
   {
    "duration": 5,
    "start_time": "2023-08-24T15:49:48.532Z"
   },
   {
    "duration": 12,
    "start_time": "2023-08-24T15:49:48.542Z"
   },
   {
    "duration": 665,
    "start_time": "2023-08-24T15:49:48.557Z"
   },
   {
    "duration": 27,
    "start_time": "2023-08-24T15:49:49.223Z"
   },
   {
    "duration": 64,
    "start_time": "2023-08-24T15:49:49.252Z"
   },
   {
    "duration": 402,
    "start_time": "2023-08-24T15:49:49.319Z"
   },
   {
    "duration": 18,
    "start_time": "2023-08-24T15:49:49.723Z"
   },
   {
    "duration": 113,
    "start_time": "2023-08-24T15:49:49.758Z"
   },
   {
    "duration": 183,
    "start_time": "2023-08-24T15:49:49.873Z"
   },
   {
    "duration": 22,
    "start_time": "2023-08-24T15:49:50.059Z"
   },
   {
    "duration": 46,
    "start_time": "2023-08-24T15:49:50.083Z"
   },
   {
    "duration": 25,
    "start_time": "2023-08-24T15:49:50.132Z"
   },
   {
    "duration": 18,
    "start_time": "2023-08-24T15:49:50.159Z"
   },
   {
    "duration": 28,
    "start_time": "2023-08-24T15:49:50.179Z"
   },
   {
    "duration": 19,
    "start_time": "2023-08-24T15:49:50.212Z"
   },
   {
    "duration": 13,
    "start_time": "2023-08-24T15:49:50.233Z"
   },
   {
    "duration": 38,
    "start_time": "2023-08-24T15:49:50.248Z"
   },
   {
    "duration": 29,
    "start_time": "2023-08-24T15:49:50.288Z"
   },
   {
    "duration": 9,
    "start_time": "2023-08-24T15:49:50.319Z"
   },
   {
    "duration": 33,
    "start_time": "2023-08-24T15:49:50.330Z"
   },
   {
    "duration": 795,
    "start_time": "2023-08-24T15:49:50.365Z"
   },
   {
    "duration": 3,
    "start_time": "2023-08-24T15:49:51.162Z"
   },
   {
    "duration": 1166,
    "start_time": "2023-08-24T15:49:51.167Z"
   },
   {
    "duration": 32,
    "start_time": "2023-08-24T15:49:52.335Z"
   },
   {
    "duration": 15,
    "start_time": "2023-08-24T15:49:52.369Z"
   },
   {
    "duration": 61,
    "start_time": "2023-08-24T15:49:52.385Z"
   },
   {
    "duration": 100,
    "start_time": "2023-08-24T15:49:52.447Z"
   },
   {
    "duration": 17,
    "start_time": "2023-08-24T15:49:52.549Z"
   },
   {
    "duration": 391,
    "start_time": "2023-08-24T15:49:52.568Z"
   },
   {
    "duration": 38,
    "start_time": "2023-08-24T15:49:52.961Z"
   },
   {
    "duration": 11,
    "start_time": "2023-08-24T15:49:53.001Z"
   },
   {
    "duration": 40,
    "start_time": "2023-08-24T15:49:53.014Z"
   },
   {
    "duration": 70,
    "start_time": "2023-08-24T15:49:53.056Z"
   },
   {
    "duration": 31,
    "start_time": "2023-08-24T15:49:53.128Z"
   },
   {
    "duration": 28,
    "start_time": "2023-08-24T15:49:53.162Z"
   },
   {
    "duration": 98,
    "start_time": "2023-08-24T15:49:53.192Z"
   },
   {
    "duration": 8,
    "start_time": "2023-08-24T15:49:53.292Z"
   },
   {
    "duration": 15,
    "start_time": "2023-08-24T15:49:53.301Z"
   },
   {
    "duration": 23,
    "start_time": "2023-08-24T15:49:53.318Z"
   },
   {
    "duration": 39,
    "start_time": "2023-08-24T15:49:53.343Z"
   },
   {
    "duration": 31,
    "start_time": "2023-08-24T15:49:53.384Z"
   },
   {
    "duration": 55,
    "start_time": "2023-08-24T15:49:53.420Z"
   },
   {
    "duration": 43,
    "start_time": "2023-08-24T15:49:53.477Z"
   },
   {
    "duration": 29,
    "start_time": "2023-08-24T15:49:53.522Z"
   },
   {
    "duration": 39,
    "start_time": "2023-08-24T15:49:53.553Z"
   },
   {
    "duration": 144,
    "start_time": "2023-08-24T15:49:53.594Z"
   },
   {
    "duration": 727,
    "start_time": "2023-08-24T15:51:38.634Z"
   },
   {
    "duration": 535,
    "start_time": "2023-08-24T15:51:53.429Z"
   },
   {
    "duration": 597,
    "start_time": "2023-08-24T15:52:13.063Z"
   },
   {
    "duration": 809,
    "start_time": "2023-08-24T17:47:51.171Z"
   },
   {
    "duration": 640,
    "start_time": "2023-08-24T17:48:06.207Z"
   },
   {
    "duration": 730,
    "start_time": "2023-08-24T17:48:41.995Z"
   },
   {
    "duration": 17,
    "start_time": "2023-08-24T17:49:42.167Z"
   },
   {
    "duration": 5,
    "start_time": "2023-08-24T17:49:49.388Z"
   },
   {
    "duration": 7,
    "start_time": "2023-08-24T17:49:54.364Z"
   },
   {
    "duration": 783,
    "start_time": "2023-08-24T17:50:19.396Z"
   },
   {
    "duration": 888,
    "start_time": "2023-08-24T17:50:25.681Z"
   },
   {
    "duration": 692,
    "start_time": "2023-08-24T17:50:40.754Z"
   },
   {
    "duration": 1076,
    "start_time": "2023-08-24T17:50:58.704Z"
   },
   {
    "duration": 1099,
    "start_time": "2023-08-24T17:51:12.549Z"
   },
   {
    "duration": 964,
    "start_time": "2023-08-24T17:51:51.766Z"
   },
   {
    "duration": 788,
    "start_time": "2023-08-24T17:51:55.145Z"
   },
   {
    "duration": 1192,
    "start_time": "2023-08-24T17:52:00.830Z"
   },
   {
    "duration": 1012,
    "start_time": "2023-08-24T17:52:08.834Z"
   },
   {
    "duration": 1246,
    "start_time": "2023-08-24T17:52:36.334Z"
   },
   {
    "duration": 895,
    "start_time": "2023-08-24T17:52:45.644Z"
   },
   {
    "duration": 974,
    "start_time": "2023-08-24T17:52:51.266Z"
   },
   {
    "duration": 918,
    "start_time": "2023-08-24T17:54:14.787Z"
   },
   {
    "duration": 1002,
    "start_time": "2023-08-24T17:54:17.888Z"
   },
   {
    "duration": 900,
    "start_time": "2023-08-24T17:54:25.120Z"
   },
   {
    "duration": 890,
    "start_time": "2023-08-24T17:54:33.226Z"
   },
   {
    "duration": 902,
    "start_time": "2023-08-24T17:54:48.211Z"
   },
   {
    "duration": 1320,
    "start_time": "2023-08-24T18:17:08.476Z"
   },
   {
    "duration": 7,
    "start_time": "2023-08-24T18:17:09.798Z"
   },
   {
    "duration": 647,
    "start_time": "2023-08-24T18:17:09.806Z"
   },
   {
    "duration": 30,
    "start_time": "2023-08-24T18:17:10.455Z"
   },
   {
    "duration": 78,
    "start_time": "2023-08-24T18:17:10.487Z"
   },
   {
    "duration": 435,
    "start_time": "2023-08-24T18:17:10.567Z"
   },
   {
    "duration": 32,
    "start_time": "2023-08-24T18:17:11.004Z"
   },
   {
    "duration": 135,
    "start_time": "2023-08-24T18:17:11.038Z"
   },
   {
    "duration": 195,
    "start_time": "2023-08-24T18:17:11.175Z"
   },
   {
    "duration": 32,
    "start_time": "2023-08-24T18:17:11.374Z"
   },
   {
    "duration": 32,
    "start_time": "2023-08-24T18:17:11.408Z"
   },
   {
    "duration": 65,
    "start_time": "2023-08-24T18:17:11.442Z"
   },
   {
    "duration": 11,
    "start_time": "2023-08-24T18:17:11.509Z"
   },
   {
    "duration": 220,
    "start_time": "2023-08-24T18:17:11.522Z"
   },
   {
    "duration": 70,
    "start_time": "2023-08-24T18:17:11.744Z"
   },
   {
    "duration": 12,
    "start_time": "2023-08-24T18:17:11.816Z"
   },
   {
    "duration": 37,
    "start_time": "2023-08-24T18:17:11.830Z"
   },
   {
    "duration": 20,
    "start_time": "2023-08-24T18:17:11.869Z"
   },
   {
    "duration": 12,
    "start_time": "2023-08-24T18:17:11.890Z"
   },
   {
    "duration": 38,
    "start_time": "2023-08-24T18:17:11.904Z"
   },
   {
    "duration": 773,
    "start_time": "2023-08-24T18:17:11.944Z"
   },
   {
    "duration": 3,
    "start_time": "2023-08-24T18:17:12.719Z"
   },
   {
    "duration": 1124,
    "start_time": "2023-08-24T18:17:12.724Z"
   },
   {
    "duration": 28,
    "start_time": "2023-08-24T18:17:13.850Z"
   },
   {
    "duration": 11,
    "start_time": "2023-08-24T18:17:13.880Z"
   },
   {
    "duration": 22,
    "start_time": "2023-08-24T18:17:13.892Z"
   },
   {
    "duration": 131,
    "start_time": "2023-08-24T18:17:13.916Z"
   },
   {
    "duration": 14,
    "start_time": "2023-08-24T18:17:14.059Z"
   },
   {
    "duration": 461,
    "start_time": "2023-08-24T18:17:14.075Z"
   },
   {
    "duration": 45,
    "start_time": "2023-08-24T18:17:14.538Z"
   },
   {
    "duration": 9,
    "start_time": "2023-08-24T18:17:14.585Z"
   },
   {
    "duration": 7,
    "start_time": "2023-08-24T18:17:14.596Z"
   },
   {
    "duration": 18,
    "start_time": "2023-08-24T18:17:14.605Z"
   },
   {
    "duration": 40,
    "start_time": "2023-08-24T18:17:14.625Z"
   },
   {
    "duration": 12,
    "start_time": "2023-08-24T18:17:14.668Z"
   },
   {
    "duration": 104,
    "start_time": "2023-08-24T18:17:14.682Z"
   },
   {
    "duration": 9,
    "start_time": "2023-08-24T18:17:14.788Z"
   },
   {
    "duration": 6,
    "start_time": "2023-08-24T18:17:14.799Z"
   },
   {
    "duration": 14,
    "start_time": "2023-08-24T18:17:14.806Z"
   },
   {
    "duration": 9,
    "start_time": "2023-08-24T18:17:14.822Z"
   },
   {
    "duration": 31,
    "start_time": "2023-08-24T18:17:14.833Z"
   },
   {
    "duration": 39,
    "start_time": "2023-08-24T18:17:14.866Z"
   },
   {
    "duration": 60,
    "start_time": "2023-08-24T18:17:14.907Z"
   },
   {
    "duration": 3,
    "start_time": "2023-08-24T18:17:14.969Z"
   },
   {
    "duration": 15,
    "start_time": "2023-08-24T18:17:14.974Z"
   },
   {
    "duration": 142,
    "start_time": "2023-08-24T18:17:14.991Z"
   },
   {
    "duration": 876,
    "start_time": "2023-08-24T18:17:15.136Z"
   },
   {
    "duration": 188,
    "start_time": "2023-08-24T18:17:16.014Z"
   },
   {
    "duration": 220,
    "start_time": "2023-08-24T18:17:16.205Z"
   },
   {
    "duration": 414,
    "start_time": "2023-08-24T18:17:16.428Z"
   },
   {
    "duration": 118,
    "start_time": "2023-08-24T18:17:16.844Z"
   },
   {
    "duration": 21,
    "start_time": "2023-08-24T18:17:16.964Z"
   },
   {
    "duration": 1253,
    "start_time": "2023-08-24T20:45:18.768Z"
   },
   {
    "duration": 6,
    "start_time": "2023-08-24T20:45:20.023Z"
   },
   {
    "duration": 991,
    "start_time": "2023-08-24T20:45:20.030Z"
   },
   {
    "duration": 28,
    "start_time": "2023-08-24T20:45:21.024Z"
   },
   {
    "duration": 69,
    "start_time": "2023-08-24T20:45:21.054Z"
   },
   {
    "duration": 439,
    "start_time": "2023-08-24T20:45:21.125Z"
   },
   {
    "duration": 19,
    "start_time": "2023-08-24T20:45:21.566Z"
   },
   {
    "duration": 120,
    "start_time": "2023-08-24T20:45:21.609Z"
   },
   {
    "duration": 222,
    "start_time": "2023-08-24T20:45:21.731Z"
   },
   {
    "duration": 15,
    "start_time": "2023-08-24T20:45:21.955Z"
   },
   {
    "duration": 11,
    "start_time": "2023-08-24T20:45:21.971Z"
   },
   {
    "duration": 29,
    "start_time": "2023-08-24T20:45:21.984Z"
   },
   {
    "duration": 10,
    "start_time": "2023-08-24T20:45:22.015Z"
   },
   {
    "duration": 6,
    "start_time": "2023-08-24T20:45:22.026Z"
   },
   {
    "duration": 9,
    "start_time": "2023-08-24T20:45:22.034Z"
   },
   {
    "duration": 66,
    "start_time": "2023-08-24T20:45:22.045Z"
   },
   {
    "duration": 28,
    "start_time": "2023-08-24T20:45:22.112Z"
   },
   {
    "duration": 79,
    "start_time": "2023-08-24T20:45:22.141Z"
   },
   {
    "duration": 5,
    "start_time": "2023-08-24T20:45:22.222Z"
   },
   {
    "duration": 22,
    "start_time": "2023-08-24T20:45:22.229Z"
   },
   {
    "duration": 1047,
    "start_time": "2023-08-24T20:45:22.310Z"
   },
   {
    "duration": 2,
    "start_time": "2023-08-24T20:45:23.359Z"
   },
   {
    "duration": 1050,
    "start_time": "2023-08-24T20:45:23.363Z"
   },
   {
    "duration": 23,
    "start_time": "2023-08-24T20:45:24.415Z"
   },
   {
    "duration": 10,
    "start_time": "2023-08-24T20:45:24.439Z"
   },
   {
    "duration": 38,
    "start_time": "2023-08-24T20:45:24.450Z"
   },
   {
    "duration": 129,
    "start_time": "2023-08-24T20:45:24.490Z"
   },
   {
    "duration": 11,
    "start_time": "2023-08-24T20:45:24.623Z"
   },
   {
    "duration": 346,
    "start_time": "2023-08-24T20:45:24.636Z"
   },
   {
    "duration": 45,
    "start_time": "2023-08-24T20:45:24.983Z"
   },
   {
    "duration": 9,
    "start_time": "2023-08-24T20:45:25.030Z"
   },
   {
    "duration": 7,
    "start_time": "2023-08-24T20:45:25.041Z"
   },
   {
    "duration": 60,
    "start_time": "2023-08-24T20:45:25.050Z"
   },
   {
    "duration": 8,
    "start_time": "2023-08-24T20:45:25.112Z"
   },
   {
    "duration": 23,
    "start_time": "2023-08-24T20:45:25.122Z"
   },
   {
    "duration": 97,
    "start_time": "2023-08-24T20:45:25.147Z"
   },
   {
    "duration": 7,
    "start_time": "2023-08-24T20:45:25.246Z"
   },
   {
    "duration": 24,
    "start_time": "2023-08-24T20:45:25.255Z"
   },
   {
    "duration": 20,
    "start_time": "2023-08-24T20:45:25.281Z"
   },
   {
    "duration": 26,
    "start_time": "2023-08-24T20:45:25.303Z"
   },
   {
    "duration": 32,
    "start_time": "2023-08-24T20:45:25.332Z"
   },
   {
    "duration": 47,
    "start_time": "2023-08-24T20:45:25.366Z"
   },
   {
    "duration": 38,
    "start_time": "2023-08-24T20:45:25.415Z"
   },
   {
    "duration": 4,
    "start_time": "2023-08-24T20:45:25.455Z"
   },
   {
    "duration": 51,
    "start_time": "2023-08-24T20:45:25.460Z"
   },
   {
    "duration": 128,
    "start_time": "2023-08-24T20:45:25.513Z"
   },
   {
    "duration": 699,
    "start_time": "2023-08-24T20:45:25.643Z"
   },
   {
    "duration": 158,
    "start_time": "2023-08-24T20:45:26.344Z"
   },
   {
    "duration": 180,
    "start_time": "2023-08-24T20:45:26.509Z"
   },
   {
    "duration": 988,
    "start_time": "2023-08-24T20:45:26.691Z"
   },
   {
    "duration": 137,
    "start_time": "2023-08-24T20:45:27.681Z"
   },
   {
    "duration": 18,
    "start_time": "2023-08-24T20:45:27.820Z"
   },
   {
    "duration": 1375,
    "start_time": "2023-08-24T20:52:18.475Z"
   },
   {
    "duration": 6,
    "start_time": "2023-08-24T20:52:19.852Z"
   },
   {
    "duration": 948,
    "start_time": "2023-08-24T20:52:19.859Z"
   },
   {
    "duration": 35,
    "start_time": "2023-08-24T20:52:20.809Z"
   },
   {
    "duration": 100,
    "start_time": "2023-08-24T20:52:20.846Z"
   },
   {
    "duration": 435,
    "start_time": "2023-08-24T20:52:20.948Z"
   },
   {
    "duration": 30,
    "start_time": "2023-08-24T20:52:21.384Z"
   },
   {
    "duration": 145,
    "start_time": "2023-08-24T20:52:21.416Z"
   },
   {
    "duration": 208,
    "start_time": "2023-08-24T20:52:21.563Z"
   },
   {
    "duration": 15,
    "start_time": "2023-08-24T20:52:21.774Z"
   },
   {
    "duration": 32,
    "start_time": "2023-08-24T20:52:21.791Z"
   },
   {
    "duration": 30,
    "start_time": "2023-08-24T20:52:21.825Z"
   },
   {
    "duration": 15,
    "start_time": "2023-08-24T20:52:21.857Z"
   },
   {
    "duration": 9,
    "start_time": "2023-08-24T20:52:21.874Z"
   },
   {
    "duration": 23,
    "start_time": "2023-08-24T20:52:21.884Z"
   },
   {
    "duration": 16,
    "start_time": "2023-08-24T20:52:21.909Z"
   },
   {
    "duration": 28,
    "start_time": "2023-08-24T20:52:21.926Z"
   },
   {
    "duration": 17,
    "start_time": "2023-08-24T20:52:21.955Z"
   },
   {
    "duration": 11,
    "start_time": "2023-08-24T20:52:21.974Z"
   },
   {
    "duration": 34,
    "start_time": "2023-08-24T20:52:21.987Z"
   },
   {
    "duration": 756,
    "start_time": "2023-08-24T20:52:22.023Z"
   },
   {
    "duration": 3,
    "start_time": "2023-08-24T20:52:22.781Z"
   },
   {
    "duration": 1043,
    "start_time": "2023-08-24T20:52:22.785Z"
   },
   {
    "duration": 23,
    "start_time": "2023-08-24T20:52:23.830Z"
   },
   {
    "duration": 10,
    "start_time": "2023-08-24T20:52:23.854Z"
   },
   {
    "duration": 51,
    "start_time": "2023-08-24T20:52:23.866Z"
   },
   {
    "duration": 114,
    "start_time": "2023-08-24T20:52:23.919Z"
   },
   {
    "duration": 11,
    "start_time": "2023-08-24T20:52:24.036Z"
   },
   {
    "duration": 350,
    "start_time": "2023-08-24T20:52:24.048Z"
   },
   {
    "duration": 37,
    "start_time": "2023-08-24T20:52:24.399Z"
   },
   {
    "duration": 8,
    "start_time": "2023-08-24T20:52:24.437Z"
   },
   {
    "duration": 9,
    "start_time": "2023-08-24T20:52:24.447Z"
   },
   {
    "duration": 52,
    "start_time": "2023-08-24T20:52:24.458Z"
   },
   {
    "duration": 7,
    "start_time": "2023-08-24T20:52:24.512Z"
   },
   {
    "duration": 42,
    "start_time": "2023-08-24T20:52:24.520Z"
   },
   {
    "duration": 84,
    "start_time": "2023-08-24T20:52:24.564Z"
   },
   {
    "duration": 6,
    "start_time": "2023-08-24T20:52:24.649Z"
   },
   {
    "duration": 7,
    "start_time": "2023-08-24T20:52:24.657Z"
   },
   {
    "duration": 10,
    "start_time": "2023-08-24T20:52:24.665Z"
   },
   {
    "duration": 37,
    "start_time": "2023-08-24T20:52:24.676Z"
   },
   {
    "duration": 14,
    "start_time": "2023-08-24T20:52:24.715Z"
   },
   {
    "duration": 46,
    "start_time": "2023-08-24T20:52:24.731Z"
   },
   {
    "duration": 45,
    "start_time": "2023-08-24T20:52:24.779Z"
   },
   {
    "duration": 4,
    "start_time": "2023-08-24T20:52:24.826Z"
   },
   {
    "duration": 28,
    "start_time": "2023-08-24T20:52:24.831Z"
   },
   {
    "duration": 116,
    "start_time": "2023-08-24T20:52:24.861Z"
   },
   {
    "duration": 897,
    "start_time": "2023-08-24T20:52:24.979Z"
   },
   {
    "duration": 160,
    "start_time": "2023-08-24T20:52:25.878Z"
   },
   {
    "duration": 190,
    "start_time": "2023-08-24T20:52:26.040Z"
   },
   {
    "duration": 911,
    "start_time": "2023-08-24T20:52:26.232Z"
   },
   {
    "duration": 101,
    "start_time": "2023-08-24T20:52:27.145Z"
   },
   {
    "duration": 71,
    "start_time": "2023-08-24T20:52:27.248Z"
   },
   {
    "duration": 21,
    "start_time": "2023-08-24T20:54:00.837Z"
   }
  ],
  "kernelspec": {
   "display_name": "Python 3 (ipykernel)",
   "language": "python",
   "name": "python3"
  },
  "language_info": {
   "codemirror_mode": {
    "name": "ipython",
    "version": 3
   },
   "file_extension": ".py",
   "mimetype": "text/x-python",
   "name": "python",
   "nbconvert_exporter": "python",
   "pygments_lexer": "ipython3",
   "version": "3.9.13"
  },
  "toc": {
   "base_numbering": 1,
   "nav_menu": {
    "height": "200px",
    "width": "350px"
   },
   "number_sections": true,
   "sideBar": true,
   "skip_h1_title": true,
   "title_cell": "Table of Contents",
   "title_sidebar": "Contents",
   "toc_cell": false,
   "toc_position": {},
   "toc_section_display": true,
   "toc_window_display": true
  }
 },
 "nbformat": 4,
 "nbformat_minor": 2
}
